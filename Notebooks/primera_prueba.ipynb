{
 "cells": [
  {
   "cell_type": "code",
   "execution_count": 2,
   "id": "4b9b0806",
   "metadata": {},
   "outputs": [
    {
     "data": {
      "text/plain": [
       "'../data'"
      ]
     },
     "execution_count": 2,
     "metadata": {},
     "output_type": "execute_result"
    }
   ],
   "source": [
    "working_dir = \"../data\"\n",
    "working_dir"
   ]
  },
  {
   "cell_type": "code",
   "execution_count": 3,
   "id": "00514588",
   "metadata": {},
   "outputs": [],
   "source": [
    "import pandas as pd\n",
    "df = pd.read_excel(f\"{working_dir}/Vehiculos_afectos_a_IPV_Ene-Mar_2025_3.xlsx\")"
   ]
  },
  {
   "cell_type": "code",
   "execution_count": 4,
   "id": "9b3f8745",
   "metadata": {},
   "outputs": [
    {
     "data": {
      "text/html": [
       "<div>\n",
       "<style scoped>\n",
       "    .dataframe tbody tr th:only-of-type {\n",
       "        vertical-align: middle;\n",
       "    }\n",
       "\n",
       "    .dataframe tbody tr th {\n",
       "        vertical-align: top;\n",
       "    }\n",
       "\n",
       "    .dataframe thead th {\n",
       "        text-align: right;\n",
       "    }\n",
       "</style>\n",
       "<table border=\"1\" class=\"dataframe\">\n",
       "  <thead>\n",
       "    <tr style=\"text-align: right;\">\n",
       "      <th></th>\n",
       "      <th>N° registro</th>\n",
       "      <th>Nº persona</th>\n",
       "      <th>Tipo persona</th>\n",
       "      <th>Tipo contribuyente</th>\n",
       "      <th>Distrito domicilio fiscal</th>\n",
       "      <th>Porcentaje propiedad</th>\n",
       "      <th>Correlativo</th>\n",
       "      <th>Fecha adquisición vehículo</th>\n",
       "      <th>Fecha 1ra inscripción SUNARP</th>\n",
       "      <th>Clase vehículo</th>\n",
       "      <th>Categoría vehículo</th>\n",
       "      <th>Marca</th>\n",
       "      <th>Modelo</th>\n",
       "      <th>Valor adquisición (US $)</th>\n",
       "      <th>Valor adquisición (S/)</th>\n",
       "      <th>Valor referencial 2025 (S/)</th>\n",
       "    </tr>\n",
       "  </thead>\n",
       "  <tbody>\n",
       "    <tr>\n",
       "      <th>0</th>\n",
       "      <td>1018115191</td>\n",
       "      <td>2311249402</td>\n",
       "      <td>Persona Natural</td>\n",
       "      <td>Pequeño</td>\n",
       "      <td>ANCON</td>\n",
       "      <td>100.0</td>\n",
       "      <td>1911465</td>\n",
       "      <td>2022-12-24</td>\n",
       "      <td>2022-12-29</td>\n",
       "      <td>Camioneta</td>\n",
       "      <td>B1, B2, B3, B4 (Pick up/otros)</td>\n",
       "      <td>FORD</td>\n",
       "      <td>BRONCO SPORT BIG BEND 4X4</td>\n",
       "      <td>39090.0</td>\n",
       "      <td>149323.8</td>\n",
       "      <td>126060</td>\n",
       "    </tr>\n",
       "    <tr>\n",
       "      <th>1</th>\n",
       "      <td>1056099842</td>\n",
       "      <td>6690559162</td>\n",
       "      <td>Persona Natural</td>\n",
       "      <td>Pequeño</td>\n",
       "      <td>ANCON</td>\n",
       "      <td>100.0</td>\n",
       "      <td>2048050</td>\n",
       "      <td>2024-04-20</td>\n",
       "      <td>2024-05-15</td>\n",
       "      <td>Camioneta</td>\n",
       "      <td>B1, B2, B3, B4 (Pick up/otros)</td>\n",
       "      <td>CHEVROLET</td>\n",
       "      <td>N400 1.5 MT PASAJEROS BASE</td>\n",
       "      <td>13990.0</td>\n",
       "      <td>52462.5</td>\n",
       "      <td>48930</td>\n",
       "    </tr>\n",
       "    <tr>\n",
       "      <th>2</th>\n",
       "      <td>1059017867</td>\n",
       "      <td>7789077745</td>\n",
       "      <td>Persona Natural</td>\n",
       "      <td>Pequeño</td>\n",
       "      <td>ANCON</td>\n",
       "      <td>100.0</td>\n",
       "      <td>1963261</td>\n",
       "      <td>2023-04-28</td>\n",
       "      <td>2023-05-30</td>\n",
       "      <td>Camioneta</td>\n",
       "      <td>B1, B2, B3, B4 (Pick up/otros)</td>\n",
       "      <td>PEUGEOT</td>\n",
       "      <td>3008 GT LINE 1.6 THP EAT6 165</td>\n",
       "      <td>42490.0</td>\n",
       "      <td>158062.8</td>\n",
       "      <td>136190</td>\n",
       "    </tr>\n",
       "    <tr>\n",
       "      <th>3</th>\n",
       "      <td>1067681437</td>\n",
       "      <td>2364381756</td>\n",
       "      <td>Sociedad Conyugal</td>\n",
       "      <td>Pequeño</td>\n",
       "      <td>ANCON</td>\n",
       "      <td>100.0</td>\n",
       "      <td>1884946</td>\n",
       "      <td>2022-09-23</td>\n",
       "      <td>2022-10-27</td>\n",
       "      <td>Automóvil</td>\n",
       "      <td>A2 (De 1051 a 1500 cc)</td>\n",
       "      <td>HYUNDAI</td>\n",
       "      <td>GRAND I10 GL</td>\n",
       "      <td>14590.0</td>\n",
       "      <td>58068.2</td>\n",
       "      <td>40850</td>\n",
       "    </tr>\n",
       "    <tr>\n",
       "      <th>4</th>\n",
       "      <td>1076732977</td>\n",
       "      <td>2202287071</td>\n",
       "      <td>Persona Natural</td>\n",
       "      <td>Pequeño</td>\n",
       "      <td>ANCON</td>\n",
       "      <td>100.0</td>\n",
       "      <td>1949260</td>\n",
       "      <td>2023-05-30</td>\n",
       "      <td>2023-06-02</td>\n",
       "      <td>Camioneta</td>\n",
       "      <td>B1, B2, B3, B4 (Pick up/otros)</td>\n",
       "      <td>JETOUR</td>\n",
       "      <td>X70 1.5T MEC 4X2 CONFORT</td>\n",
       "      <td>15820.0</td>\n",
       "      <td>58217.6</td>\n",
       "      <td>64070</td>\n",
       "    </tr>\n",
       "  </tbody>\n",
       "</table>\n",
       "</div>"
      ],
      "text/plain": [
       "   N° registro  Nº persona       Tipo persona Tipo contribuyente  \\\n",
       "0   1018115191  2311249402    Persona Natural            Pequeño   \n",
       "1   1056099842  6690559162    Persona Natural            Pequeño   \n",
       "2   1059017867  7789077745    Persona Natural            Pequeño   \n",
       "3   1067681437  2364381756  Sociedad Conyugal            Pequeño   \n",
       "4   1076732977  2202287071    Persona Natural            Pequeño   \n",
       "\n",
       "  Distrito domicilio fiscal  Porcentaje propiedad  Correlativo  \\\n",
       "0                     ANCON                 100.0      1911465   \n",
       "1                     ANCON                 100.0      2048050   \n",
       "2                     ANCON                 100.0      1963261   \n",
       "3                     ANCON                 100.0      1884946   \n",
       "4                     ANCON                 100.0      1949260   \n",
       "\n",
       "  Fecha adquisición vehículo Fecha 1ra inscripción SUNARP Clase vehículo  \\\n",
       "0                 2022-12-24                   2022-12-29      Camioneta   \n",
       "1                 2024-04-20                   2024-05-15      Camioneta   \n",
       "2                 2023-04-28                   2023-05-30      Camioneta   \n",
       "3                 2022-09-23                   2022-10-27      Automóvil   \n",
       "4                 2023-05-30                   2023-06-02      Camioneta   \n",
       "\n",
       "               Categoría vehículo      Marca                         Modelo  \\\n",
       "0  B1, B2, B3, B4 (Pick up/otros)       FORD      BRONCO SPORT BIG BEND 4X4   \n",
       "1  B1, B2, B3, B4 (Pick up/otros)  CHEVROLET     N400 1.5 MT PASAJEROS BASE   \n",
       "2  B1, B2, B3, B4 (Pick up/otros)    PEUGEOT  3008 GT LINE 1.6 THP EAT6 165   \n",
       "3          A2 (De 1051 a 1500 cc)    HYUNDAI                   GRAND I10 GL   \n",
       "4  B1, B2, B3, B4 (Pick up/otros)     JETOUR       X70 1.5T MEC 4X2 CONFORT   \n",
       "\n",
       "   Valor adquisición (US $)  Valor adquisición (S/)  \\\n",
       "0                   39090.0                149323.8   \n",
       "1                   13990.0                 52462.5   \n",
       "2                   42490.0                158062.8   \n",
       "3                   14590.0                 58068.2   \n",
       "4                   15820.0                 58217.6   \n",
       "\n",
       "   Valor referencial 2025 (S/)  \n",
       "0                       126060  \n",
       "1                        48930  \n",
       "2                       136190  \n",
       "3                        40850  \n",
       "4                        64070  "
      ]
     },
     "execution_count": 4,
     "metadata": {},
     "output_type": "execute_result"
    }
   ],
   "source": [
    "df.head()"
   ]
  },
  {
   "cell_type": "code",
   "execution_count": 5,
   "id": "e1e0e776",
   "metadata": {},
   "outputs": [
    {
     "data": {
      "text/plain": [
       "(251817, 16)"
      ]
     },
     "execution_count": 5,
     "metadata": {},
     "output_type": "execute_result"
    }
   ],
   "source": [
    "df.shape"
   ]
  },
  {
   "cell_type": "code",
   "execution_count": 9,
   "id": "6e9da7bc",
   "metadata": {},
   "outputs": [
    {
     "name": "stdout",
     "output_type": "stream",
     "text": [
      "<class 'pandas.core.frame.DataFrame'>\n",
      "RangeIndex: 251817 entries, 0 to 251816\n",
      "Data columns (total 16 columns):\n",
      " #   Column                        Non-Null Count   Dtype         \n",
      "---  ------                        --------------   -----         \n",
      " 0   N° registro                   251817 non-null  int64         \n",
      " 1   Nº persona                    251817 non-null  int64         \n",
      " 2   Tipo persona                  251817 non-null  object        \n",
      " 3   Tipo contribuyente            251817 non-null  object        \n",
      " 4   Distrito domicilio fiscal     251817 non-null  object        \n",
      " 5   Porcentaje propiedad          251817 non-null  float64       \n",
      " 6   Correlativo                   251817 non-null  int64         \n",
      " 7   Fecha adquisición vehículo    251817 non-null  datetime64[ns]\n",
      " 8   Fecha 1ra inscripción SUNARP  251817 non-null  datetime64[ns]\n",
      " 9   Clase vehículo                251817 non-null  object        \n",
      " 10  Categoría vehículo            251817 non-null  object        \n",
      " 11  Marca                         251817 non-null  object        \n",
      " 12  Modelo                        251817 non-null  object        \n",
      " 13  Valor adquisición (US $)      251817 non-null  float64       \n",
      " 14  Valor adquisición (S/)        251817 non-null  float64       \n",
      " 15  Valor referencial 2025 (S/)   251817 non-null  int64         \n",
      "dtypes: datetime64[ns](2), float64(3), int64(4), object(7)\n",
      "memory usage: 30.7+ MB\n"
     ]
    }
   ],
   "source": [
    "df.info()"
   ]
  },
  {
   "cell_type": "code",
   "execution_count": 18,
   "id": "136cf17a",
   "metadata": {},
   "outputs": [
    {
     "data": {
      "text/plain": [
       "Index(['registro_num', 'persona_num', 'tipo_persona', 'tipo_contribuyente',\n",
       "       'distrito_domicilio', 'porcentaje_propiedad', 'correlativo',\n",
       "       'fecha_adquisicion', 'fecha_inscripcion_sunarp', 'clase_vehiculo',\n",
       "       'categoria_vehiculo', 'marca', 'modelo', 'valor_usd', 'valor_pen',\n",
       "       'valor_referencial_2025'],\n",
       "      dtype='object')"
      ]
     },
     "execution_count": 18,
     "metadata": {},
     "output_type": "execute_result"
    }
   ],
   "source": [
    "df = df.rename(columns={\n",
    "    'N° registro': 'registro_num',\n",
    "    'Nº persona': 'persona_num',\n",
    "    'Tipo persona': 'tipo_persona',\n",
    "    'Tipo contribuyente': 'tipo_contribuyente',\n",
    "    'Distrito domicilio fiscal': 'distrito_domicilio',\n",
    "    'Porcentaje propiedad': 'porcentaje_propiedad',\n",
    "    'Correlativo': 'correlativo',\n",
    "    'Fecha adquisición vehículo': 'fecha_adquisicion',\n",
    "    'Fecha 1ra inscripción SUNARP': 'fecha_inscripcion_sunarp',\n",
    "    'Clase vehículo': 'clase_vehiculo',\n",
    "    'Categoría vehículo': 'categoria_vehiculo',\n",
    "    'Marca': 'marca',\n",
    "    'Modelo': 'modelo',\n",
    "    'Valor adquisición (US $)': 'valor_usd',\n",
    "    'Valor adquisición (S/)': 'valor_pen',\n",
    "    'Valor referencial 2025 (S/)': 'valor_referencial_2025'\n",
    "})\n",
    "df.columns"
   ]
  },
  {
   "cell_type": "code",
   "execution_count": 19,
   "id": "ad9fdc33",
   "metadata": {},
   "outputs": [
    {
     "data": {
      "text/plain": [
       "registro_num                251812\n",
       "persona_num                 251810\n",
       "tipo_persona                     6\n",
       "tipo_contribuyente               3\n",
       "distrito_domicilio              48\n",
       "porcentaje_propiedad            39\n",
       "correlativo                 250853\n",
       "fecha_adquisicion             1256\n",
       "fecha_inscripcion_sunarp       908\n",
       "clase_vehiculo                   6\n",
       "categoria_vehiculo               8\n",
       "marca                          133\n",
       "modelo                        3775\n",
       "valor_usd                    35716\n",
       "valor_pen                    81333\n",
       "valor_referencial_2025        7138\n",
       "dtype: int64"
      ]
     },
     "execution_count": 19,
     "metadata": {},
     "output_type": "execute_result"
    }
   ],
   "source": [
    "df.nunique()"
   ]
  },
  {
   "cell_type": "code",
   "execution_count": null,
   "id": "39d2eb2d",
   "metadata": {},
   "outputs": [],
   "source": [
    "    "
   ]
  }
 ],
 "metadata": {
  "kernelspec": {
   "display_name": "datospucp",
   "language": "python",
   "name": "python3"
  },
  "language_info": {
   "codemirror_mode": {
    "name": "ipython",
    "version": 3
   },
   "file_extension": ".py",
   "mimetype": "text/x-python",
   "name": "python",
   "nbconvert_exporter": "python",
   "pygments_lexer": "ipython3",
   "version": "3.13.7"
  }
 },
 "nbformat": 4,
 "nbformat_minor": 5
}
