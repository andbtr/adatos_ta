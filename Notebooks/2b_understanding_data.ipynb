{
 "cells": [
  {
   "cell_type": "markdown",
   "id": "08ea705a",
   "metadata": {},
   "source": [
    "# 2b Understanding Data"
   ]
  },
  {
   "cell_type": "code",
   "execution_count": 6,
   "id": "4b9b0806",
   "metadata": {},
   "outputs": [
    {
     "data": {
      "text/plain": [
       "'../data'"
      ]
     },
     "execution_count": 6,
     "metadata": {},
     "output_type": "execute_result"
    }
   ],
   "source": [
    "working_dir = \"../data\"\n",
    "working_dir"
   ]
  },
  {
   "cell_type": "code",
   "execution_count": 7,
   "id": "00514588",
   "metadata": {},
   "outputs": [],
   "source": [
    "import pandas as pd\n",
    "df = pd.read_excel(f\"{working_dir}/Vehiculos_afectos_a_IPV_Ene-Mar_2025_3.xlsx\")"
   ]
  },
  {
   "cell_type": "code",
   "execution_count": 8,
   "id": "9b3f8745",
   "metadata": {},
   "outputs": [
    {
     "data": {
      "text/html": [
       "<div>\n",
       "<style scoped>\n",
       "    .dataframe tbody tr th:only-of-type {\n",
       "        vertical-align: middle;\n",
       "    }\n",
       "\n",
       "    .dataframe tbody tr th {\n",
       "        vertical-align: top;\n",
       "    }\n",
       "\n",
       "    .dataframe thead th {\n",
       "        text-align: right;\n",
       "    }\n",
       "</style>\n",
       "<table border=\"1\" class=\"dataframe\">\n",
       "  <thead>\n",
       "    <tr style=\"text-align: right;\">\n",
       "      <th></th>\n",
       "      <th>N° registro</th>\n",
       "      <th>Nº persona</th>\n",
       "      <th>Tipo persona</th>\n",
       "      <th>Tipo contribuyente</th>\n",
       "      <th>Distrito domicilio fiscal</th>\n",
       "      <th>Porcentaje propiedad</th>\n",
       "      <th>Correlativo</th>\n",
       "      <th>Fecha adquisición vehículo</th>\n",
       "      <th>Fecha 1ra inscripción SUNARP</th>\n",
       "      <th>Clase vehículo</th>\n",
       "      <th>Categoría vehículo</th>\n",
       "      <th>Marca</th>\n",
       "      <th>Modelo</th>\n",
       "      <th>Valor adquisición (US $)</th>\n",
       "      <th>Valor adquisición (S/)</th>\n",
       "      <th>Valor referencial 2025 (S/)</th>\n",
       "    </tr>\n",
       "  </thead>\n",
       "  <tbody>\n",
       "    <tr>\n",
       "      <th>0</th>\n",
       "      <td>1018115191</td>\n",
       "      <td>2311249402</td>\n",
       "      <td>Persona Natural</td>\n",
       "      <td>Pequeño</td>\n",
       "      <td>ANCON</td>\n",
       "      <td>100.0</td>\n",
       "      <td>1911465</td>\n",
       "      <td>2022-12-24</td>\n",
       "      <td>2022-12-29</td>\n",
       "      <td>Camioneta</td>\n",
       "      <td>B1, B2, B3, B4 (Pick up/otros)</td>\n",
       "      <td>FORD</td>\n",
       "      <td>BRONCO SPORT BIG BEND 4X4</td>\n",
       "      <td>39090.0</td>\n",
       "      <td>149323.8</td>\n",
       "      <td>126060</td>\n",
       "    </tr>\n",
       "    <tr>\n",
       "      <th>1</th>\n",
       "      <td>1056099842</td>\n",
       "      <td>6690559162</td>\n",
       "      <td>Persona Natural</td>\n",
       "      <td>Pequeño</td>\n",
       "      <td>ANCON</td>\n",
       "      <td>100.0</td>\n",
       "      <td>2048050</td>\n",
       "      <td>2024-04-20</td>\n",
       "      <td>2024-05-15</td>\n",
       "      <td>Camioneta</td>\n",
       "      <td>B1, B2, B3, B4 (Pick up/otros)</td>\n",
       "      <td>CHEVROLET</td>\n",
       "      <td>N400 1.5 MT PASAJEROS BASE</td>\n",
       "      <td>13990.0</td>\n",
       "      <td>52462.5</td>\n",
       "      <td>48930</td>\n",
       "    </tr>\n",
       "    <tr>\n",
       "      <th>2</th>\n",
       "      <td>1059017867</td>\n",
       "      <td>7789077745</td>\n",
       "      <td>Persona Natural</td>\n",
       "      <td>Pequeño</td>\n",
       "      <td>ANCON</td>\n",
       "      <td>100.0</td>\n",
       "      <td>1963261</td>\n",
       "      <td>2023-04-28</td>\n",
       "      <td>2023-05-30</td>\n",
       "      <td>Camioneta</td>\n",
       "      <td>B1, B2, B3, B4 (Pick up/otros)</td>\n",
       "      <td>PEUGEOT</td>\n",
       "      <td>3008 GT LINE 1.6 THP EAT6 165</td>\n",
       "      <td>42490.0</td>\n",
       "      <td>158062.8</td>\n",
       "      <td>136190</td>\n",
       "    </tr>\n",
       "    <tr>\n",
       "      <th>3</th>\n",
       "      <td>1067681437</td>\n",
       "      <td>2364381756</td>\n",
       "      <td>Sociedad Conyugal</td>\n",
       "      <td>Pequeño</td>\n",
       "      <td>ANCON</td>\n",
       "      <td>100.0</td>\n",
       "      <td>1884946</td>\n",
       "      <td>2022-09-23</td>\n",
       "      <td>2022-10-27</td>\n",
       "      <td>Automóvil</td>\n",
       "      <td>A2 (De 1051 a 1500 cc)</td>\n",
       "      <td>HYUNDAI</td>\n",
       "      <td>GRAND I10 GL</td>\n",
       "      <td>14590.0</td>\n",
       "      <td>58068.2</td>\n",
       "      <td>40850</td>\n",
       "    </tr>\n",
       "    <tr>\n",
       "      <th>4</th>\n",
       "      <td>1076732977</td>\n",
       "      <td>2202287071</td>\n",
       "      <td>Persona Natural</td>\n",
       "      <td>Pequeño</td>\n",
       "      <td>ANCON</td>\n",
       "      <td>100.0</td>\n",
       "      <td>1949260</td>\n",
       "      <td>2023-05-30</td>\n",
       "      <td>2023-06-02</td>\n",
       "      <td>Camioneta</td>\n",
       "      <td>B1, B2, B3, B4 (Pick up/otros)</td>\n",
       "      <td>JETOUR</td>\n",
       "      <td>X70 1.5T MEC 4X2 CONFORT</td>\n",
       "      <td>15820.0</td>\n",
       "      <td>58217.6</td>\n",
       "      <td>64070</td>\n",
       "    </tr>\n",
       "  </tbody>\n",
       "</table>\n",
       "</div>"
      ],
      "text/plain": [
       "   N° registro  Nº persona       Tipo persona Tipo contribuyente  \\\n",
       "0   1018115191  2311249402    Persona Natural            Pequeño   \n",
       "1   1056099842  6690559162    Persona Natural            Pequeño   \n",
       "2   1059017867  7789077745    Persona Natural            Pequeño   \n",
       "3   1067681437  2364381756  Sociedad Conyugal            Pequeño   \n",
       "4   1076732977  2202287071    Persona Natural            Pequeño   \n",
       "\n",
       "  Distrito domicilio fiscal  Porcentaje propiedad  Correlativo  \\\n",
       "0                     ANCON                 100.0      1911465   \n",
       "1                     ANCON                 100.0      2048050   \n",
       "2                     ANCON                 100.0      1963261   \n",
       "3                     ANCON                 100.0      1884946   \n",
       "4                     ANCON                 100.0      1949260   \n",
       "\n",
       "  Fecha adquisición vehículo Fecha 1ra inscripción SUNARP Clase vehículo  \\\n",
       "0                 2022-12-24                   2022-12-29      Camioneta   \n",
       "1                 2024-04-20                   2024-05-15      Camioneta   \n",
       "2                 2023-04-28                   2023-05-30      Camioneta   \n",
       "3                 2022-09-23                   2022-10-27      Automóvil   \n",
       "4                 2023-05-30                   2023-06-02      Camioneta   \n",
       "\n",
       "               Categoría vehículo      Marca                         Modelo  \\\n",
       "0  B1, B2, B3, B4 (Pick up/otros)       FORD      BRONCO SPORT BIG BEND 4X4   \n",
       "1  B1, B2, B3, B4 (Pick up/otros)  CHEVROLET     N400 1.5 MT PASAJEROS BASE   \n",
       "2  B1, B2, B3, B4 (Pick up/otros)    PEUGEOT  3008 GT LINE 1.6 THP EAT6 165   \n",
       "3          A2 (De 1051 a 1500 cc)    HYUNDAI                   GRAND I10 GL   \n",
       "4  B1, B2, B3, B4 (Pick up/otros)     JETOUR       X70 1.5T MEC 4X2 CONFORT   \n",
       "\n",
       "   Valor adquisición (US $)  Valor adquisición (S/)  \\\n",
       "0                   39090.0                149323.8   \n",
       "1                   13990.0                 52462.5   \n",
       "2                   42490.0                158062.8   \n",
       "3                   14590.0                 58068.2   \n",
       "4                   15820.0                 58217.6   \n",
       "\n",
       "   Valor referencial 2025 (S/)  \n",
       "0                       126060  \n",
       "1                        48930  \n",
       "2                       136190  \n",
       "3                        40850  \n",
       "4                        64070  "
      ]
     },
     "execution_count": 8,
     "metadata": {},
     "output_type": "execute_result"
    }
   ],
   "source": [
    "df.head()"
   ]
  },
  {
   "cell_type": "code",
   "execution_count": 9,
   "id": "e1e0e776",
   "metadata": {},
   "outputs": [
    {
     "data": {
      "text/plain": [
       "N° registro                              int64\n",
       "Nº persona                               int64\n",
       "Tipo persona                            object\n",
       "Tipo contribuyente                      object\n",
       "Distrito domicilio fiscal               object\n",
       "Porcentaje propiedad                   float64\n",
       "Correlativo                              int64\n",
       "Fecha adquisición vehículo      datetime64[ns]\n",
       "Fecha 1ra inscripción SUNARP    datetime64[ns]\n",
       "Clase vehículo                          object\n",
       "Categoría vehículo                      object\n",
       "Marca                                   object\n",
       "Modelo                                  object\n",
       "Valor adquisición (US $)               float64\n",
       "Valor adquisición (S/)                 float64\n",
       "Valor referencial 2025 (S/)              int64\n",
       "dtype: object"
      ]
     },
     "execution_count": 9,
     "metadata": {},
     "output_type": "execute_result"
    }
   ],
   "source": [
    "df.dtypes"
   ]
  },
  {
   "cell_type": "code",
   "execution_count": 50,
   "id": "e42e2c41",
   "metadata": {},
   "outputs": [
    {
     "data": {
      "text/plain": [
       "(251817, 16)"
      ]
     },
     "execution_count": 50,
     "metadata": {},
     "output_type": "execute_result"
    }
   ],
   "source": [
    "df.shape"
   ]
  },
  {
   "cell_type": "code",
   "execution_count": 10,
   "id": "19c863d0",
   "metadata": {},
   "outputs": [
    {
     "data": {
      "text/html": [
       "<div>\n",
       "<style scoped>\n",
       "    .dataframe tbody tr th:only-of-type {\n",
       "        vertical-align: middle;\n",
       "    }\n",
       "\n",
       "    .dataframe tbody tr th {\n",
       "        vertical-align: top;\n",
       "    }\n",
       "\n",
       "    .dataframe thead th {\n",
       "        text-align: right;\n",
       "    }\n",
       "</style>\n",
       "<table border=\"1\" class=\"dataframe\">\n",
       "  <thead>\n",
       "    <tr style=\"text-align: right;\">\n",
       "      <th></th>\n",
       "      <th>N° registro</th>\n",
       "      <th>Nº persona</th>\n",
       "      <th>Porcentaje propiedad</th>\n",
       "      <th>Correlativo</th>\n",
       "      <th>Fecha adquisición vehículo</th>\n",
       "      <th>Fecha 1ra inscripción SUNARP</th>\n",
       "      <th>Valor adquisición (US $)</th>\n",
       "      <th>Valor adquisición (S/)</th>\n",
       "      <th>Valor referencial 2025 (S/)</th>\n",
       "    </tr>\n",
       "  </thead>\n",
       "  <tbody>\n",
       "    <tr>\n",
       "      <th>count</th>\n",
       "      <td>2.518170e+05</td>\n",
       "      <td>2.518170e+05</td>\n",
       "      <td>251817.000000</td>\n",
       "      <td>2.518170e+05</td>\n",
       "      <td>251817</td>\n",
       "      <td>251817</td>\n",
       "      <td>2.518170e+05</td>\n",
       "      <td>2.518170e+05</td>\n",
       "      <td>2.518170e+05</td>\n",
       "    </tr>\n",
       "    <tr>\n",
       "      <th>mean</th>\n",
       "      <td>5.498238e+09</td>\n",
       "      <td>5.489583e+09</td>\n",
       "      <td>97.980413</td>\n",
       "      <td>1.972579e+06</td>\n",
       "      <td>2023-07-11 23:09:34.145510400</td>\n",
       "      <td>2023-07-07 08:24:20.603533312</td>\n",
       "      <td>3.164257e+04</td>\n",
       "      <td>1.221931e+05</td>\n",
       "      <td>9.935544e+04</td>\n",
       "    </tr>\n",
       "    <tr>\n",
       "      <th>min</th>\n",
       "      <td>1.000033e+09</td>\n",
       "      <td>1.000023e+09</td>\n",
       "      <td>1.000000</td>\n",
       "      <td>1.594430e+05</td>\n",
       "      <td>2002-04-29 00:00:00</td>\n",
       "      <td>2022-01-01 00:00:00</td>\n",
       "      <td>0.000000e+00</td>\n",
       "      <td>0.000000e+00</td>\n",
       "      <td>3.030000e+03</td>\n",
       "    </tr>\n",
       "    <tr>\n",
       "      <th>25%</th>\n",
       "      <td>3.244594e+09</td>\n",
       "      <td>3.240060e+09</td>\n",
       "      <td>100.000000</td>\n",
       "      <td>1.902390e+06</td>\n",
       "      <td>2022-10-31 00:00:00</td>\n",
       "      <td>2022-10-21 00:00:00</td>\n",
       "      <td>1.549000e+04</td>\n",
       "      <td>5.988990e+04</td>\n",
       "      <td>5.270000e+04</td>\n",
       "    </tr>\n",
       "    <tr>\n",
       "      <th>50%</th>\n",
       "      <td>5.491680e+09</td>\n",
       "      <td>5.486370e+09</td>\n",
       "      <td>100.000000</td>\n",
       "      <td>1.975560e+06</td>\n",
       "      <td>2023-07-19 00:00:00</td>\n",
       "      <td>2023-07-05 00:00:00</td>\n",
       "      <td>2.160800e+04</td>\n",
       "      <td>8.333115e+04</td>\n",
       "      <td>7.159000e+04</td>\n",
       "    </tr>\n",
       "    <tr>\n",
       "      <th>75%</th>\n",
       "      <td>7.755440e+09</td>\n",
       "      <td>7.737593e+09</td>\n",
       "      <td>100.000000</td>\n",
       "      <td>2.044365e+06</td>\n",
       "      <td>2024-03-30 00:00:00</td>\n",
       "      <td>2024-03-22 00:00:00</td>\n",
       "      <td>3.299000e+04</td>\n",
       "      <td>1.264428e+05</td>\n",
       "      <td>1.061100e+05</td>\n",
       "    </tr>\n",
       "    <tr>\n",
       "      <th>max</th>\n",
       "      <td>9.999998e+09</td>\n",
       "      <td>9.999986e+09</td>\n",
       "      <td>100.000000</td>\n",
       "      <td>2.125904e+06</td>\n",
       "      <td>2024-12-31 00:00:00</td>\n",
       "      <td>2024-12-31 00:00:00</td>\n",
       "      <td>2.087420e+06</td>\n",
       "      <td>8.110659e+06</td>\n",
       "      <td>1.427600e+06</td>\n",
       "    </tr>\n",
       "    <tr>\n",
       "      <th>std</th>\n",
       "      <td>2.600844e+09</td>\n",
       "      <td>2.599192e+09</td>\n",
       "      <td>9.956788</td>\n",
       "      <td>8.376850e+04</td>\n",
       "      <td>NaN</td>\n",
       "      <td>NaN</td>\n",
       "      <td>3.811447e+04</td>\n",
       "      <td>1.440493e+05</td>\n",
       "      <td>9.237561e+04</td>\n",
       "    </tr>\n",
       "  </tbody>\n",
       "</table>\n",
       "</div>"
      ],
      "text/plain": [
       "        N° registro    Nº persona  Porcentaje propiedad   Correlativo  \\\n",
       "count  2.518170e+05  2.518170e+05         251817.000000  2.518170e+05   \n",
       "mean   5.498238e+09  5.489583e+09             97.980413  1.972579e+06   \n",
       "min    1.000033e+09  1.000023e+09              1.000000  1.594430e+05   \n",
       "25%    3.244594e+09  3.240060e+09            100.000000  1.902390e+06   \n",
       "50%    5.491680e+09  5.486370e+09            100.000000  1.975560e+06   \n",
       "75%    7.755440e+09  7.737593e+09            100.000000  2.044365e+06   \n",
       "max    9.999998e+09  9.999986e+09            100.000000  2.125904e+06   \n",
       "std    2.600844e+09  2.599192e+09              9.956788  8.376850e+04   \n",
       "\n",
       "          Fecha adquisición vehículo   Fecha 1ra inscripción SUNARP  \\\n",
       "count                         251817                         251817   \n",
       "mean   2023-07-11 23:09:34.145510400  2023-07-07 08:24:20.603533312   \n",
       "min              2002-04-29 00:00:00            2022-01-01 00:00:00   \n",
       "25%              2022-10-31 00:00:00            2022-10-21 00:00:00   \n",
       "50%              2023-07-19 00:00:00            2023-07-05 00:00:00   \n",
       "75%              2024-03-30 00:00:00            2024-03-22 00:00:00   \n",
       "max              2024-12-31 00:00:00            2024-12-31 00:00:00   \n",
       "std                              NaN                            NaN   \n",
       "\n",
       "       Valor adquisición (US $)  Valor adquisición (S/)  \\\n",
       "count              2.518170e+05            2.518170e+05   \n",
       "mean               3.164257e+04            1.221931e+05   \n",
       "min                0.000000e+00            0.000000e+00   \n",
       "25%                1.549000e+04            5.988990e+04   \n",
       "50%                2.160800e+04            8.333115e+04   \n",
       "75%                3.299000e+04            1.264428e+05   \n",
       "max                2.087420e+06            8.110659e+06   \n",
       "std                3.811447e+04            1.440493e+05   \n",
       "\n",
       "       Valor referencial 2025 (S/)  \n",
       "count                 2.518170e+05  \n",
       "mean                  9.935544e+04  \n",
       "min                   3.030000e+03  \n",
       "25%                   5.270000e+04  \n",
       "50%                   7.159000e+04  \n",
       "75%                   1.061100e+05  \n",
       "max                   1.427600e+06  \n",
       "std                   9.237561e+04  "
      ]
     },
     "execution_count": 10,
     "metadata": {},
     "output_type": "execute_result"
    }
   ],
   "source": [
    "df.describe()"
   ]
  },
  {
   "cell_type": "code",
   "execution_count": 11,
   "id": "f2c0f7c6",
   "metadata": {},
   "outputs": [
    {
     "data": {
      "text/plain": [
       "N° registro                     251812\n",
       "Nº persona                      251810\n",
       "Tipo persona                         6\n",
       "Tipo contribuyente                   3\n",
       "Distrito domicilio fiscal           48\n",
       "Porcentaje propiedad                39\n",
       "Correlativo                     250853\n",
       "Fecha adquisición vehículo        1256\n",
       "Fecha 1ra inscripción SUNARP       908\n",
       "Clase vehículo                       6\n",
       "Categoría vehículo                   8\n",
       "Marca                              133\n",
       "Modelo                            3775\n",
       "Valor adquisición (US $)         35716\n",
       "Valor adquisición (S/)           81333\n",
       "Valor referencial 2025 (S/)       7138\n",
       "dtype: int64"
      ]
     },
     "execution_count": 11,
     "metadata": {},
     "output_type": "execute_result"
    }
   ],
   "source": [
    "df.nunique()"
   ]
  },
  {
   "cell_type": "code",
   "execution_count": 12,
   "id": "53f9da32",
   "metadata": {},
   "outputs": [
    {
     "data": {
      "text/plain": [
       "N° registro                     251817\n",
       "Nº persona                      251817\n",
       "Tipo persona                    251817\n",
       "Tipo contribuyente              251817\n",
       "Distrito domicilio fiscal       251817\n",
       "Porcentaje propiedad            251817\n",
       "Correlativo                     251817\n",
       "Fecha adquisición vehículo      251817\n",
       "Fecha 1ra inscripción SUNARP    251817\n",
       "Clase vehículo                  251817\n",
       "Categoría vehículo              251817\n",
       "Marca                           251817\n",
       "Modelo                          251817\n",
       "Valor adquisición (US $)        251817\n",
       "Valor adquisición (S/)          251817\n",
       "Valor referencial 2025 (S/)     251817\n",
       "dtype: int64"
      ]
     },
     "execution_count": 12,
     "metadata": {},
     "output_type": "execute_result"
    }
   ],
   "source": [
    "df.notnull().sum()"
   ]
  },
  {
   "cell_type": "markdown",
   "id": "b453920f",
   "metadata": {},
   "source": [
    "No hay nulos"
   ]
  },
  {
   "cell_type": "code",
   "execution_count": 13,
   "id": "c1125301",
   "metadata": {},
   "outputs": [
    {
     "name": "stdout",
     "output_type": "stream",
     "text": [
      "(251817, 16)\n",
      "(251817, 16)\n"
     ]
    }
   ],
   "source": [
    "# Omitimos duplicados\n",
    "print(df.shape)\n",
    "df.drop_duplicates(inplace=True)\n",
    "print(df.shape)"
   ]
  },
  {
   "cell_type": "markdown",
   "id": "d55624da",
   "metadata": {},
   "source": [
    "No hay duplicados"
   ]
  },
  {
   "cell_type": "code",
   "execution_count": 14,
   "id": "8511d78a",
   "metadata": {},
   "outputs": [
    {
     "data": {
      "text/html": [
       "<div>\n",
       "<style scoped>\n",
       "    .dataframe tbody tr th:only-of-type {\n",
       "        vertical-align: middle;\n",
       "    }\n",
       "\n",
       "    .dataframe tbody tr th {\n",
       "        vertical-align: top;\n",
       "    }\n",
       "\n",
       "    .dataframe thead th {\n",
       "        text-align: right;\n",
       "    }\n",
       "</style>\n",
       "<table border=\"1\" class=\"dataframe\">\n",
       "  <thead>\n",
       "    <tr style=\"text-align: right;\">\n",
       "      <th></th>\n",
       "      <th>vacios</th>\n",
       "      <th>vacios%</th>\n",
       "    </tr>\n",
       "  </thead>\n",
       "  <tbody>\n",
       "    <tr>\n",
       "      <th>N° registro</th>\n",
       "      <td>0</td>\n",
       "      <td>0.0</td>\n",
       "    </tr>\n",
       "    <tr>\n",
       "      <th>Nº persona</th>\n",
       "      <td>0</td>\n",
       "      <td>0.0</td>\n",
       "    </tr>\n",
       "    <tr>\n",
       "      <th>Tipo persona</th>\n",
       "      <td>0</td>\n",
       "      <td>0.0</td>\n",
       "    </tr>\n",
       "    <tr>\n",
       "      <th>Tipo contribuyente</th>\n",
       "      <td>0</td>\n",
       "      <td>0.0</td>\n",
       "    </tr>\n",
       "    <tr>\n",
       "      <th>Distrito domicilio fiscal</th>\n",
       "      <td>0</td>\n",
       "      <td>0.0</td>\n",
       "    </tr>\n",
       "    <tr>\n",
       "      <th>Porcentaje propiedad</th>\n",
       "      <td>0</td>\n",
       "      <td>0.0</td>\n",
       "    </tr>\n",
       "    <tr>\n",
       "      <th>Correlativo</th>\n",
       "      <td>0</td>\n",
       "      <td>0.0</td>\n",
       "    </tr>\n",
       "    <tr>\n",
       "      <th>Fecha adquisición vehículo</th>\n",
       "      <td>0</td>\n",
       "      <td>0.0</td>\n",
       "    </tr>\n",
       "    <tr>\n",
       "      <th>Fecha 1ra inscripción SUNARP</th>\n",
       "      <td>0</td>\n",
       "      <td>0.0</td>\n",
       "    </tr>\n",
       "    <tr>\n",
       "      <th>Clase vehículo</th>\n",
       "      <td>0</td>\n",
       "      <td>0.0</td>\n",
       "    </tr>\n",
       "    <tr>\n",
       "      <th>Categoría vehículo</th>\n",
       "      <td>0</td>\n",
       "      <td>0.0</td>\n",
       "    </tr>\n",
       "    <tr>\n",
       "      <th>Marca</th>\n",
       "      <td>0</td>\n",
       "      <td>0.0</td>\n",
       "    </tr>\n",
       "    <tr>\n",
       "      <th>Modelo</th>\n",
       "      <td>0</td>\n",
       "      <td>0.0</td>\n",
       "    </tr>\n",
       "    <tr>\n",
       "      <th>Valor adquisición (US $)</th>\n",
       "      <td>0</td>\n",
       "      <td>0.0</td>\n",
       "    </tr>\n",
       "    <tr>\n",
       "      <th>Valor adquisición (S/)</th>\n",
       "      <td>0</td>\n",
       "      <td>0.0</td>\n",
       "    </tr>\n",
       "    <tr>\n",
       "      <th>Valor referencial 2025 (S/)</th>\n",
       "      <td>0</td>\n",
       "      <td>0.0</td>\n",
       "    </tr>\n",
       "  </tbody>\n",
       "</table>\n",
       "</div>"
      ],
      "text/plain": [
       "                              vacios  vacios%\n",
       "N° registro                        0      0.0\n",
       "Nº persona                         0      0.0\n",
       "Tipo persona                       0      0.0\n",
       "Tipo contribuyente                 0      0.0\n",
       "Distrito domicilio fiscal          0      0.0\n",
       "Porcentaje propiedad               0      0.0\n",
       "Correlativo                        0      0.0\n",
       "Fecha adquisición vehículo         0      0.0\n",
       "Fecha 1ra inscripción SUNARP       0      0.0\n",
       "Clase vehículo                     0      0.0\n",
       "Categoría vehículo                 0      0.0\n",
       "Marca                              0      0.0\n",
       "Modelo                             0      0.0\n",
       "Valor adquisición (US $)           0      0.0\n",
       "Valor adquisición (S/)             0      0.0\n",
       "Valor referencial 2025 (S/)        0      0.0"
      ]
     },
     "execution_count": 14,
     "metadata": {},
     "output_type": "execute_result"
    }
   ],
   "source": [
    "vacios = pd.DataFrame(df.isnull().sum()).sort_values(0,ascending=True)\n",
    "vacios.columns = ['vacios']\n",
    "vacios['vacios%'] = round(vacios['vacios']/df.shape[0], 2)*100\n",
    "vacios"
   ]
  },
  {
   "cell_type": "markdown",
   "id": "3c8520ea",
   "metadata": {},
   "source": [
    "No hay vacios"
   ]
  },
  {
   "cell_type": "code",
   "execution_count": 123,
   "id": "dd2874ad",
   "metadata": {},
   "outputs": [
    {
     "data": {
      "text/plain": [
       "Porcentaje propiedad              0\n",
       "Valor adquisición (US $)       7583\n",
       "Valor adquisición (S/)          107\n",
       "Valor referencial 2025 (S/)       0\n",
       "dtype: int64"
      ]
     },
     "execution_count": 123,
     "metadata": {},
     "output_type": "execute_result"
    }
   ],
   "source": [
    "df_vNumericas.eq(0).sum()"
   ]
  },
  {
   "cell_type": "markdown",
   "id": "cd109d2c",
   "metadata": {},
   "source": [
    "## Resumen para Variables Categóricas"
   ]
  },
  {
   "cell_type": "code",
   "execution_count": 19,
   "id": "b9828c59",
   "metadata": {},
   "outputs": [
    {
     "data": {
      "text/plain": [
       "N° registro                              int64\n",
       "Nº persona                               int64\n",
       "Tipo persona                            object\n",
       "Tipo contribuyente                      object\n",
       "Distrito domicilio fiscal               object\n",
       "Porcentaje propiedad                   float64\n",
       "Correlativo                              int64\n",
       "Fecha adquisición vehículo      datetime64[ns]\n",
       "Fecha 1ra inscripción SUNARP    datetime64[ns]\n",
       "Clase vehículo                          object\n",
       "Categoría vehículo                      object\n",
       "Marca                                   object\n",
       "Modelo                                  object\n",
       "Valor adquisición (US $)               float64\n",
       "Valor adquisición (S/)                 float64\n",
       "Valor referencial 2025 (S/)              int64\n",
       "dtype: object"
      ]
     },
     "execution_count": 19,
     "metadata": {},
     "output_type": "execute_result"
    }
   ],
   "source": [
    "df.dtypes"
   ]
  },
  {
   "cell_type": "code",
   "execution_count": 20,
   "id": "47869e94",
   "metadata": {},
   "outputs": [
    {
     "data": {
      "text/html": [
       "<div>\n",
       "<style scoped>\n",
       "    .dataframe tbody tr th:only-of-type {\n",
       "        vertical-align: middle;\n",
       "    }\n",
       "\n",
       "    .dataframe tbody tr th {\n",
       "        vertical-align: top;\n",
       "    }\n",
       "\n",
       "    .dataframe thead th {\n",
       "        text-align: right;\n",
       "    }\n",
       "</style>\n",
       "<table border=\"1\" class=\"dataframe\">\n",
       "  <thead>\n",
       "    <tr style=\"text-align: right;\">\n",
       "      <th></th>\n",
       "      <th>Tipo persona</th>\n",
       "      <th>Tipo contribuyente</th>\n",
       "      <th>Distrito domicilio fiscal</th>\n",
       "      <th>Clase vehículo</th>\n",
       "      <th>Categoría vehículo</th>\n",
       "      <th>Marca</th>\n",
       "      <th>Modelo</th>\n",
       "    </tr>\n",
       "  </thead>\n",
       "  <tbody>\n",
       "    <tr>\n",
       "      <th>0</th>\n",
       "      <td>Persona Natural</td>\n",
       "      <td>Pequeño</td>\n",
       "      <td>ANCON</td>\n",
       "      <td>Camioneta</td>\n",
       "      <td>B1, B2, B3, B4 (Pick up/otros)</td>\n",
       "      <td>FORD</td>\n",
       "      <td>BRONCO SPORT BIG BEND 4X4</td>\n",
       "    </tr>\n",
       "    <tr>\n",
       "      <th>1</th>\n",
       "      <td>Persona Natural</td>\n",
       "      <td>Pequeño</td>\n",
       "      <td>ANCON</td>\n",
       "      <td>Camioneta</td>\n",
       "      <td>B1, B2, B3, B4 (Pick up/otros)</td>\n",
       "      <td>CHEVROLET</td>\n",
       "      <td>N400 1.5 MT PASAJEROS BASE</td>\n",
       "    </tr>\n",
       "    <tr>\n",
       "      <th>2</th>\n",
       "      <td>Persona Natural</td>\n",
       "      <td>Pequeño</td>\n",
       "      <td>ANCON</td>\n",
       "      <td>Camioneta</td>\n",
       "      <td>B1, B2, B3, B4 (Pick up/otros)</td>\n",
       "      <td>PEUGEOT</td>\n",
       "      <td>3008 GT LINE 1.6 THP EAT6 165</td>\n",
       "    </tr>\n",
       "    <tr>\n",
       "      <th>3</th>\n",
       "      <td>Sociedad Conyugal</td>\n",
       "      <td>Pequeño</td>\n",
       "      <td>ANCON</td>\n",
       "      <td>Automóvil</td>\n",
       "      <td>A2 (De 1051 a 1500 cc)</td>\n",
       "      <td>HYUNDAI</td>\n",
       "      <td>GRAND I10 GL</td>\n",
       "    </tr>\n",
       "    <tr>\n",
       "      <th>4</th>\n",
       "      <td>Persona Natural</td>\n",
       "      <td>Pequeño</td>\n",
       "      <td>ANCON</td>\n",
       "      <td>Camioneta</td>\n",
       "      <td>B1, B2, B3, B4 (Pick up/otros)</td>\n",
       "      <td>JETOUR</td>\n",
       "      <td>X70 1.5T MEC 4X2 CONFORT</td>\n",
       "    </tr>\n",
       "    <tr>\n",
       "      <th>...</th>\n",
       "      <td>...</td>\n",
       "      <td>...</td>\n",
       "      <td>...</td>\n",
       "      <td>...</td>\n",
       "      <td>...</td>\n",
       "      <td>...</td>\n",
       "      <td>...</td>\n",
       "    </tr>\n",
       "    <tr>\n",
       "      <th>251812</th>\n",
       "      <td>Persona Natural</td>\n",
       "      <td>Pequeño</td>\n",
       "      <td>VILLA MARIA DEL TRIUNFO</td>\n",
       "      <td>Camioneta</td>\n",
       "      <td>B1, B2, B3, B4 (Pick up/otros)</td>\n",
       "      <td>HAVAL</td>\n",
       "      <td>OTROS MODELOS TRACCIÓN SIMPLE</td>\n",
       "    </tr>\n",
       "    <tr>\n",
       "      <th>251813</th>\n",
       "      <td>Persona Natural</td>\n",
       "      <td>Pequeño</td>\n",
       "      <td>VILLA MARIA DEL TRIUNFO</td>\n",
       "      <td>Camioneta</td>\n",
       "      <td>B1, B2, B3, B4 (Pick up/otros)</td>\n",
       "      <td>KIA</td>\n",
       "      <td>SELTOS 1.5 CVT EX PLUS</td>\n",
       "    </tr>\n",
       "    <tr>\n",
       "      <th>251814</th>\n",
       "      <td>Persona Natural</td>\n",
       "      <td>Pequeño</td>\n",
       "      <td>VILLA MARIA DEL TRIUNFO</td>\n",
       "      <td>Camioneta</td>\n",
       "      <td>B1, B2, B3, B4 (Pick up/otros)</td>\n",
       "      <td>TOYOTA</td>\n",
       "      <td>HILUX DC 4X4 1GD SR</td>\n",
       "    </tr>\n",
       "    <tr>\n",
       "      <th>251815</th>\n",
       "      <td>Persona Natural</td>\n",
       "      <td>Pequeño</td>\n",
       "      <td>VILLA MARIA DEL TRIUNFO</td>\n",
       "      <td>Camioneta</td>\n",
       "      <td>B1, B2, B3, B4 (Pick up/otros)</td>\n",
       "      <td>NISSAN</td>\n",
       "      <td>KICKS EXCLUSIVE CVT</td>\n",
       "    </tr>\n",
       "    <tr>\n",
       "      <th>251816</th>\n",
       "      <td>Sociedad Conyugal</td>\n",
       "      <td>Pequeño</td>\n",
       "      <td>VILLA MARIA DEL TRIUNFO</td>\n",
       "      <td>Camioneta</td>\n",
       "      <td>B1, B2, B3, B4 (Pick up/otros)</td>\n",
       "      <td>VOLKSWAGEN</td>\n",
       "      <td>T-CROSS COMFORTLINE 200 TSI TIP</td>\n",
       "    </tr>\n",
       "  </tbody>\n",
       "</table>\n",
       "<p>251817 rows × 7 columns</p>\n",
       "</div>"
      ],
      "text/plain": [
       "             Tipo persona Tipo contribuyente Distrito domicilio fiscal  \\\n",
       "0         Persona Natural            Pequeño                     ANCON   \n",
       "1         Persona Natural            Pequeño                     ANCON   \n",
       "2         Persona Natural            Pequeño                     ANCON   \n",
       "3       Sociedad Conyugal            Pequeño                     ANCON   \n",
       "4         Persona Natural            Pequeño                     ANCON   \n",
       "...                   ...                ...                       ...   \n",
       "251812    Persona Natural            Pequeño   VILLA MARIA DEL TRIUNFO   \n",
       "251813    Persona Natural            Pequeño   VILLA MARIA DEL TRIUNFO   \n",
       "251814    Persona Natural            Pequeño   VILLA MARIA DEL TRIUNFO   \n",
       "251815    Persona Natural            Pequeño   VILLA MARIA DEL TRIUNFO   \n",
       "251816  Sociedad Conyugal            Pequeño   VILLA MARIA DEL TRIUNFO   \n",
       "\n",
       "       Clase vehículo              Categoría vehículo       Marca  \\\n",
       "0           Camioneta  B1, B2, B3, B4 (Pick up/otros)        FORD   \n",
       "1           Camioneta  B1, B2, B3, B4 (Pick up/otros)   CHEVROLET   \n",
       "2           Camioneta  B1, B2, B3, B4 (Pick up/otros)     PEUGEOT   \n",
       "3           Automóvil          A2 (De 1051 a 1500 cc)     HYUNDAI   \n",
       "4           Camioneta  B1, B2, B3, B4 (Pick up/otros)      JETOUR   \n",
       "...               ...                             ...         ...   \n",
       "251812      Camioneta  B1, B2, B3, B4 (Pick up/otros)       HAVAL   \n",
       "251813      Camioneta  B1, B2, B3, B4 (Pick up/otros)         KIA   \n",
       "251814      Camioneta  B1, B2, B3, B4 (Pick up/otros)      TOYOTA   \n",
       "251815      Camioneta  B1, B2, B3, B4 (Pick up/otros)      NISSAN   \n",
       "251816      Camioneta  B1, B2, B3, B4 (Pick up/otros)  VOLKSWAGEN   \n",
       "\n",
       "                                 Modelo  \n",
       "0             BRONCO SPORT BIG BEND 4X4  \n",
       "1            N400 1.5 MT PASAJEROS BASE  \n",
       "2         3008 GT LINE 1.6 THP EAT6 165  \n",
       "3                          GRAND I10 GL  \n",
       "4              X70 1.5T MEC 4X2 CONFORT  \n",
       "...                                 ...  \n",
       "251812    OTROS MODELOS TRACCIÓN SIMPLE  \n",
       "251813           SELTOS 1.5 CVT EX PLUS  \n",
       "251814              HILUX DC 4X4 1GD SR  \n",
       "251815              KICKS EXCLUSIVE CVT  \n",
       "251816  T-CROSS COMFORTLINE 200 TSI TIP  \n",
       "\n",
       "[251817 rows x 7 columns]"
      ]
     },
     "execution_count": 20,
     "metadata": {},
     "output_type": "execute_result"
    }
   ],
   "source": [
    "df_vCategoricas = df.select_dtypes(include=['object'])\n",
    "df_vCategoricas"
   ]
  },
  {
   "cell_type": "markdown",
   "id": "431bd209",
   "metadata": {},
   "source": [
    "## Categorías distintas"
   ]
  },
  {
   "cell_type": "code",
   "execution_count": 52,
   "id": "91c71469",
   "metadata": {},
   "outputs": [
    {
     "name": "stdout",
     "output_type": "stream",
     "text": [
      "6\n",
      "['Persona Natural' 'Sociedad Conyugal' 'Persona Jurídica'\n",
      " 'Sucesión Indivisa' 'Menores de Edad' 'Sociedad Irregular']\n"
     ]
    }
   ],
   "source": [
    "print(df_vCategoricas['Tipo persona'].nunique())\n",
    "print(df_vCategoricas['Tipo persona'].unique())"
   ]
  },
  {
   "cell_type": "code",
   "execution_count": 53,
   "id": "697c5de7",
   "metadata": {},
   "outputs": [
    {
     "name": "stdout",
     "output_type": "stream",
     "text": [
      "3\n",
      "['Pequeño' 'Mediano' 'Grande']\n"
     ]
    }
   ],
   "source": [
    "print(df_vCategoricas['Tipo contribuyente'].nunique())\n",
    "print(df_vCategoricas['Tipo contribuyente'].unique())"
   ]
  },
  {
   "cell_type": "code",
   "execution_count": 54,
   "id": "aff0f3a7",
   "metadata": {},
   "outputs": [
    {
     "name": "stdout",
     "output_type": "stream",
     "text": [
      "48\n",
      "['ANCON' 'ATE' 'BARRANCO' 'BREÑA' 'CALLAO' 'CARABAYLLO'\n",
      " 'CARMEN DE LA LEGUA REYNOSO' 'CHACLACAYO' 'CHORRILLOS' 'CIENEGUILLA'\n",
      " 'COMAS' 'CP SANTA MARIA DE HUACHIPA' 'EL AGUSTINO' 'INDEPENDENCIA'\n",
      " 'JESUS MARIA' 'LA MOLINA' 'LA PERLA' 'LA VICTORIA' 'LIMA' 'LINCE'\n",
      " 'LOS OLIVOS' 'LURIGANCHO' 'LURIN' 'MAGDALENA DEL MAR' 'MIRAFLORES'\n",
      " 'PACHACAMAC' 'PUCUSANA' 'PUEBLO LIBRE' 'PUENTE PIEDRA' 'PUNTA HERMOSA'\n",
      " 'PUNTA NEGRA' 'RIMAC' 'SAN BARTOLO' 'SAN BORJA' 'SAN ISIDRO'\n",
      " 'SAN JUAN DE LURIGANCHO' 'SAN JUAN DE MIRAFLORES' 'SAN LUIS'\n",
      " 'SAN MARTIN DE PORRES' 'SAN MIGUEL' 'SANTA ANITA' 'SANTA MARIA DEL MAR'\n",
      " 'SANTA ROSA' 'SANTIAGO DE SURCO' 'SURQUILLO' 'VENTANILLA'\n",
      " 'VILLA EL SALVADOR' 'VILLA MARIA DEL TRIUNFO']\n"
     ]
    }
   ],
   "source": [
    "print(df_vCategoricas['Distrito domicilio fiscal'].nunique())\n",
    "print(df_vCategoricas['Distrito domicilio fiscal'].unique())"
   ]
  },
  {
   "cell_type": "code",
   "execution_count": 55,
   "id": "e6c8c648",
   "metadata": {},
   "outputs": [
    {
     "name": "stdout",
     "output_type": "stream",
     "text": [
      "6\n",
      "['Camioneta' 'Automóvil' 'Camión' 'Omnibus'\n",
      " 'Tracto camion, Remolcador, Semiremolcador' 'Station Wagon']\n"
     ]
    }
   ],
   "source": [
    "print(df_vCategoricas['Clase vehículo'].nunique())\n",
    "print(df_vCategoricas['Clase vehículo'].unique())"
   ]
  },
  {
   "cell_type": "code",
   "execution_count": 57,
   "id": "49a2a861",
   "metadata": {},
   "outputs": [
    {
     "name": "stdout",
     "output_type": "stream",
     "text": [
      "8\n",
      "['B1, B2, B3, B4 (Pick up/otros)' 'A2 (De 1051 a 1500 cc)' 'C1 (Camiones)'\n",
      " 'A1 (Menos de 1050 cc)' 'A3 (De 1501 a 2000 cc)' 'D1 (Bus, omnibus)'\n",
      " 'E1 (Remolcador)' 'A4 (Más de 2000 cc)']\n"
     ]
    }
   ],
   "source": [
    "# Add this cell after the existing one for 'Distrito domicilio fiscal'\n",
    "\n",
    "print(df_vCategoricas['Categoría vehículo'].nunique())\n",
    "print(df_vCategoricas['Categoría vehículo'].unique())"
   ]
  },
  {
   "cell_type": "code",
   "execution_count": 58,
   "id": "8d1975c4",
   "metadata": {},
   "outputs": [
    {
     "name": "stdout",
     "output_type": "stream",
     "text": [
      "133\n",
      "['FORD' 'CHEVROLET' 'PEUGEOT' 'HYUNDAI' 'JETOUR' 'KIA' 'HONDA' 'SUBARU'\n",
      " 'MITSUBISHI' 'DFSK' 'NISSAN' 'JAC' 'MERCEDES BENZ' 'SUZUKI' 'FOTON' 'BMW'\n",
      " 'MG' 'JMC' 'HINO' 'MAZDA' 'CHERY' 'GEELY' 'VOLKSWAGEN' 'RENAULT' 'TOYOTA'\n",
      " 'SWM' 'JEEP' 'HAVAL' 'DONGFENG' 'SHACMAN' 'YUTONG' 'CHANGAN' 'VOLVO'\n",
      " 'SCANIA' 'DODGE' 'SITRAK' 'LEXUS' 'GREAT WALL' 'INTERNATIONAL' 'JOYLONG'\n",
      " 'SINOTRUK' 'MITSUBISHI FUSO' 'AUDI' 'MAHINDRA' 'OTRAS MARCAS' 'CITROEN'\n",
      " 'SINOTRUK HOWO' 'CUPRA' 'ISUZU' 'KYC' 'FIAT' 'RAM' 'MAXUS' 'BYD'\n",
      " 'LAND ROVER' 'SHINERAY' 'SSANGYONG' 'BAIC' 'FORLAND' 'PORSCHE' 'T-KING'\n",
      " 'KING LONG' 'SANY' 'HOWO' 'GAC' 'MINI' 'KAMA' 'MODASA' 'FREIGHTLINER'\n",
      " 'FUSO' 'UD' 'GAZ' 'IVECO' 'FAW' 'KEYTON' 'SEAT' 'GOLDEN DRAGON' 'FARIZON'\n",
      " 'KAMAZ' 'HIGER' 'DAF' 'KAIYI' 'CAMC' 'ZX' 'YUEJIN' 'AGRALE-MODASA'\n",
      " 'KENWORTH' 'SOUESAST' 'BEIBEN' 'MASERATI' 'KARRY' 'BAW' 'VOLARE' 'CHANA'\n",
      " 'IVECO ASTRA' 'WULING' 'BENTLEY' 'ASTON MARTIN' 'KENBO BAIC YX' 'CNJ'\n",
      " 'FERRARI' 'VGV' 'EURISE' 'BRILLIANCE' 'LIFAN' 'LAMBORGHINI' 'VICTORY'\n",
      " 'XCMG' 'JAGUAR' 'JINBEI' 'GMC' 'ZNA' 'SHIFENG' 'MAN' 'CHANGHE' 'ASIASTAR'\n",
      " 'DULEVO' 'LANDWIND' 'MAPLE' 'CADILLAC' 'TAITAN' 'ALFA ROMEO' 'STRONG'\n",
      " 'YAXING' 'ZHONG TONG' 'MCLAREN' 'DAEWOO' 'JDMC' 'MUDAN' 'TESLA' 'DS'\n",
      " 'HOHAN' 'CHRYSLER']\n"
     ]
    }
   ],
   "source": [
    "print(df_vCategoricas['Marca'].nunique())\n",
    "print(df_vCategoricas['Marca'].unique())"
   ]
  },
  {
   "cell_type": "code",
   "execution_count": 59,
   "id": "a5fc0b43",
   "metadata": {},
   "outputs": [
    {
     "name": "stdout",
     "output_type": "stream",
     "text": [
      "3775\n",
      "['BRONCO SPORT BIG BEND 4X4' 'N400 1.5 MT PASAJEROS BASE'\n",
      " '3008 GT LINE 1.6 THP EAT6 165' ... 'X1 SDRIVE' 'ZB5032XXYVDD2L STD'\n",
      " 'M850I XDRIVE GRAN COUPE']\n"
     ]
    }
   ],
   "source": [
    "print(df_vCategoricas['Modelo'].nunique())\n",
    "print(df_vCategoricas['Modelo'].unique())"
   ]
  },
  {
   "cell_type": "markdown",
   "id": "ffab64f7",
   "metadata": {},
   "source": [
    "## Moda"
   ]
  },
  {
   "cell_type": "code",
   "execution_count": 23,
   "id": "1af391f8",
   "metadata": {},
   "outputs": [
    {
     "data": {
      "text/plain": [
       "'Persona Natural'"
      ]
     },
     "execution_count": 23,
     "metadata": {},
     "output_type": "execute_result"
    }
   ],
   "source": [
    "df_vCategoricas['Tipo persona'].mode()[0]"
   ]
  },
  {
   "cell_type": "code",
   "execution_count": null,
   "id": "cea4cb57",
   "metadata": {},
   "outputs": [
    {
     "data": {
      "text/plain": [
       "'Pequeño'"
      ]
     },
     "execution_count": 60,
     "metadata": {},
     "output_type": "execute_result"
    }
   ],
   "source": [
    "df_vCategoricas['Tipo contribuyente'].mode()[0]"
   ]
  },
  {
   "cell_type": "code",
   "execution_count": 61,
   "id": "108dfa32",
   "metadata": {},
   "outputs": [
    {
     "data": {
      "text/plain": [
       "'SAN ISIDRO'"
      ]
     },
     "execution_count": 61,
     "metadata": {},
     "output_type": "execute_result"
    }
   ],
   "source": [
    "df_vCategoricas['Distrito domicilio fiscal'].mode()[0]"
   ]
  },
  {
   "cell_type": "code",
   "execution_count": 62,
   "id": "585a92e3",
   "metadata": {},
   "outputs": [
    {
     "data": {
      "text/plain": [
       "'Camioneta'"
      ]
     },
     "execution_count": 62,
     "metadata": {},
     "output_type": "execute_result"
    }
   ],
   "source": [
    "df_vCategoricas['Clase vehículo'].mode()[0]"
   ]
  },
  {
   "cell_type": "code",
   "execution_count": 63,
   "id": "20b3af0e",
   "metadata": {},
   "outputs": [
    {
     "data": {
      "text/plain": [
       "'B1, B2, B3, B4 (Pick up/otros)'"
      ]
     },
     "execution_count": 63,
     "metadata": {},
     "output_type": "execute_result"
    }
   ],
   "source": [
    "df_vCategoricas['Categoría vehículo'].mode()[0]"
   ]
  },
  {
   "cell_type": "code",
   "execution_count": 64,
   "id": "f910bd1e",
   "metadata": {},
   "outputs": [
    {
     "data": {
      "text/plain": [
       "133"
      ]
     },
     "execution_count": 64,
     "metadata": {},
     "output_type": "execute_result"
    }
   ],
   "source": [
    "df_vCategoricas['Marca'].nunique()"
   ]
  },
  {
   "cell_type": "code",
   "execution_count": 65,
   "id": "1e0237f3",
   "metadata": {},
   "outputs": [
    {
     "data": {
      "text/plain": [
       "'OTROS MODELOS TRACCIÓN SIMPLE'"
      ]
     },
     "execution_count": 65,
     "metadata": {},
     "output_type": "execute_result"
    }
   ],
   "source": [
    "df_vCategoricas['Modelo'].mode()[0]"
   ]
  },
  {
   "cell_type": "markdown",
   "id": "17e0ebd2",
   "metadata": {},
   "source": [
    "## Frecuencia absoluta y relativa"
   ]
  },
  {
   "cell_type": "code",
   "execution_count": 77,
   "id": "7e322f61",
   "metadata": {},
   "outputs": [
    {
     "name": "stdout",
     "output_type": "stream",
     "text": [
      "Tipo contribuyente\n",
      "Pequeño    171452\n",
      "Grande      65452\n",
      "Mediano     14913\n",
      "Name: count, dtype: int64\n",
      "Tipo contribuyente\n",
      "Pequeño    0.680860\n",
      "Grande     0.259919\n",
      "Mediano    0.059222\n",
      "Name: proportion, dtype: float64\n"
     ]
    }
   ],
   "source": [
    "print(df_vCategoricas['Tipo contribuyente'].value_counts())\n",
    "print(df_vCategoricas['Tipo contribuyente'].value_counts(normalize=True))"
   ]
  },
  {
   "cell_type": "code",
   "execution_count": 78,
   "id": "eaed71a1",
   "metadata": {},
   "outputs": [
    {
     "name": "stdout",
     "output_type": "stream",
     "text": [
      "Tipo persona\n",
      "Persona Natural       106047\n",
      "Persona Jurídica       92136\n",
      "Sociedad Conyugal      53589\n",
      "Sociedad Irregular        35\n",
      "Sucesión Indivisa          5\n",
      "Menores de Edad            5\n",
      "Name: count, dtype: int64\n",
      "Tipo persona\n",
      "Persona Natural       0.421127\n",
      "Persona Jurídica      0.365885\n",
      "Sociedad Conyugal     0.212809\n",
      "Sociedad Irregular    0.000139\n",
      "Sucesión Indivisa     0.000020\n",
      "Menores de Edad       0.000020\n",
      "Name: proportion, dtype: float64\n"
     ]
    }
   ],
   "source": [
    "print(df_vCategoricas['Tipo persona'].value_counts())\n",
    "print(df_vCategoricas['Tipo persona'].value_counts(normalize=True))"
   ]
  },
  {
   "cell_type": "code",
   "execution_count": 85,
   "id": "6c22065d",
   "metadata": {},
   "outputs": [
    {
     "name": "stdout",
     "output_type": "stream",
     "text": [
      "Distrito domicilio fiscal\n",
      "SAN ISIDRO                    27997\n",
      "SANTIAGO DE SURCO             24249\n",
      "LA MOLINA                     16098\n",
      "MIRAFLORES                    13332\n",
      "SAN MARTIN DE PORRES          13064\n",
      "SAN JUAN DE LURIGANCHO        12645\n",
      "ATE                           12406\n",
      "LIMA                           8694\n",
      "SAN BORJA                      8245\n",
      "LOS OLIVOS                     7924\n",
      "COMAS                          7710\n",
      "LA VICTORIA                    7702\n",
      "CHORRILLOS                     7555\n",
      "SAN MIGUEL                     6889\n",
      "SURQUILLO                      6145\n",
      "SAN JUAN DE MIRAFLORES         5959\n",
      "VILLA EL SALVADOR              5794\n",
      "CARABAYLLO                     5040\n",
      "VILLA MARIA DEL TRIUNFO        4780\n",
      "JESUS MARIA                    4624\n",
      "SANTA ANITA                    4526\n",
      "LURIGANCHO                     4332\n",
      "PUENTE PIEDRA                  4248\n",
      "PUEBLO LIBRE                   4049\n",
      "MAGDALENA DEL MAR              4017\n",
      "LURIN                          3149\n",
      "LINCE                          3006\n",
      "EL AGUSTINO                    2721\n",
      "RIMAC                          2466\n",
      "BREÑA                          2337\n",
      "INDEPENDENCIA                  2158\n",
      "SAN LUIS                       1880\n",
      "PACHACAMAC                     1649\n",
      "BARRANCO                       1586\n",
      "CHACLACAYO                      746\n",
      "CIENEGUILLA                     583\n",
      "ANCON                           499\n",
      "SANTA ROSA                      250\n",
      "PUNTA HERMOSA                   232\n",
      "PUCUSANA                        172\n",
      "SAN BARTOLO                     163\n",
      "PUNTA NEGRA                     149\n",
      "SANTA MARIA DEL MAR              38\n",
      "CP SANTA MARIA DE HUACHIPA        5\n",
      "CALLAO                            1\n",
      "CARMEN DE LA LEGUA REYNOSO        1\n",
      "LA PERLA                          1\n",
      "VENTANILLA                        1\n",
      "Name: count, dtype: int64\n"
     ]
    }
   ],
   "source": [
    "print(df_vCategoricas['Distrito domicilio fiscal'].value_counts())"
   ]
  },
  {
   "cell_type": "code",
   "execution_count": 86,
   "id": "c9c6127e",
   "metadata": {},
   "outputs": [
    {
     "name": "stdout",
     "output_type": "stream",
     "text": [
      "Distrito domicilio fiscal\n",
      "SAN ISIDRO                    0.111180\n",
      "SANTIAGO DE SURCO             0.096296\n",
      "LA MOLINA                     0.063927\n",
      "MIRAFLORES                    0.052943\n",
      "SAN MARTIN DE PORRES          0.051879\n",
      "SAN JUAN DE LURIGANCHO        0.050215\n",
      "ATE                           0.049266\n",
      "LIMA                          0.034525\n",
      "SAN BORJA                     0.032742\n",
      "LOS OLIVOS                    0.031467\n",
      "COMAS                         0.030617\n",
      "LA VICTORIA                   0.030586\n",
      "CHORRILLOS                    0.030002\n",
      "SAN MIGUEL                    0.027357\n",
      "SURQUILLO                     0.024403\n",
      "SAN JUAN DE MIRAFLORES        0.023664\n",
      "VILLA EL SALVADOR             0.023009\n",
      "CARABAYLLO                    0.020015\n",
      "VILLA MARIA DEL TRIUNFO       0.018982\n",
      "JESUS MARIA                   0.018363\n",
      "SANTA ANITA                   0.017973\n",
      "LURIGANCHO                    0.017203\n",
      "PUENTE PIEDRA                 0.016869\n",
      "PUEBLO LIBRE                  0.016079\n",
      "MAGDALENA DEL MAR             0.015952\n",
      "LURIN                         0.012505\n",
      "LINCE                         0.011937\n",
      "EL AGUSTINO                   0.010805\n",
      "RIMAC                         0.009793\n",
      "BREÑA                         0.009281\n",
      "INDEPENDENCIA                 0.008570\n",
      "SAN LUIS                      0.007466\n",
      "PACHACAMAC                    0.006548\n",
      "BARRANCO                      0.006298\n",
      "CHACLACAYO                    0.002962\n",
      "CIENEGUILLA                   0.002315\n",
      "ANCON                         0.001982\n",
      "SANTA ROSA                    0.000993\n",
      "PUNTA HERMOSA                 0.000921\n",
      "PUCUSANA                      0.000683\n",
      "SAN BARTOLO                   0.000647\n",
      "PUNTA NEGRA                   0.000592\n",
      "SANTA MARIA DEL MAR           0.000151\n",
      "CP SANTA MARIA DE HUACHIPA    0.000020\n",
      "CALLAO                        0.000004\n",
      "CARMEN DE LA LEGUA REYNOSO    0.000004\n",
      "LA PERLA                      0.000004\n",
      "VENTANILLA                    0.000004\n",
      "Name: proportion, dtype: float64\n"
     ]
    }
   ],
   "source": [
    "print(df_vCategoricas['Distrito domicilio fiscal'].value_counts(normalize=True))"
   ]
  },
  {
   "cell_type": "code",
   "execution_count": 87,
   "id": "2029e602",
   "metadata": {},
   "outputs": [
    {
     "name": "stdout",
     "output_type": "stream",
     "text": [
      "Clase vehículo\n",
      "Camioneta                                    184115\n",
      "Automóvil                                     45199\n",
      "Camión                                        14043\n",
      "Tracto camion, Remolcador, Semiremolcador      5540\n",
      "Omnibus                                        2903\n",
      "Station Wagon                                    17\n",
      "Name: count, dtype: int64\n",
      "Clase vehículo\n",
      "Camioneta                                    0.731146\n",
      "Automóvil                                    0.179491\n",
      "Camión                                       0.055767\n",
      "Tracto camion, Remolcador, Semiremolcador    0.022000\n",
      "Omnibus                                      0.011528\n",
      "Station Wagon                                0.000068\n",
      "Name: proportion, dtype: float64\n"
     ]
    }
   ],
   "source": [
    "print(df_vCategoricas['Clase vehículo'].value_counts())\n",
    "print(df_vCategoricas['Clase vehículo'].value_counts(normalize=True))"
   ]
  },
  {
   "cell_type": "code",
   "execution_count": 27,
   "id": "5c0673bd",
   "metadata": {},
   "outputs": [
    {
     "data": {
      "text/plain": [
       "Clase vehículo                             Tipo contribuyente\n",
       "Camioneta                                  Pequeño               125324\n",
       "                                           Grande                 47854\n",
       "Automóvil                                  Pequeño                31429\n",
       "                                           Grande                 11050\n",
       "Camioneta                                  Mediano                10937\n",
       "Camión                                     Pequeño                 9217\n",
       "                                           Grande                  4048\n",
       "Tracto camion, Remolcador, Semiremolcador  Pequeño                 3626\n",
       "Automóvil                                  Mediano                 2720\n",
       "Omnibus                                    Pequeño                 1843\n",
       "Tracto camion, Remolcador, Semiremolcador  Grande                  1591\n",
       "Omnibus                                    Grande                   905\n",
       "Camión                                     Mediano                  778\n",
       "Tracto camion, Remolcador, Semiremolcador  Mediano                  323\n",
       "Omnibus                                    Mediano                  155\n",
       "Station Wagon                              Pequeño                   13\n",
       "                                           Grande                     4\n",
       "Name: count, dtype: int64"
      ]
     },
     "execution_count": 27,
     "metadata": {},
     "output_type": "execute_result"
    }
   ],
   "source": [
    "df_vCategoricas[['Clase vehículo', 'Tipo contribuyente']].value_counts()"
   ]
  },
  {
   "cell_type": "code",
   "execution_count": 88,
   "id": "c93f2d82",
   "metadata": {},
   "outputs": [
    {
     "name": "stdout",
     "output_type": "stream",
     "text": [
      "Categoría vehículo\n",
      "B1, B2, B3, B4 (Pick up/otros)    184115\n",
      "A2 (De 1051 a 1500 cc)             32235\n",
      "C1 (Camiones)                      14043\n",
      "A3 (De 1501 a 2000 cc)              7793\n",
      "E1 (Remolcador)                     5540\n",
      "A1 (Menos de 1050 cc)               4669\n",
      "D1 (Bus, omnibus)                   2903\n",
      "A4 (Más de 2000 cc)                  519\n",
      "Name: count, dtype: int64\n",
      "Categoría vehículo\n",
      "B1, B2, B3, B4 (Pick up/otros)    0.731146\n",
      "A2 (De 1051 a 1500 cc)            0.128010\n",
      "C1 (Camiones)                     0.055767\n",
      "A3 (De 1501 a 2000 cc)            0.030947\n",
      "E1 (Remolcador)                   0.022000\n",
      "A1 (Menos de 1050 cc)             0.018541\n",
      "D1 (Bus, omnibus)                 0.011528\n",
      "A4 (Más de 2000 cc)               0.002061\n",
      "Name: proportion, dtype: float64\n"
     ]
    }
   ],
   "source": [
    "print(df_vCategoricas['Categoría vehículo'].value_counts())\n",
    "print(df_vCategoricas['Categoría vehículo'].value_counts(normalize=True))"
   ]
  },
  {
   "cell_type": "code",
   "execution_count": 73,
   "id": "80d9c434",
   "metadata": {},
   "outputs": [
    {
     "data": {
      "text/plain": [
       "Marca\n",
       "TOYOTA        37063\n",
       "HYUNDAI       22514\n",
       "KIA           21909\n",
       "DFSK          13704\n",
       "CHEVROLET     12815\n",
       "              ...  \n",
       "TAITAN            1\n",
       "ZHONG TONG        1\n",
       "YAXING            1\n",
       "DS                1\n",
       "CHRYSLER          1\n",
       "Name: count, Length: 133, dtype: int64"
      ]
     },
     "execution_count": 73,
     "metadata": {},
     "output_type": "execute_result"
    }
   ],
   "source": [
    "df_vCategoricas['Marca'].value_counts()"
   ]
  },
  {
   "cell_type": "code",
   "execution_count": 91,
   "id": "5d79917e",
   "metadata": {},
   "outputs": [
    {
     "data": {
      "text/plain": [
       "Marca\n",
       "TOYOTA        0.147182\n",
       "HYUNDAI       0.089406\n",
       "KIA           0.087004\n",
       "DFSK          0.054420\n",
       "CHEVROLET     0.050890\n",
       "                ...   \n",
       "TAITAN        0.000004\n",
       "ZHONG TONG    0.000004\n",
       "YAXING        0.000004\n",
       "DS            0.000004\n",
       "CHRYSLER      0.000004\n",
       "Name: proportion, Length: 133, dtype: float64"
      ]
     },
     "execution_count": 91,
     "metadata": {},
     "output_type": "execute_result"
    }
   ],
   "source": [
    "df_vCategoricas['Marca'].value_counts(normalize=True)"
   ]
  },
  {
   "cell_type": "code",
   "execution_count": 75,
   "id": "9bbea791",
   "metadata": {},
   "outputs": [
    {
     "data": {
      "text/plain": [
       "Modelo\n",
       "OTROS MODELOS TRACCIÓN SIMPLE           10257\n",
       "HILUX DC 4X4 1GD SR                      5376\n",
       "OTROS MODELOS                            5018\n",
       "ETIOS 1.5 MT                             3699\n",
       "SOLUTO 1.4 MT LX PLUS                    3043\n",
       "                                        ...  \n",
       "CX3 CORE 2.0 MT 2WD IPM V                   1\n",
       "ATECA XCELLENCE 1.4 4WD A6                  1\n",
       "GRAND CHEROKEE OVERLAND 5.7 GASOLINA        1\n",
       "Pathfinder SE SW 4.0 V6 Aut.                1\n",
       "VERNA GL 1.4 MT                             1\n",
       "Name: count, Length: 3775, dtype: int64"
      ]
     },
     "execution_count": 75,
     "metadata": {},
     "output_type": "execute_result"
    }
   ],
   "source": [
    "df_vCategoricas['Modelo'].value_counts()"
   ]
  },
  {
   "cell_type": "code",
   "execution_count": 92,
   "id": "e811158a",
   "metadata": {},
   "outputs": [
    {
     "data": {
      "text/plain": [
       "Modelo\n",
       "OTROS MODELOS TRACCIÓN SIMPLE           0.040732\n",
       "HILUX DC 4X4 1GD SR                     0.021349\n",
       "OTROS MODELOS                           0.019927\n",
       "ETIOS 1.5 MT                            0.014689\n",
       "SOLUTO 1.4 MT LX PLUS                   0.012084\n",
       "                                          ...   \n",
       "CX3 CORE 2.0 MT 2WD IPM V               0.000004\n",
       "ATECA XCELLENCE 1.4 4WD A6              0.000004\n",
       "GRAND CHEROKEE OVERLAND 5.7 GASOLINA    0.000004\n",
       "Pathfinder SE SW 4.0 V6 Aut.            0.000004\n",
       "VERNA GL 1.4 MT                         0.000004\n",
       "Name: proportion, Length: 3775, dtype: float64"
      ]
     },
     "execution_count": 92,
     "metadata": {},
     "output_type": "execute_result"
    }
   ],
   "source": [
    "df_vCategoricas['Modelo'].value_counts(normalize=True)"
   ]
  },
  {
   "cell_type": "markdown",
   "id": "dc10a8ce",
   "metadata": {},
   "source": [
    "## Tablas cruzadas"
   ]
  },
  {
   "cell_type": "code",
   "execution_count": 93,
   "id": "c7e6f308",
   "metadata": {},
   "outputs": [
    {
     "data": {
      "text/html": [
       "<div>\n",
       "<style scoped>\n",
       "    .dataframe tbody tr th:only-of-type {\n",
       "        vertical-align: middle;\n",
       "    }\n",
       "\n",
       "    .dataframe tbody tr th {\n",
       "        vertical-align: top;\n",
       "    }\n",
       "\n",
       "    .dataframe thead th {\n",
       "        text-align: right;\n",
       "    }\n",
       "</style>\n",
       "<table border=\"1\" class=\"dataframe\">\n",
       "  <thead>\n",
       "    <tr style=\"text-align: right;\">\n",
       "      <th>Tipo contribuyente</th>\n",
       "      <th>Grande</th>\n",
       "      <th>Mediano</th>\n",
       "      <th>Pequeño</th>\n",
       "    </tr>\n",
       "    <tr>\n",
       "      <th>Tipo persona</th>\n",
       "      <th></th>\n",
       "      <th></th>\n",
       "      <th></th>\n",
       "    </tr>\n",
       "  </thead>\n",
       "  <tbody>\n",
       "    <tr>\n",
       "      <th>Menores de Edad</th>\n",
       "      <td>0</td>\n",
       "      <td>0</td>\n",
       "      <td>5</td>\n",
       "    </tr>\n",
       "    <tr>\n",
       "      <th>Persona Jurídica</th>\n",
       "      <td>61912</td>\n",
       "      <td>7062</td>\n",
       "      <td>23162</td>\n",
       "    </tr>\n",
       "    <tr>\n",
       "      <th>Persona Natural</th>\n",
       "      <td>1890</td>\n",
       "      <td>3985</td>\n",
       "      <td>100172</td>\n",
       "    </tr>\n",
       "    <tr>\n",
       "      <th>Sociedad Conyugal</th>\n",
       "      <td>1631</td>\n",
       "      <td>3864</td>\n",
       "      <td>48094</td>\n",
       "    </tr>\n",
       "    <tr>\n",
       "      <th>Sociedad Irregular</th>\n",
       "      <td>19</td>\n",
       "      <td>1</td>\n",
       "      <td>15</td>\n",
       "    </tr>\n",
       "    <tr>\n",
       "      <th>Sucesión Indivisa</th>\n",
       "      <td>0</td>\n",
       "      <td>1</td>\n",
       "      <td>4</td>\n",
       "    </tr>\n",
       "  </tbody>\n",
       "</table>\n",
       "</div>"
      ],
      "text/plain": [
       "Tipo contribuyente  Grande  Mediano  Pequeño\n",
       "Tipo persona                                \n",
       "Menores de Edad          0        0        5\n",
       "Persona Jurídica     61912     7062    23162\n",
       "Persona Natural       1890     3985   100172\n",
       "Sociedad Conyugal     1631     3864    48094\n",
       "Sociedad Irregular      19        1       15\n",
       "Sucesión Indivisa        0        1        4"
      ]
     },
     "execution_count": 93,
     "metadata": {},
     "output_type": "execute_result"
    }
   ],
   "source": [
    "pd.crosstab(df_vCategoricas['Tipo persona'], df_vCategoricas['Tipo contribuyente'])"
   ]
  },
  {
   "cell_type": "code",
   "execution_count": 97,
   "id": "b372e9db",
   "metadata": {},
   "outputs": [
    {
     "data": {
      "text/html": [
       "<div>\n",
       "<style scoped>\n",
       "    .dataframe tbody tr th:only-of-type {\n",
       "        vertical-align: middle;\n",
       "    }\n",
       "\n",
       "    .dataframe tbody tr th {\n",
       "        vertical-align: top;\n",
       "    }\n",
       "\n",
       "    .dataframe thead th {\n",
       "        text-align: right;\n",
       "    }\n",
       "</style>\n",
       "<table border=\"1\" class=\"dataframe\">\n",
       "  <thead>\n",
       "    <tr style=\"text-align: right;\">\n",
       "      <th>Tipo contribuyente</th>\n",
       "      <th>Grande</th>\n",
       "      <th>Mediano</th>\n",
       "      <th>Pequeño</th>\n",
       "    </tr>\n",
       "    <tr>\n",
       "      <th>Tipo persona</th>\n",
       "      <th></th>\n",
       "      <th></th>\n",
       "      <th></th>\n",
       "    </tr>\n",
       "  </thead>\n",
       "  <tbody>\n",
       "    <tr>\n",
       "      <th>Menores de Edad</th>\n",
       "      <td>0.000000</td>\n",
       "      <td>0.000000</td>\n",
       "      <td>0.000020</td>\n",
       "    </tr>\n",
       "    <tr>\n",
       "      <th>Persona Jurídica</th>\n",
       "      <td>0.245861</td>\n",
       "      <td>0.028044</td>\n",
       "      <td>0.091979</td>\n",
       "    </tr>\n",
       "    <tr>\n",
       "      <th>Persona Natural</th>\n",
       "      <td>0.007505</td>\n",
       "      <td>0.015825</td>\n",
       "      <td>0.397797</td>\n",
       "    </tr>\n",
       "    <tr>\n",
       "      <th>Sociedad Conyugal</th>\n",
       "      <td>0.006477</td>\n",
       "      <td>0.015344</td>\n",
       "      <td>0.190988</td>\n",
       "    </tr>\n",
       "    <tr>\n",
       "      <th>Sociedad Irregular</th>\n",
       "      <td>0.000075</td>\n",
       "      <td>0.000004</td>\n",
       "      <td>0.000060</td>\n",
       "    </tr>\n",
       "    <tr>\n",
       "      <th>Sucesión Indivisa</th>\n",
       "      <td>0.000000</td>\n",
       "      <td>0.000004</td>\n",
       "      <td>0.000016</td>\n",
       "    </tr>\n",
       "  </tbody>\n",
       "</table>\n",
       "</div>"
      ],
      "text/plain": [
       "Tipo contribuyente    Grande   Mediano   Pequeño\n",
       "Tipo persona                                    \n",
       "Menores de Edad     0.000000  0.000000  0.000020\n",
       "Persona Jurídica    0.245861  0.028044  0.091979\n",
       "Persona Natural     0.007505  0.015825  0.397797\n",
       "Sociedad Conyugal   0.006477  0.015344  0.190988\n",
       "Sociedad Irregular  0.000075  0.000004  0.000060\n",
       "Sucesión Indivisa   0.000000  0.000004  0.000016"
      ]
     },
     "execution_count": 97,
     "metadata": {},
     "output_type": "execute_result"
    }
   ],
   "source": [
    "pd.crosstab(df_vCategoricas['Tipo persona'], df_vCategoricas['Tipo contribuyente'], normalize=True)"
   ]
  },
  {
   "cell_type": "code",
   "execution_count": 98,
   "id": "e8ab0e6c",
   "metadata": {},
   "outputs": [
    {
     "data": {
      "text/html": [
       "<div>\n",
       "<style scoped>\n",
       "    .dataframe tbody tr th:only-of-type {\n",
       "        vertical-align: middle;\n",
       "    }\n",
       "\n",
       "    .dataframe tbody tr th {\n",
       "        vertical-align: top;\n",
       "    }\n",
       "\n",
       "    .dataframe thead th {\n",
       "        text-align: right;\n",
       "    }\n",
       "</style>\n",
       "<table border=\"1\" class=\"dataframe\">\n",
       "  <thead>\n",
       "    <tr style=\"text-align: right;\">\n",
       "      <th>Tipo contribuyente</th>\n",
       "      <th>Grande</th>\n",
       "      <th>Mediano</th>\n",
       "      <th>Pequeño</th>\n",
       "    </tr>\n",
       "    <tr>\n",
       "      <th>Clase vehículo</th>\n",
       "      <th></th>\n",
       "      <th></th>\n",
       "      <th></th>\n",
       "    </tr>\n",
       "  </thead>\n",
       "  <tbody>\n",
       "    <tr>\n",
       "      <th>Automóvil</th>\n",
       "      <td>0.244474</td>\n",
       "      <td>0.060178</td>\n",
       "      <td>0.695347</td>\n",
       "    </tr>\n",
       "    <tr>\n",
       "      <th>Camioneta</th>\n",
       "      <td>0.259914</td>\n",
       "      <td>0.059403</td>\n",
       "      <td>0.680683</td>\n",
       "    </tr>\n",
       "    <tr>\n",
       "      <th>Camión</th>\n",
       "      <td>0.288257</td>\n",
       "      <td>0.055401</td>\n",
       "      <td>0.656341</td>\n",
       "    </tr>\n",
       "    <tr>\n",
       "      <th>Omnibus</th>\n",
       "      <td>0.311746</td>\n",
       "      <td>0.053393</td>\n",
       "      <td>0.634860</td>\n",
       "    </tr>\n",
       "    <tr>\n",
       "      <th>Station Wagon</th>\n",
       "      <td>0.235294</td>\n",
       "      <td>0.000000</td>\n",
       "      <td>0.764706</td>\n",
       "    </tr>\n",
       "    <tr>\n",
       "      <th>Tracto camion, Remolcador, Semiremolcador</th>\n",
       "      <td>0.287184</td>\n",
       "      <td>0.058303</td>\n",
       "      <td>0.654513</td>\n",
       "    </tr>\n",
       "  </tbody>\n",
       "</table>\n",
       "</div>"
      ],
      "text/plain": [
       "Tipo contribuyente                           Grande   Mediano   Pequeño\n",
       "Clase vehículo                                                         \n",
       "Automóvil                                  0.244474  0.060178  0.695347\n",
       "Camioneta                                  0.259914  0.059403  0.680683\n",
       "Camión                                     0.288257  0.055401  0.656341\n",
       "Omnibus                                    0.311746  0.053393  0.634860\n",
       "Station Wagon                              0.235294  0.000000  0.764706\n",
       "Tracto camion, Remolcador, Semiremolcador  0.287184  0.058303  0.654513"
      ]
     },
     "execution_count": 98,
     "metadata": {},
     "output_type": "execute_result"
    }
   ],
   "source": [
    "pd.crosstab(df_vCategoricas['Clase vehículo'], df_vCategoricas['Tipo contribuyente'], normalize='index')"
   ]
  },
  {
   "cell_type": "code",
   "execution_count": 99,
   "id": "6b2a8b5c",
   "metadata": {},
   "outputs": [
    {
     "data": {
      "text/html": [
       "<div>\n",
       "<style scoped>\n",
       "    .dataframe tbody tr th:only-of-type {\n",
       "        vertical-align: middle;\n",
       "    }\n",
       "\n",
       "    .dataframe tbody tr th {\n",
       "        vertical-align: top;\n",
       "    }\n",
       "\n",
       "    .dataframe thead th {\n",
       "        text-align: right;\n",
       "    }\n",
       "</style>\n",
       "<table border=\"1\" class=\"dataframe\">\n",
       "  <thead>\n",
       "    <tr style=\"text-align: right;\">\n",
       "      <th>Tipo contribuyente</th>\n",
       "      <th>Grande</th>\n",
       "      <th>Mediano</th>\n",
       "      <th>Pequeño</th>\n",
       "    </tr>\n",
       "    <tr>\n",
       "      <th>Clase vehículo</th>\n",
       "      <th></th>\n",
       "      <th></th>\n",
       "      <th></th>\n",
       "    </tr>\n",
       "  </thead>\n",
       "  <tbody>\n",
       "    <tr>\n",
       "      <th>Automóvil</th>\n",
       "      <td>0.168826</td>\n",
       "      <td>0.182391</td>\n",
       "      <td>0.183311</td>\n",
       "    </tr>\n",
       "    <tr>\n",
       "      <th>Camioneta</th>\n",
       "      <td>0.731131</td>\n",
       "      <td>0.733387</td>\n",
       "      <td>0.730957</td>\n",
       "    </tr>\n",
       "    <tr>\n",
       "      <th>Camión</th>\n",
       "      <td>0.061847</td>\n",
       "      <td>0.052169</td>\n",
       "      <td>0.053758</td>\n",
       "    </tr>\n",
       "    <tr>\n",
       "      <th>Omnibus</th>\n",
       "      <td>0.013827</td>\n",
       "      <td>0.010394</td>\n",
       "      <td>0.010749</td>\n",
       "    </tr>\n",
       "    <tr>\n",
       "      <th>Station Wagon</th>\n",
       "      <td>0.000061</td>\n",
       "      <td>0.000000</td>\n",
       "      <td>0.000076</td>\n",
       "    </tr>\n",
       "    <tr>\n",
       "      <th>Tracto camion, Remolcador, Semiremolcador</th>\n",
       "      <td>0.024308</td>\n",
       "      <td>0.021659</td>\n",
       "      <td>0.021149</td>\n",
       "    </tr>\n",
       "  </tbody>\n",
       "</table>\n",
       "</div>"
      ],
      "text/plain": [
       "Tipo contribuyente                           Grande   Mediano   Pequeño\n",
       "Clase vehículo                                                         \n",
       "Automóvil                                  0.168826  0.182391  0.183311\n",
       "Camioneta                                  0.731131  0.733387  0.730957\n",
       "Camión                                     0.061847  0.052169  0.053758\n",
       "Omnibus                                    0.013827  0.010394  0.010749\n",
       "Station Wagon                              0.000061  0.000000  0.000076\n",
       "Tracto camion, Remolcador, Semiremolcador  0.024308  0.021659  0.021149"
      ]
     },
     "execution_count": 99,
     "metadata": {},
     "output_type": "execute_result"
    }
   ],
   "source": [
    "pd.crosstab(df_vCategoricas['Clase vehículo'], df_vCategoricas['Tipo contribuyente'], normalize='columns')"
   ]
  },
  {
   "cell_type": "markdown",
   "id": "94a567ab",
   "metadata": {},
   "source": [
    "## Resumen para Variables Numéricas"
   ]
  },
  {
   "cell_type": "code",
   "execution_count": 34,
   "id": "3d8406de",
   "metadata": {},
   "outputs": [
    {
     "data": {
      "text/html": [
       "<div>\n",
       "<style scoped>\n",
       "    .dataframe tbody tr th:only-of-type {\n",
       "        vertical-align: middle;\n",
       "    }\n",
       "\n",
       "    .dataframe tbody tr th {\n",
       "        vertical-align: top;\n",
       "    }\n",
       "\n",
       "    .dataframe thead th {\n",
       "        text-align: right;\n",
       "    }\n",
       "</style>\n",
       "<table border=\"1\" class=\"dataframe\">\n",
       "  <thead>\n",
       "    <tr style=\"text-align: right;\">\n",
       "      <th></th>\n",
       "      <th>N° registro</th>\n",
       "      <th>Nº persona</th>\n",
       "      <th>Tipo persona</th>\n",
       "      <th>Tipo contribuyente</th>\n",
       "      <th>Distrito domicilio fiscal</th>\n",
       "      <th>Porcentaje propiedad</th>\n",
       "      <th>Correlativo</th>\n",
       "      <th>Fecha adquisición vehículo</th>\n",
       "      <th>Fecha 1ra inscripción SUNARP</th>\n",
       "      <th>Clase vehículo</th>\n",
       "      <th>Categoría vehículo</th>\n",
       "      <th>Marca</th>\n",
       "      <th>Modelo</th>\n",
       "      <th>Valor adquisición (US $)</th>\n",
       "      <th>Valor adquisición (S/)</th>\n",
       "      <th>Valor referencial 2025 (S/)</th>\n",
       "    </tr>\n",
       "  </thead>\n",
       "  <tbody>\n",
       "    <tr>\n",
       "      <th>0</th>\n",
       "      <td>1018115191</td>\n",
       "      <td>2311249402</td>\n",
       "      <td>Persona Natural</td>\n",
       "      <td>Pequeño</td>\n",
       "      <td>ANCON</td>\n",
       "      <td>100.0</td>\n",
       "      <td>1911465</td>\n",
       "      <td>2022-12-24</td>\n",
       "      <td>2022-12-29</td>\n",
       "      <td>Camioneta</td>\n",
       "      <td>B1, B2, B3, B4 (Pick up/otros)</td>\n",
       "      <td>FORD</td>\n",
       "      <td>BRONCO SPORT BIG BEND 4X4</td>\n",
       "      <td>39090.0</td>\n",
       "      <td>149323.8</td>\n",
       "      <td>126060</td>\n",
       "    </tr>\n",
       "    <tr>\n",
       "      <th>1</th>\n",
       "      <td>1056099842</td>\n",
       "      <td>6690559162</td>\n",
       "      <td>Persona Natural</td>\n",
       "      <td>Pequeño</td>\n",
       "      <td>ANCON</td>\n",
       "      <td>100.0</td>\n",
       "      <td>2048050</td>\n",
       "      <td>2024-04-20</td>\n",
       "      <td>2024-05-15</td>\n",
       "      <td>Camioneta</td>\n",
       "      <td>B1, B2, B3, B4 (Pick up/otros)</td>\n",
       "      <td>CHEVROLET</td>\n",
       "      <td>N400 1.5 MT PASAJEROS BASE</td>\n",
       "      <td>13990.0</td>\n",
       "      <td>52462.5</td>\n",
       "      <td>48930</td>\n",
       "    </tr>\n",
       "    <tr>\n",
       "      <th>2</th>\n",
       "      <td>1059017867</td>\n",
       "      <td>7789077745</td>\n",
       "      <td>Persona Natural</td>\n",
       "      <td>Pequeño</td>\n",
       "      <td>ANCON</td>\n",
       "      <td>100.0</td>\n",
       "      <td>1963261</td>\n",
       "      <td>2023-04-28</td>\n",
       "      <td>2023-05-30</td>\n",
       "      <td>Camioneta</td>\n",
       "      <td>B1, B2, B3, B4 (Pick up/otros)</td>\n",
       "      <td>PEUGEOT</td>\n",
       "      <td>3008 GT LINE 1.6 THP EAT6 165</td>\n",
       "      <td>42490.0</td>\n",
       "      <td>158062.8</td>\n",
       "      <td>136190</td>\n",
       "    </tr>\n",
       "  </tbody>\n",
       "</table>\n",
       "</div>"
      ],
      "text/plain": [
       "   N° registro  Nº persona     Tipo persona Tipo contribuyente  \\\n",
       "0   1018115191  2311249402  Persona Natural            Pequeño   \n",
       "1   1056099842  6690559162  Persona Natural            Pequeño   \n",
       "2   1059017867  7789077745  Persona Natural            Pequeño   \n",
       "\n",
       "  Distrito domicilio fiscal  Porcentaje propiedad  Correlativo  \\\n",
       "0                     ANCON                 100.0      1911465   \n",
       "1                     ANCON                 100.0      2048050   \n",
       "2                     ANCON                 100.0      1963261   \n",
       "\n",
       "  Fecha adquisición vehículo Fecha 1ra inscripción SUNARP Clase vehículo  \\\n",
       "0                 2022-12-24                   2022-12-29      Camioneta   \n",
       "1                 2024-04-20                   2024-05-15      Camioneta   \n",
       "2                 2023-04-28                   2023-05-30      Camioneta   \n",
       "\n",
       "               Categoría vehículo      Marca                         Modelo  \\\n",
       "0  B1, B2, B3, B4 (Pick up/otros)       FORD      BRONCO SPORT BIG BEND 4X4   \n",
       "1  B1, B2, B3, B4 (Pick up/otros)  CHEVROLET     N400 1.5 MT PASAJEROS BASE   \n",
       "2  B1, B2, B3, B4 (Pick up/otros)    PEUGEOT  3008 GT LINE 1.6 THP EAT6 165   \n",
       "\n",
       "   Valor adquisición (US $)  Valor adquisición (S/)  \\\n",
       "0                   39090.0                149323.8   \n",
       "1                   13990.0                 52462.5   \n",
       "2                   42490.0                158062.8   \n",
       "\n",
       "   Valor referencial 2025 (S/)  \n",
       "0                       126060  \n",
       "1                        48930  \n",
       "2                       136190  "
      ]
     },
     "execution_count": 34,
     "metadata": {},
     "output_type": "execute_result"
    }
   ],
   "source": [
    "df.head(3)"
   ]
  },
  {
   "cell_type": "code",
   "execution_count": 35,
   "id": "6412e638",
   "metadata": {},
   "outputs": [
    {
     "data": {
      "text/plain": [
       "N° registro                              int64\n",
       "Nº persona                               int64\n",
       "Tipo persona                            object\n",
       "Tipo contribuyente                      object\n",
       "Distrito domicilio fiscal               object\n",
       "Porcentaje propiedad                   float64\n",
       "Correlativo                              int64\n",
       "Fecha adquisición vehículo      datetime64[ns]\n",
       "Fecha 1ra inscripción SUNARP    datetime64[ns]\n",
       "Clase vehículo                          object\n",
       "Categoría vehículo                      object\n",
       "Marca                                   object\n",
       "Modelo                                  object\n",
       "Valor adquisición (US $)               float64\n",
       "Valor adquisición (S/)                 float64\n",
       "Valor referencial 2025 (S/)              int64\n",
       "dtype: object"
      ]
     },
     "execution_count": 35,
     "metadata": {},
     "output_type": "execute_result"
    }
   ],
   "source": [
    "df.dtypes"
   ]
  },
  {
   "cell_type": "code",
   "execution_count": 124,
   "id": "b24dd9f3",
   "metadata": {},
   "outputs": [
    {
     "data": {
      "text/html": [
       "<div>\n",
       "<style scoped>\n",
       "    .dataframe tbody tr th:only-of-type {\n",
       "        vertical-align: middle;\n",
       "    }\n",
       "\n",
       "    .dataframe tbody tr th {\n",
       "        vertical-align: top;\n",
       "    }\n",
       "\n",
       "    .dataframe thead th {\n",
       "        text-align: right;\n",
       "    }\n",
       "</style>\n",
       "<table border=\"1\" class=\"dataframe\">\n",
       "  <thead>\n",
       "    <tr style=\"text-align: right;\">\n",
       "      <th></th>\n",
       "      <th>Porcentaje propiedad</th>\n",
       "      <th>Valor adquisición (US $)</th>\n",
       "      <th>Valor adquisición (S/)</th>\n",
       "      <th>Valor referencial 2025 (S/)</th>\n",
       "    </tr>\n",
       "  </thead>\n",
       "  <tbody>\n",
       "    <tr>\n",
       "      <th>0</th>\n",
       "      <td>100.0</td>\n",
       "      <td>39090.00</td>\n",
       "      <td>149323.80</td>\n",
       "      <td>126060</td>\n",
       "    </tr>\n",
       "    <tr>\n",
       "      <th>1</th>\n",
       "      <td>100.0</td>\n",
       "      <td>13990.00</td>\n",
       "      <td>52462.50</td>\n",
       "      <td>48930</td>\n",
       "    </tr>\n",
       "    <tr>\n",
       "      <th>2</th>\n",
       "      <td>100.0</td>\n",
       "      <td>42490.00</td>\n",
       "      <td>158062.80</td>\n",
       "      <td>136190</td>\n",
       "    </tr>\n",
       "    <tr>\n",
       "      <th>3</th>\n",
       "      <td>100.0</td>\n",
       "      <td>14590.00</td>\n",
       "      <td>58068.20</td>\n",
       "      <td>40850</td>\n",
       "    </tr>\n",
       "    <tr>\n",
       "      <th>4</th>\n",
       "      <td>100.0</td>\n",
       "      <td>15820.00</td>\n",
       "      <td>58217.60</td>\n",
       "      <td>64070</td>\n",
       "    </tr>\n",
       "    <tr>\n",
       "      <th>...</th>\n",
       "      <td>...</td>\n",
       "      <td>...</td>\n",
       "      <td>...</td>\n",
       "      <td>...</td>\n",
       "    </tr>\n",
       "    <tr>\n",
       "      <th>251812</th>\n",
       "      <td>100.0</td>\n",
       "      <td>16481.55</td>\n",
       "      <td>61311.37</td>\n",
       "      <td>68000</td>\n",
       "    </tr>\n",
       "    <tr>\n",
       "      <th>251813</th>\n",
       "      <td>50.0</td>\n",
       "      <td>24989.99</td>\n",
       "      <td>93712.46</td>\n",
       "      <td>103640</td>\n",
       "    </tr>\n",
       "    <tr>\n",
       "      <th>251814</th>\n",
       "      <td>100.0</td>\n",
       "      <td>40538.00</td>\n",
       "      <td>159314.34</td>\n",
       "      <td>109260</td>\n",
       "    </tr>\n",
       "    <tr>\n",
       "      <th>251815</th>\n",
       "      <td>100.0</td>\n",
       "      <td>25300.00</td>\n",
       "      <td>97152.00</td>\n",
       "      <td>81410</td>\n",
       "    </tr>\n",
       "    <tr>\n",
       "      <th>251816</th>\n",
       "      <td>100.0</td>\n",
       "      <td>28340.00</td>\n",
       "      <td>105424.80</td>\n",
       "      <td>103840</td>\n",
       "    </tr>\n",
       "  </tbody>\n",
       "</table>\n",
       "<p>251817 rows × 4 columns</p>\n",
       "</div>"
      ],
      "text/plain": [
       "        Porcentaje propiedad  Valor adquisición (US $)  \\\n",
       "0                      100.0                  39090.00   \n",
       "1                      100.0                  13990.00   \n",
       "2                      100.0                  42490.00   \n",
       "3                      100.0                  14590.00   \n",
       "4                      100.0                  15820.00   \n",
       "...                      ...                       ...   \n",
       "251812                 100.0                  16481.55   \n",
       "251813                  50.0                  24989.99   \n",
       "251814                 100.0                  40538.00   \n",
       "251815                 100.0                  25300.00   \n",
       "251816                 100.0                  28340.00   \n",
       "\n",
       "        Valor adquisición (S/)  Valor referencial 2025 (S/)  \n",
       "0                    149323.80                       126060  \n",
       "1                     52462.50                        48930  \n",
       "2                    158062.80                       136190  \n",
       "3                     58068.20                        40850  \n",
       "4                     58217.60                        64070  \n",
       "...                        ...                          ...  \n",
       "251812                61311.37                        68000  \n",
       "251813                93712.46                       103640  \n",
       "251814               159314.34                       109260  \n",
       "251815                97152.00                        81410  \n",
       "251816               105424.80                       103840  \n",
       "\n",
       "[251817 rows x 4 columns]"
      ]
     },
     "execution_count": 124,
     "metadata": {},
     "output_type": "execute_result"
    }
   ],
   "source": [
    "df_vNumericas = df.select_dtypes(include=['float64', 'int64']).drop(columns=['N° registro', 'Nº persona', 'Correlativo'])\n",
    "df_vNumericas"
   ]
  },
  {
   "cell_type": "markdown",
   "id": "30298129",
   "metadata": {},
   "source": [
    "### **Medidas de Tendencia Central**"
   ]
  },
  {
   "cell_type": "code",
   "execution_count": 101,
   "id": "8ef53b2d",
   "metadata": {},
   "outputs": [
    {
     "data": {
      "text/plain": [
       "Porcentaje propiedad               97.980413\n",
       "Valor adquisición (US $)        31642.568838\n",
       "Valor adquisición (S/)         122193.142761\n",
       "Valor referencial 2025 (S/)     99355.442166\n",
       "dtype: float64"
      ]
     },
     "execution_count": 101,
     "metadata": {},
     "output_type": "execute_result"
    }
   ],
   "source": [
    "# Media\n",
    "df_vNumericas.mean()"
   ]
  },
  {
   "cell_type": "code",
   "execution_count": 102,
   "id": "ff035320",
   "metadata": {},
   "outputs": [
    {
     "data": {
      "text/plain": [
       "Porcentaje propiedad             100.00\n",
       "Valor adquisición (US $)       21608.00\n",
       "Valor adquisición (S/)         83331.15\n",
       "Valor referencial 2025 (S/)    71590.00\n",
       "dtype: float64"
      ]
     },
     "execution_count": 102,
     "metadata": {},
     "output_type": "execute_result"
    }
   ],
   "source": [
    "# Mediana\n",
    "df_vNumericas.median()"
   ]
  },
  {
   "cell_type": "code",
   "execution_count": 125,
   "id": "5aada815",
   "metadata": {},
   "outputs": [
    {
     "data": {
      "text/html": [
       "<div>\n",
       "<style scoped>\n",
       "    .dataframe tbody tr th:only-of-type {\n",
       "        vertical-align: middle;\n",
       "    }\n",
       "\n",
       "    .dataframe tbody tr th {\n",
       "        vertical-align: top;\n",
       "    }\n",
       "\n",
       "    .dataframe thead th {\n",
       "        text-align: right;\n",
       "    }\n",
       "</style>\n",
       "<table border=\"1\" class=\"dataframe\">\n",
       "  <thead>\n",
       "    <tr style=\"text-align: right;\">\n",
       "      <th></th>\n",
       "      <th>Porcentaje propiedad</th>\n",
       "      <th>Valor adquisición (US $)</th>\n",
       "      <th>Valor adquisición (S/)</th>\n",
       "      <th>Valor referencial 2025 (S/)</th>\n",
       "    </tr>\n",
       "  </thead>\n",
       "  <tbody>\n",
       "    <tr>\n",
       "      <th>0.25</th>\n",
       "      <td>100.0</td>\n",
       "      <td>15490.0</td>\n",
       "      <td>59889.90</td>\n",
       "      <td>52700.0</td>\n",
       "    </tr>\n",
       "    <tr>\n",
       "      <th>0.50</th>\n",
       "      <td>100.0</td>\n",
       "      <td>21608.0</td>\n",
       "      <td>83331.15</td>\n",
       "      <td>71590.0</td>\n",
       "    </tr>\n",
       "    <tr>\n",
       "      <th>0.75</th>\n",
       "      <td>100.0</td>\n",
       "      <td>32990.0</td>\n",
       "      <td>126442.80</td>\n",
       "      <td>106110.0</td>\n",
       "    </tr>\n",
       "  </tbody>\n",
       "</table>\n",
       "</div>"
      ],
      "text/plain": [
       "      Porcentaje propiedad  Valor adquisición (US $)  Valor adquisición (S/)  \\\n",
       "0.25                 100.0                   15490.0                59889.90   \n",
       "0.50                 100.0                   21608.0                83331.15   \n",
       "0.75                 100.0                   32990.0               126442.80   \n",
       "\n",
       "      Valor referencial 2025 (S/)  \n",
       "0.25                      52700.0  \n",
       "0.50                      71590.0  \n",
       "0.75                     106110.0  "
      ]
     },
     "execution_count": 125,
     "metadata": {},
     "output_type": "execute_result"
    }
   ],
   "source": [
    "# Cuantil\n",
    "df_vNumericas.quantile([0.25, 0.50, 0.75])"
   ]
  },
  {
   "cell_type": "markdown",
   "id": "440714bd",
   "metadata": {},
   "source": [
    "# Medidas de variabilidad"
   ]
  },
  {
   "cell_type": "code",
   "execution_count": 126,
   "id": "fb130f3c",
   "metadata": {},
   "outputs": [
    {
     "name": "stdout",
     "output_type": "stream",
     "text": [
      "Mínimo:\n",
      "Porcentaje propiedad              1.0\n",
      "Valor adquisición (US $)          0.0\n",
      "Valor adquisición (S/)            0.0\n",
      "Valor referencial 2025 (S/)    3030.0\n",
      "dtype: float64\n",
      "\n",
      "Máximo:\n",
      "Porcentaje propiedad               100.00\n",
      "Valor adquisición (US $)       2087420.00\n",
      "Valor adquisición (S/)         8110658.85\n",
      "Valor referencial 2025 (S/)    1427600.00\n",
      "dtype: float64\n"
     ]
    }
   ],
   "source": [
    "# Mínimo y máximo\n",
    "print(\"Mínimo:\")\n",
    "print(df_vNumericas.min())\n",
    "print(\"\\nMáximo:\")\n",
    "print(df_vNumericas.max())"
   ]
  },
  {
   "cell_type": "code",
   "execution_count": 127,
   "id": "9e4497a9",
   "metadata": {},
   "outputs": [
    {
     "name": "stdout",
     "output_type": "stream",
     "text": [
      "Rango:\n",
      "Porcentaje propiedad                99.00\n",
      "Valor adquisición (US $)       2087420.00\n",
      "Valor adquisición (S/)         8110658.85\n",
      "Valor referencial 2025 (S/)    1424570.00\n",
      "dtype: float64\n"
     ]
    }
   ],
   "source": [
    "# Rango\n",
    "print(\"Rango:\")\n",
    "print(df_vNumericas.max() - df_vNumericas.min())"
   ]
  },
  {
   "cell_type": "code",
   "execution_count": 128,
   "id": "112d90f5",
   "metadata": {},
   "outputs": [
    {
     "name": "stdout",
     "output_type": "stream",
     "text": [
      "Rango intercuartílico (IQR):\n",
      "Porcentaje propiedad               0.0\n",
      "Valor adquisición (US $)       17500.0\n",
      "Valor adquisición (S/)         66552.9\n",
      "Valor referencial 2025 (S/)    53410.0\n",
      "dtype: float64\n"
     ]
    }
   ],
   "source": [
    "# Rango intercuartílico\n",
    "Q1 = df_vNumericas.quantile(0.25)\n",
    "Q3 = df_vNumericas.quantile(0.75)\n",
    "IQR = Q3 - Q1\n",
    "print(\"Rango intercuartílico (IQR):\")\n",
    "print(IQR)"
   ]
  },
  {
   "cell_type": "code",
   "execution_count": 131,
   "id": "811c7ffa",
   "metadata": {},
   "outputs": [
    {
     "name": "stdout",
     "output_type": "stream",
     "text": [
      "Varianza:\n",
      "Porcentaje propiedad           9.913763e+01\n",
      "Valor adquisición (US $)       1.452713e+09\n",
      "Valor adquisición (S/)         2.075020e+10\n",
      "Valor referencial 2025 (S/)    8.533253e+09\n",
      "dtype: float64\n"
     ]
    }
   ],
   "source": [
    "# Varianza\n",
    "print(\"Varianza:\")\n",
    "print(df_vNumericas.var())"
   ]
  },
  {
   "cell_type": "code",
   "execution_count": 132,
   "id": "d69bee57",
   "metadata": {},
   "outputs": [
    {
     "name": "stdout",
     "output_type": "stream",
     "text": [
      "Desviación estándar:\n",
      "Porcentaje propiedad                9.956788\n",
      "Valor adquisición (US $)        38114.471245\n",
      "Valor adquisición (S/)         144049.289482\n",
      "Valor referencial 2025 (S/)     92375.609053\n",
      "dtype: float64\n"
     ]
    }
   ],
   "source": [
    "# Desviación estándar\n",
    "print(\"Desviación estándar:\")\n",
    "print(df_vNumericas.std())"
   ]
  },
  {
   "cell_type": "markdown",
   "id": "eebcd9ff",
   "metadata": {},
   "source": [
    "# Medidas de deformación"
   ]
  },
  {
   "cell_type": "code",
   "execution_count": 133,
   "id": "dd620277",
   "metadata": {},
   "outputs": [
    {
     "name": "stdout",
     "output_type": "stream",
     "text": [
      "Asimetría (Skewness):\n",
      "Porcentaje propiedad          -4.796933\n",
      "Valor adquisición (US $)       6.722876\n",
      "Valor adquisición (S/)         7.216302\n",
      "Valor referencial 2025 (S/)    3.614206\n",
      "dtype: float64\n"
     ]
    }
   ],
   "source": [
    "# Asimetría (Skewness)\n",
    "print(\"Asimetría (Skewness):\")\n",
    "print(df_vNumericas.skew())"
   ]
  },
  {
   "cell_type": "code",
   "execution_count": 134,
   "id": "03bf100e",
   "metadata": {},
   "outputs": [
    {
     "name": "stdout",
     "output_type": "stream",
     "text": [
      "Curtosis (Kurtosis):\n",
      "Porcentaje propiedad            21.593417\n",
      "Valor adquisición (US $)       135.847273\n",
      "Valor adquisición (S/)         164.590872\n",
      "Valor referencial 2025 (S/)     15.419559\n",
      "dtype: float64\n"
     ]
    }
   ],
   "source": [
    "# Curtosis (Kurtosis)\n",
    "print(\"Curtosis (Kurtosis):\")\n",
    "print(df_vNumericas.kurtosis())"
   ]
  },
  {
   "cell_type": "markdown",
   "id": "eb78ec00",
   "metadata": {},
   "source": [
    "## Distribución Marginal"
   ]
  },
  {
   "cell_type": "code",
   "execution_count": 144,
   "id": "a4b938c2",
   "metadata": {},
   "outputs": [
    {
     "name": "stdout",
     "output_type": "stream",
     "text": [
      "Valor referencial 2025 (S/)    99355.442166\n",
      "dtype: float64\n"
     ]
    },
    {
     "data": {
      "image/png": "[encoded data removed]",
      "text/plain": [
       "<Figure size 640x480 with 1 Axes>"
      ]
     },
     "metadata": {},
     "output_type": "display_data"
    }
   ],
   "source": [
    "import seaborn as sns\n",
    "import matplotlib.pyplot as plt\n",
    "\n",
    "print(df_vNumericas[['Valor referencial 2025 (S/)']].mean())\n",
    "sns.set(style=\"darkgrid\")\n",
    "\n",
    "plot = sns.histplot(df_vNumericas[\"Valor referencial 2025 (S/)\"], bins=50)\n",
    "\n",
    "plt.axvline(df_vNumericas[\"Valor referencial 2025 (S/)\"].mean(), color='blue', linestyle='--', linewidth=1)\n",
    "plt.axvline(df_vNumericas[\"Valor referencial 2025 (S/)\"].median(), color='red', linestyle='--', linewidth=1)\n",
    "\n",
    "def abbreviate(x, pos):\n",
    "    if x >= 1e6:\n",
    "        return f'{x/1e6:.1f}M'\n",
    "    elif x >= 1e3:\n",
    "        return f'{x/1e3:.0f}K'\n",
    "    else:\n",
    "        return f'{x:.0f}'\n",
    "\n",
    "plt.gca().xaxis.set_major_formatter(plt.FuncFormatter(abbreviate))\n",
    "\n",
    "\n",
    "plt.show()"
   ]
  },
  {
   "cell_type": "code",
   "execution_count": 145,
   "id": "a9e7e41a",
   "metadata": {},
   "outputs": [
    {
     "name": "stdout",
     "output_type": "stream",
     "text": [
      "Valor adquisición (S/)    122193.142761\n",
      "dtype: float64\n"
     ]
    },
    {
     "data": {
      "image/png": "[encoded data removed]",
      "text/plain": [
       "<Figure size 640x480 with 1 Axes>"
      ]
     },
     "metadata": {},
     "output_type": "display_data"
    }
   ],
   "source": [
    "print(df_vNumericas[['Valor adquisición (S/)']].mean())\n",
    "sns.set(style=\"darkgrid\")\n",
    "\n",
    "plot = sns.histplot(df_vNumericas[\"Valor adquisición (S/)\"], bins=50)\n",
    "\n",
    "plt.axvline(df_vNumericas[\"Valor adquisición (S/)\"].mean(), color='blue', linestyle='--', linewidth=1)\n",
    "plt.axvline(df_vNumericas[\"Valor adquisición (S/)\"].median(), color='red', linestyle='--', linewidth=1)\n",
    "\n",
    "plt.gca().xaxis.set_major_formatter(plt.FuncFormatter(abbreviate))"
   ]
  },
  {
   "cell_type": "code",
   "execution_count": 146,
   "id": "7dd255d8",
   "metadata": {},
   "outputs": [
    {
     "name": "stdout",
     "output_type": "stream",
     "text": [
      "Valor adquisición (US $)    31642.568838\n",
      "dtype: float64\n"
     ]
    },
    {
     "data": {
      "image/png": "[encoded data removed]",
      "text/plain": [
       "<Figure size 640x480 with 1 Axes>"
      ]
     },
     "metadata": {},
     "output_type": "display_data"
    }
   ],
   "source": [
    "print(df_vNumericas[['Valor adquisición (US $)']].mean())\n",
    "sns.set(style=\"darkgrid\")\n",
    "\n",
    "plot = sns.histplot(df_vNumericas[\"Valor adquisición (US $)\"], bins=50)\n",
    "\n",
    "plt.axvline(df_vNumericas[\"Valor adquisición (US $)\"].mean(), color='blue', linestyle='--', linewidth=1)\n",
    "plt.axvline(df_vNumericas[\"Valor adquisición (US $)\"].median(), color='red', linestyle='--', linewidth=1)\n",
    "\n",
    "plt.gca().xaxis.set_major_formatter(plt.FuncFormatter(abbreviate))"
   ]
  },
  {
   "cell_type": "markdown",
   "id": "30b4f61d",
   "metadata": {},
   "source": [
    "## Distribución Condicional"
   ]
  },
  {
   "cell_type": "code",
   "execution_count": null,
   "id": "de95951e",
   "metadata": {},
   "outputs": [],
   "source": [
    "sns.set(style=\"darkgrid\")\n",
    "sns.histplot(df[df['Tipo contribuyente']=='Pequeño'].Valor_adquisicion  , bins=50, color=\"blue\", label=\"Condicional H\", kde=True)\n",
    "sns.histplot(df[df['Tipo contribuyente']=='Mediano'].M500_M, bins=50, color=\"red\", label=\"Condicional M\", kde=True)\n",
    "plt.legend()\n",
    "plt.show()"
   ]
  }
 ],
 "metadata": {
  "kernelspec": {
   "display_name": "datospucp",
   "language": "python",
   "name": "python3"
  },
  "language_info": {
   "codemirror_mode": {
    "name": "ipython",
    "version": 3
   },
   "file_extension": ".py",
   "mimetype": "text/x-python",
   "name": "python",
   "nbconvert_exporter": "python",
   "pygments_lexer": "ipython3",
   "version": "3.13.7"
  }
 },
 "nbformat": 4,
 "nbformat_minor": 5
}
