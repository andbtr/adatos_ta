{
 "cells": [
  {
   "cell_type": "markdown",
   "id": "7c8f4076",
   "metadata": {},
   "source": [
    "# **Step4b -> \"Reducción de dimensiones\"**"
   ]
  },
  {
   "cell_type": "markdown",
   "id": "30acf1a4",
   "metadata": {},
   "source": [
    "##wd"
   ]
  },
  {
   "cell_type": "code",
   "execution_count": 1,
   "id": "f9e7fd03",
   "metadata": {},
   "outputs": [
    {
     "data": {
      "text/plain": [
       "'../data'"
      ]
     },
     "execution_count": 1,
     "metadata": {},
     "output_type": "execute_result"
    }
   ],
   "source": [
    "working_dir = \"../data\"\n",
    "working_dir"
   ]
  },
  {
   "cell_type": "code",
   "execution_count": 2,
   "id": "bd2f61d7",
   "metadata": {},
   "outputs": [],
   "source": [
    "import pandas as pd"
   ]
  },
  {
   "cell_type": "markdown",
   "id": "eb216775",
   "metadata": {},
   "source": [
    "## Archivo de datos: **datos_post_step4a.csv**\n"
   ]
  },
  {
   "cell_type": "code",
   "execution_count": 30,
   "id": "30e0acd6",
   "metadata": {},
   "outputs": [
    {
     "name": "stdout",
     "output_type": "stream",
     "text": [
      "(244103, 106)\n"
     ]
    },
    {
     "data": {
      "text/html": [
       "<div>\n",
       "<style scoped>\n",
       "    .dataframe tbody tr th:only-of-type {\n",
       "        vertical-align: middle;\n",
       "    }\n",
       "\n",
       "    .dataframe tbody tr th {\n",
       "        vertical-align: top;\n",
       "    }\n",
       "\n",
       "    .dataframe thead th {\n",
       "        text-align: right;\n",
       "    }\n",
       "</style>\n",
       "<table border=\"1\" class=\"dataframe\">\n",
       "  <thead>\n",
       "    <tr style=\"text-align: right;\">\n",
       "      <th></th>\n",
       "      <th>valor_adquisicion_pen</th>\n",
       "      <th>valor_referencial_2025_pen</th>\n",
       "      <th>anios_desde_inscripcion</th>\n",
       "      <th>base_imponible</th>\n",
       "      <th>valor_adquisicion_log</th>\n",
       "      <th>valor_referencial_log</th>\n",
       "      <th>base_imponible_log</th>\n",
       "      <th>valor_adquisicion_scaled</th>\n",
       "      <th>valor_referencial_scaled</th>\n",
       "      <th>base_imponible_scaled</th>\n",
       "      <th>...</th>\n",
       "      <th>marca_agrupada_MERCEDES BENZ</th>\n",
       "      <th>marca_agrupada_MG</th>\n",
       "      <th>marca_agrupada_MITSUBISHI</th>\n",
       "      <th>marca_agrupada_NISSAN</th>\n",
       "      <th>marca_agrupada_OTROS</th>\n",
       "      <th>marca_agrupada_SUBARU</th>\n",
       "      <th>marca_agrupada_SUZUKI</th>\n",
       "      <th>marca_agrupada_TOYOTA</th>\n",
       "      <th>marca_agrupada_VOLKSWAGEN</th>\n",
       "      <th>marca_agrupada_VOLVO</th>\n",
       "    </tr>\n",
       "  </thead>\n",
       "  <tbody>\n",
       "    <tr>\n",
       "      <th>0</th>\n",
       "      <td>149323.8</td>\n",
       "      <td>126060</td>\n",
       "      <td>3</td>\n",
       "      <td>149323.8</td>\n",
       "      <td>11.913879</td>\n",
       "      <td>11.744521</td>\n",
       "      <td>11.913879</td>\n",
       "      <td>0.780557</td>\n",
       "      <td>0.808453</td>\n",
       "      <td>0.770073</td>\n",
       "      <td>...</td>\n",
       "      <td>False</td>\n",
       "      <td>False</td>\n",
       "      <td>False</td>\n",
       "      <td>False</td>\n",
       "      <td>False</td>\n",
       "      <td>False</td>\n",
       "      <td>False</td>\n",
       "      <td>False</td>\n",
       "      <td>False</td>\n",
       "      <td>False</td>\n",
       "    </tr>\n",
       "    <tr>\n",
       "      <th>1</th>\n",
       "      <td>52462.5</td>\n",
       "      <td>48930</td>\n",
       "      <td>1</td>\n",
       "      <td>52462.5</td>\n",
       "      <td>10.867873</td>\n",
       "      <td>10.798166</td>\n",
       "      <td>10.867873</td>\n",
       "      <td>-0.619207</td>\n",
       "      <td>-0.543770</td>\n",
       "      <td>-0.668268</td>\n",
       "      <td>...</td>\n",
       "      <td>False</td>\n",
       "      <td>False</td>\n",
       "      <td>False</td>\n",
       "      <td>False</td>\n",
       "      <td>False</td>\n",
       "      <td>False</td>\n",
       "      <td>False</td>\n",
       "      <td>False</td>\n",
       "      <td>False</td>\n",
       "      <td>False</td>\n",
       "    </tr>\n",
       "    <tr>\n",
       "      <th>2</th>\n",
       "      <td>158062.8</td>\n",
       "      <td>136190</td>\n",
       "      <td>2</td>\n",
       "      <td>158062.8</td>\n",
       "      <td>11.970754</td>\n",
       "      <td>11.821814</td>\n",
       "      <td>11.970754</td>\n",
       "      <td>0.856667</td>\n",
       "      <td>0.918894</td>\n",
       "      <td>0.848280</td>\n",
       "      <td>...</td>\n",
       "      <td>False</td>\n",
       "      <td>False</td>\n",
       "      <td>False</td>\n",
       "      <td>False</td>\n",
       "      <td>True</td>\n",
       "      <td>False</td>\n",
       "      <td>False</td>\n",
       "      <td>False</td>\n",
       "      <td>False</td>\n",
       "      <td>False</td>\n",
       "    </tr>\n",
       "    <tr>\n",
       "      <th>3</th>\n",
       "      <td>58068.2</td>\n",
       "      <td>40850</td>\n",
       "      <td>3</td>\n",
       "      <td>58068.2</td>\n",
       "      <td>10.969391</td>\n",
       "      <td>10.617687</td>\n",
       "      <td>10.969391</td>\n",
       "      <td>-0.483356</td>\n",
       "      <td>-0.801653</td>\n",
       "      <td>-0.528673</td>\n",
       "      <td>...</td>\n",
       "      <td>False</td>\n",
       "      <td>False</td>\n",
       "      <td>False</td>\n",
       "      <td>False</td>\n",
       "      <td>False</td>\n",
       "      <td>False</td>\n",
       "      <td>False</td>\n",
       "      <td>False</td>\n",
       "      <td>False</td>\n",
       "      <td>False</td>\n",
       "    </tr>\n",
       "    <tr>\n",
       "      <th>4</th>\n",
       "      <td>58217.6</td>\n",
       "      <td>64070</td>\n",
       "      <td>2</td>\n",
       "      <td>64070.0</td>\n",
       "      <td>10.971960</td>\n",
       "      <td>11.067747</td>\n",
       "      <td>11.067747</td>\n",
       "      <td>-0.479917</td>\n",
       "      <td>-0.158573</td>\n",
       "      <td>-0.393425</td>\n",
       "      <td>...</td>\n",
       "      <td>False</td>\n",
       "      <td>False</td>\n",
       "      <td>False</td>\n",
       "      <td>False</td>\n",
       "      <td>False</td>\n",
       "      <td>False</td>\n",
       "      <td>False</td>\n",
       "      <td>False</td>\n",
       "      <td>False</td>\n",
       "      <td>False</td>\n",
       "    </tr>\n",
       "  </tbody>\n",
       "</table>\n",
       "<p>5 rows × 106 columns</p>\n",
       "</div>"
      ],
      "text/plain": [
       "   valor_adquisicion_pen  valor_referencial_2025_pen  anios_desde_inscripcion  \\\n",
       "0               149323.8                      126060                        3   \n",
       "1                52462.5                       48930                        1   \n",
       "2               158062.8                      136190                        2   \n",
       "3                58068.2                       40850                        3   \n",
       "4                58217.6                       64070                        2   \n",
       "\n",
       "   base_imponible  valor_adquisicion_log  valor_referencial_log  \\\n",
       "0        149323.8              11.913879              11.744521   \n",
       "1         52462.5              10.867873              10.798166   \n",
       "2        158062.8              11.970754              11.821814   \n",
       "3         58068.2              10.969391              10.617687   \n",
       "4         64070.0              10.971960              11.067747   \n",
       "\n",
       "   base_imponible_log  valor_adquisicion_scaled  valor_referencial_scaled  \\\n",
       "0           11.913879                  0.780557                  0.808453   \n",
       "1           10.867873                 -0.619207                 -0.543770   \n",
       "2           11.970754                  0.856667                  0.918894   \n",
       "3           10.969391                 -0.483356                 -0.801653   \n",
       "4           11.067747                 -0.479917                 -0.158573   \n",
       "\n",
       "   base_imponible_scaled  ...  marca_agrupada_MERCEDES BENZ  \\\n",
       "0               0.770073  ...                         False   \n",
       "1              -0.668268  ...                         False   \n",
       "2               0.848280  ...                         False   \n",
       "3              -0.528673  ...                         False   \n",
       "4              -0.393425  ...                         False   \n",
       "\n",
       "   marca_agrupada_MG  marca_agrupada_MITSUBISHI  marca_agrupada_NISSAN  \\\n",
       "0              False                      False                  False   \n",
       "1              False                      False                  False   \n",
       "2              False                      False                  False   \n",
       "3              False                      False                  False   \n",
       "4              False                      False                  False   \n",
       "\n",
       "   marca_agrupada_OTROS  marca_agrupada_SUBARU  marca_agrupada_SUZUKI  \\\n",
       "0                 False                  False                  False   \n",
       "1                 False                  False                  False   \n",
       "2                  True                  False                  False   \n",
       "3                 False                  False                  False   \n",
       "4                 False                  False                  False   \n",
       "\n",
       "   marca_agrupada_TOYOTA  marca_agrupada_VOLKSWAGEN  marca_agrupada_VOLVO  \n",
       "0                  False                      False                 False  \n",
       "1                  False                      False                 False  \n",
       "2                  False                      False                 False  \n",
       "3                  False                      False                 False  \n",
       "4                  False                      False                 False  \n",
       "\n",
       "[5 rows x 106 columns]"
      ]
     },
     "execution_count": 30,
     "metadata": {},
     "output_type": "execute_result"
    }
   ],
   "source": [
    "# Cargamos los datos transformados del Step 4a\n",
    "df = pd.read_csv(f\"{working_dir}/datos_post_step4a.csv\")\n",
    "# Aplicamos las transformaciones básicas \n",
    "df.drop_duplicates(inplace=True)\n",
    "df.dropna(inplace=True)\n",
    "print(df.shape)\n",
    "df.head()"
   ]
  },
  {
   "cell_type": "code",
   "execution_count": 31,
   "id": "dac92faf",
   "metadata": {},
   "outputs": [
    {
     "data": {
      "text/plain": [
       "valor_adquisicion_pen         float64\n",
       "valor_referencial_2025_pen      int64\n",
       "anios_desde_inscripcion         int64\n",
       "base_imponible                float64\n",
       "valor_adquisicion_log         float64\n",
       "                               ...   \n",
       "marca_agrupada_SUBARU            bool\n",
       "marca_agrupada_SUZUKI            bool\n",
       "marca_agrupada_TOYOTA            bool\n",
       "marca_agrupada_VOLKSWAGEN        bool\n",
       "marca_agrupada_VOLVO             bool\n",
       "Length: 106, dtype: object"
      ]
     },
     "execution_count": 31,
     "metadata": {},
     "output_type": "execute_result"
    }
   ],
   "source": [
    "df.dtypes"
   ]
  },
  {
   "cell_type": "code",
   "execution_count": 32,
   "id": "07da292d",
   "metadata": {},
   "outputs": [],
   "source": [
    "df.drop(columns=['base_imponible', 'valor_adquisicion_pen', 'valor_referencial_2025_pen'], inplace=True)"
   ]
  },
  {
   "cell_type": "markdown",
   "id": "008ab335",
   "metadata": {},
   "source": [
    "## Analizamos la correlación entre Variables Numéricas"
   ]
  },
  {
   "cell_type": "code",
   "execution_count": 33,
   "id": "02322c12",
   "metadata": {},
   "outputs": [
    {
     "data": {
      "text/plain": [
       "Index(['anios_desde_inscripcion', 'valor_adquisicion_log',\n",
       "       'valor_referencial_log', 'base_imponible_log',\n",
       "       'valor_adquisicion_scaled', 'valor_referencial_scaled',\n",
       "       'base_imponible_scaled', 'propiedad_100%', 'propiedad_<100%',\n",
       "       'tipo_persona_juridica',\n",
       "       ...\n",
       "       'marca_agrupada_MERCEDES BENZ', 'marca_agrupada_MG',\n",
       "       'marca_agrupada_MITSUBISHI', 'marca_agrupada_NISSAN',\n",
       "       'marca_agrupada_OTROS', 'marca_agrupada_SUBARU',\n",
       "       'marca_agrupada_SUZUKI', 'marca_agrupada_TOYOTA',\n",
       "       'marca_agrupada_VOLKSWAGEN', 'marca_agrupada_VOLVO'],\n",
       "      dtype='object', length=103)"
      ]
     },
     "execution_count": 33,
     "metadata": {},
     "output_type": "execute_result"
    }
   ],
   "source": [
    "df.columns"
   ]
  },
  {
   "cell_type": "code",
   "execution_count": 34,
   "id": "21e40917",
   "metadata": {},
   "outputs": [
    {
     "data": {
      "text/plain": [
       "array(['anios_desde_inscripcion', 'valor_adquisicion_log',\n",
       "       'valor_referencial_log', 'base_imponible_log',\n",
       "       'valor_adquisicion_scaled', 'valor_referencial_scaled',\n",
       "       'base_imponible_scaled'], dtype=object)"
      ]
     },
     "execution_count": 34,
     "metadata": {},
     "output_type": "execute_result"
    }
   ],
   "source": [
    "numerical = df.select_dtypes(include=['int64', 'float64']).columns.values\n",
    "numerical"
   ]
  },
  {
   "cell_type": "code",
   "execution_count": 35,
   "id": "336ff083",
   "metadata": {},
   "outputs": [
    {
     "data": {
      "text/plain": [
       "array([], dtype=object)"
      ]
     },
     "execution_count": 35,
     "metadata": {},
     "output_type": "execute_result"
    }
   ],
   "source": [
    "categorical = df.select_dtypes(include=['object']).columns.values\n",
    "categorical"
   ]
  },
  {
   "cell_type": "code",
   "execution_count": 36,
   "id": "53f27dea",
   "metadata": {},
   "outputs": [
    {
     "data": {
      "image/png": "[encoded data removed]",
      "text/plain": [
       "<Figure size 640x480 with 2 Axes>"
      ]
     },
     "metadata": {},
     "output_type": "display_data"
    }
   ],
   "source": [
    "import seaborn as sns\n",
    "import matplotlib.pyplot as plt\n",
    "sns.heatmap(df[numerical].corr(), annot=True, cmap='coolwarm', center=0, vmin=-1, vmax=1)\n",
    "plt.title('Matriz de Correlación - Variables Numéricas')\n",
    "plt.show()"
   ]
  },
  {
   "cell_type": "code",
   "execution_count": 37,
   "id": "cc9c6b27",
   "metadata": {},
   "outputs": [],
   "source": [
    "df.drop(columns=['base_imponible_log', 'valor_adquisicion_log', 'valor_referencial_log'], inplace=True)"
   ]
  },
  {
   "cell_type": "code",
   "execution_count": 39,
   "id": "dab70cd5",
   "metadata": {},
   "outputs": [
    {
     "data": {
      "text/plain": [
       "array(['anios_desde_inscripcion', 'valor_adquisicion_scaled',\n",
       "       'valor_referencial_scaled', 'base_imponible_scaled'], dtype=object)"
      ]
     },
     "execution_count": 39,
     "metadata": {},
     "output_type": "execute_result"
    }
   ],
   "source": [
    "numerical = df.select_dtypes(include=['int64', 'float64']).columns.values\n",
    "numerical"
   ]
  },
  {
   "cell_type": "code",
   "execution_count": 40,
   "id": "cd0d10c4",
   "metadata": {},
   "outputs": [
    {
     "data": {
      "text/html": [
       "<div>\n",
       "<style scoped>\n",
       "    .dataframe tbody tr th:only-of-type {\n",
       "        vertical-align: middle;\n",
       "    }\n",
       "\n",
       "    .dataframe tbody tr th {\n",
       "        vertical-align: top;\n",
       "    }\n",
       "\n",
       "    .dataframe thead th {\n",
       "        text-align: right;\n",
       "    }\n",
       "</style>\n",
       "<table border=\"1\" class=\"dataframe\">\n",
       "  <thead>\n",
       "    <tr style=\"text-align: right;\">\n",
       "      <th></th>\n",
       "      <th>anios_desde_inscripcion</th>\n",
       "      <th>valor_adquisicion_scaled</th>\n",
       "      <th>valor_referencial_scaled</th>\n",
       "      <th>base_imponible_scaled</th>\n",
       "    </tr>\n",
       "  </thead>\n",
       "  <tbody>\n",
       "    <tr>\n",
       "      <th>0</th>\n",
       "      <td>3</td>\n",
       "      <td>0.780557</td>\n",
       "      <td>0.808453</td>\n",
       "      <td>0.770073</td>\n",
       "    </tr>\n",
       "    <tr>\n",
       "      <th>1</th>\n",
       "      <td>1</td>\n",
       "      <td>-0.619207</td>\n",
       "      <td>-0.543770</td>\n",
       "      <td>-0.668268</td>\n",
       "    </tr>\n",
       "    <tr>\n",
       "      <th>2</th>\n",
       "      <td>2</td>\n",
       "      <td>0.856667</td>\n",
       "      <td>0.918894</td>\n",
       "      <td>0.848280</td>\n",
       "    </tr>\n",
       "    <tr>\n",
       "      <th>3</th>\n",
       "      <td>3</td>\n",
       "      <td>-0.483356</td>\n",
       "      <td>-0.801653</td>\n",
       "      <td>-0.528673</td>\n",
       "    </tr>\n",
       "    <tr>\n",
       "      <th>4</th>\n",
       "      <td>2</td>\n",
       "      <td>-0.479917</td>\n",
       "      <td>-0.158573</td>\n",
       "      <td>-0.393425</td>\n",
       "    </tr>\n",
       "  </tbody>\n",
       "</table>\n",
       "</div>"
      ],
      "text/plain": [
       "   anios_desde_inscripcion  valor_adquisicion_scaled  \\\n",
       "0                        3                  0.780557   \n",
       "1                        1                 -0.619207   \n",
       "2                        2                  0.856667   \n",
       "3                        3                 -0.483356   \n",
       "4                        2                 -0.479917   \n",
       "\n",
       "   valor_referencial_scaled  base_imponible_scaled  \n",
       "0                  0.808453               0.770073  \n",
       "1                 -0.543770              -0.668268  \n",
       "2                  0.918894               0.848280  \n",
       "3                 -0.801653              -0.528673  \n",
       "4                 -0.158573              -0.393425  "
      ]
     },
     "execution_count": 40,
     "metadata": {},
     "output_type": "execute_result"
    }
   ],
   "source": [
    "df[numerical].head(5)"
   ]
  },
  {
   "cell_type": "markdown",
   "id": "101e1f34",
   "metadata": {},
   "source": [
    "## Reducimos la dimensionalidad con PCA"
   ]
  },
  {
   "cell_type": "code",
   "execution_count": 41,
   "id": "98b3ab6e",
   "metadata": {},
   "outputs": [],
   "source": [
    "import pandas as pd\n",
    "import numpy as np\n",
    "import matplotlib as mpl\n",
    "import matplotlib.pyplot as plt"
   ]
  },
  {
   "cell_type": "code",
   "execution_count": 42,
   "id": "a1de7705",
   "metadata": {},
   "outputs": [
    {
     "name": "stdout",
     "output_type": "stream",
     "text": [
      "Test de Bartlett - p-value: 0.0\n",
      "✓ Se recomienda aplicar PCA (p-value <= 0.05)\n"
     ]
    }
   ],
   "source": [
    "# Test de Bartlett para evaluar si es recomendable aplicar PCA\n",
    "try:\n",
    "    from factor_analyzer.factor_analyzer import calculate_bartlett_sphericity\n",
    "    \n",
    "    # H0: Todas las correlaciones son cero  -> No se observa correlación entre las variables\n",
    "    # Ha: Al menos una de las correlaciones es diferente de cero\n",
    "    \n",
    "    chi_square_value, p_value = calculate_bartlett_sphericity(df[numerical])\n",
    "    print(f\"Test de Bartlett - p-value: {p_value}\")\n",
    "    \n",
    "    if p_value <= 0.05:\n",
    "        print(\"✓ Se recomienda aplicar PCA (p-value <= 0.05)\")\n",
    "    else:\n",
    "        print(\"✗ No se recomienda aplicar PCA (p-value > 0.05)\")\n",
    "        \n",
    "except ImportError:\n",
    "    print(\"Nota: factor_analyzer no disponible, continuamos con PCA\")\n",
    "    p_value = 0.001  # Asumimos que es recomendable"
   ]
  },
  {
   "cell_type": "code",
   "execution_count": 43,
   "id": "c3c3538c",
   "metadata": {},
   "outputs": [
    {
     "data": {
      "text/html": [
       "<div>\n",
       "<style scoped>\n",
       "    .dataframe tbody tr th:only-of-type {\n",
       "        vertical-align: middle;\n",
       "    }\n",
       "\n",
       "    .dataframe tbody tr th {\n",
       "        vertical-align: top;\n",
       "    }\n",
       "\n",
       "    .dataframe thead th {\n",
       "        text-align: right;\n",
       "    }\n",
       "</style>\n",
       "<table border=\"1\" class=\"dataframe\">\n",
       "  <thead>\n",
       "    <tr style=\"text-align: right;\">\n",
       "      <th></th>\n",
       "      <th>PC1</th>\n",
       "      <th>PC2</th>\n",
       "      <th>PC3</th>\n",
       "      <th>PC4</th>\n",
       "    </tr>\n",
       "  </thead>\n",
       "  <tbody>\n",
       "    <tr>\n",
       "      <th>0</th>\n",
       "      <td>1.088618</td>\n",
       "      <td>1.047647</td>\n",
       "      <td>-0.164519</td>\n",
       "      <td>-0.076925</td>\n",
       "    </tr>\n",
       "    <tr>\n",
       "      <th>1</th>\n",
       "      <td>-1.206239</td>\n",
       "      <td>-1.044236</td>\n",
       "      <td>0.297578</td>\n",
       "      <td>-0.048802</td>\n",
       "    </tr>\n",
       "    <tr>\n",
       "      <th>2</th>\n",
       "      <td>1.268563</td>\n",
       "      <td>0.054411</td>\n",
       "      <td>-0.236542</td>\n",
       "      <td>-0.072317</td>\n",
       "    </tr>\n",
       "    <tr>\n",
       "      <th>3</th>\n",
       "      <td>-1.224823</td>\n",
       "      <td>0.958742</td>\n",
       "      <td>0.511973</td>\n",
       "      <td>0.166181</td>\n",
       "    </tr>\n",
       "    <tr>\n",
       "      <th>4</th>\n",
       "      <td>-0.825177</td>\n",
       "      <td>-0.027313</td>\n",
       "      <td>0.067194</td>\n",
       "      <td>-0.153205</td>\n",
       "    </tr>\n",
       "    <tr>\n",
       "      <th>...</th>\n",
       "      <td>...</td>\n",
       "      <td>...</td>\n",
       "      <td>...</td>\n",
       "      <td>...</td>\n",
       "    </tr>\n",
       "    <tr>\n",
       "      <th>244098</th>\n",
       "      <td>-0.660149</td>\n",
       "      <td>-1.020660</td>\n",
       "      <td>0.002905</td>\n",
       "      <td>-0.128063</td>\n",
       "    </tr>\n",
       "    <tr>\n",
       "      <th>244099</th>\n",
       "      <td>0.321354</td>\n",
       "      <td>-0.982043</td>\n",
       "      <td>-0.231749</td>\n",
       "      <td>-0.156260</td>\n",
       "    </tr>\n",
       "    <tr>\n",
       "      <th>244100</th>\n",
       "      <td>1.102340</td>\n",
       "      <td>1.050815</td>\n",
       "      <td>-0.035953</td>\n",
       "      <td>0.124269</td>\n",
       "    </tr>\n",
       "    <tr>\n",
       "      <th>244101</th>\n",
       "      <td>0.085479</td>\n",
       "      <td>1.008191</td>\n",
       "      <td>0.083338</td>\n",
       "      <td>-0.041022</td>\n",
       "    </tr>\n",
       "    <tr>\n",
       "      <th>244102</th>\n",
       "      <td>0.416014</td>\n",
       "      <td>0.019107</td>\n",
       "      <td>-0.114820</td>\n",
       "      <td>-0.177722</td>\n",
       "    </tr>\n",
       "  </tbody>\n",
       "</table>\n",
       "<p>244103 rows × 4 columns</p>\n",
       "</div>"
      ],
      "text/plain": [
       "             PC1       PC2       PC3       PC4\n",
       "0       1.088618  1.047647 -0.164519 -0.076925\n",
       "1      -1.206239 -1.044236  0.297578 -0.048802\n",
       "2       1.268563  0.054411 -0.236542 -0.072317\n",
       "3      -1.224823  0.958742  0.511973  0.166181\n",
       "4      -0.825177 -0.027313  0.067194 -0.153205\n",
       "...          ...       ...       ...       ...\n",
       "244098 -0.660149 -1.020660  0.002905 -0.128063\n",
       "244099  0.321354 -0.982043 -0.231749 -0.156260\n",
       "244100  1.102340  1.050815 -0.035953  0.124269\n",
       "244101  0.085479  1.008191  0.083338 -0.041022\n",
       "244102  0.416014  0.019107 -0.114820 -0.177722\n",
       "\n",
       "[244103 rows x 4 columns]"
      ]
     },
     "execution_count": 43,
     "metadata": {},
     "output_type": "execute_result"
    }
   ],
   "source": [
    "# PCA\n",
    "from sklearn.decomposition import PCA\n",
    "\n",
    "# Definir X como las variables numéricas\n",
    "X = df[numerical]\n",
    "numerical_pca = numerical  # Lista de variables numéricas\n",
    "\n",
    "pca = PCA()\n",
    "datos_pca_array = pca.fit_transform(X)\n",
    "\n",
    "# Convertimos a DataFrame\n",
    "datos_pca = pd.DataFrame(datos_pca_array, columns=[f'PC{i+1}' for i in range(len(numerical_pca))])\n",
    "datos_pca"
   ]
  },
  {
   "cell_type": "code",
   "execution_count": 44,
   "id": "c3d39e97",
   "metadata": {},
   "outputs": [
    {
     "data": {
      "text/plain": [
       "array([[-0.03442693,  0.7376608 ,  0.46035896,  0.49268748],\n",
       "       [ 0.99871514,  0.00796074,  0.00930272,  0.04917475],\n",
       "       [ 0.02379133,  0.67327638, -0.5558118 , -0.48703813],\n",
       "       [-0.02858022, -0.04992082, -0.69213895,  0.71946838]])"
      ]
     },
     "execution_count": 44,
     "metadata": {},
     "output_type": "execute_result"
    }
   ],
   "source": [
    "pca_loadings = pca.components_\n",
    "pca_loadings"
   ]
  },
  {
   "cell_type": "code",
   "execution_count": 45,
   "id": "dd3d8458",
   "metadata": {},
   "outputs": [
    {
     "data": {
      "text/plain": [
       "(244103, 4)"
      ]
     },
     "execution_count": 45,
     "metadata": {},
     "output_type": "execute_result"
    }
   ],
   "source": [
    "X.shape"
   ]
  },
  {
   "cell_type": "code",
   "execution_count": 46,
   "id": "9a244504",
   "metadata": {},
   "outputs": [
    {
     "data": {
      "text/html": [
       "<div>\n",
       "<style scoped>\n",
       "    .dataframe tbody tr th:only-of-type {\n",
       "        vertical-align: middle;\n",
       "    }\n",
       "\n",
       "    .dataframe tbody tr th {\n",
       "        vertical-align: top;\n",
       "    }\n",
       "\n",
       "    .dataframe thead th {\n",
       "        text-align: right;\n",
       "    }\n",
       "</style>\n",
       "<table border=\"1\" class=\"dataframe\">\n",
       "  <thead>\n",
       "    <tr style=\"text-align: right;\">\n",
       "      <th></th>\n",
       "      <th>PC1</th>\n",
       "      <th>PC2</th>\n",
       "      <th>PC3</th>\n",
       "      <th>PC4</th>\n",
       "    </tr>\n",
       "  </thead>\n",
       "  <tbody>\n",
       "    <tr>\n",
       "      <th>anios_desde_inscripcion</th>\n",
       "      <td>-0.034427</td>\n",
       "      <td>0.737661</td>\n",
       "      <td>0.460359</td>\n",
       "      <td>0.492687</td>\n",
       "    </tr>\n",
       "    <tr>\n",
       "      <th>valor_adquisicion_scaled</th>\n",
       "      <td>0.998715</td>\n",
       "      <td>0.007961</td>\n",
       "      <td>0.009303</td>\n",
       "      <td>0.049175</td>\n",
       "    </tr>\n",
       "    <tr>\n",
       "      <th>valor_referencial_scaled</th>\n",
       "      <td>0.023791</td>\n",
       "      <td>0.673276</td>\n",
       "      <td>-0.555812</td>\n",
       "      <td>-0.487038</td>\n",
       "    </tr>\n",
       "    <tr>\n",
       "      <th>base_imponible_scaled</th>\n",
       "      <td>-0.028580</td>\n",
       "      <td>-0.049921</td>\n",
       "      <td>-0.692139</td>\n",
       "      <td>0.719468</td>\n",
       "    </tr>\n",
       "  </tbody>\n",
       "</table>\n",
       "</div>"
      ],
      "text/plain": [
       "                               PC1       PC2       PC3       PC4\n",
       "anios_desde_inscripcion  -0.034427  0.737661  0.460359  0.492687\n",
       "valor_adquisicion_scaled  0.998715  0.007961  0.009303  0.049175\n",
       "valor_referencial_scaled  0.023791  0.673276 -0.555812 -0.487038\n",
       "base_imponible_scaled    -0.028580 -0.049921 -0.692139  0.719468"
      ]
     },
     "execution_count": 46,
     "metadata": {},
     "output_type": "execute_result"
    }
   ],
   "source": [
    "loadings_df = pd.DataFrame(\n",
    "    pca_loadings,\n",
    "    columns=[f'PC{i+1}' for i in range(pca.n_components_)],\n",
    "    index=numerical\n",
    ")\n",
    "loadings_df"
   ]
  },
  {
   "cell_type": "code",
   "execution_count": 47,
   "id": "040818c2",
   "metadata": {},
   "outputs": [
    {
     "data": {
      "text/plain": [
       "array([[ 1.08861834,  1.04764712, -0.16451912, -0.07692506],\n",
       "       [-1.20623872, -1.04423569,  0.29757835, -0.04880174],\n",
       "       [ 1.26856306,  0.05441111, -0.23654196, -0.07231712],\n",
       "       ...,\n",
       "       [ 1.1023399 ,  1.05081499, -0.03595271,  0.12426926],\n",
       "       [ 0.08547866,  1.00819067,  0.08333811, -0.04102171],\n",
       "       [ 0.41601376,  0.01910668, -0.11481987, -0.1777215 ]],\n",
       "      shape=(244103, 4))"
      ]
     },
     "execution_count": 47,
     "metadata": {},
     "output_type": "execute_result"
    }
   ],
   "source": [
    "pca_scores = pca.transform(X)\n",
    "pca_scores"
   ]
  },
  {
   "cell_type": "code",
   "execution_count": 48,
   "id": "86131061",
   "metadata": {},
   "outputs": [
    {
     "data": {
      "text/html": [
       "<div>\n",
       "<style scoped>\n",
       "    .dataframe tbody tr th:only-of-type {\n",
       "        vertical-align: middle;\n",
       "    }\n",
       "\n",
       "    .dataframe tbody tr th {\n",
       "        vertical-align: top;\n",
       "    }\n",
       "\n",
       "    .dataframe thead th {\n",
       "        text-align: right;\n",
       "    }\n",
       "</style>\n",
       "<table border=\"1\" class=\"dataframe\">\n",
       "  <thead>\n",
       "    <tr style=\"text-align: right;\">\n",
       "      <th></th>\n",
       "      <th>PC1</th>\n",
       "      <th>PC2</th>\n",
       "      <th>PC3</th>\n",
       "      <th>PC4</th>\n",
       "    </tr>\n",
       "  </thead>\n",
       "  <tbody>\n",
       "    <tr>\n",
       "      <th>0</th>\n",
       "      <td>1.088618</td>\n",
       "      <td>1.047647</td>\n",
       "      <td>-0.164519</td>\n",
       "      <td>-0.076925</td>\n",
       "    </tr>\n",
       "    <tr>\n",
       "      <th>1</th>\n",
       "      <td>-1.206239</td>\n",
       "      <td>-1.044236</td>\n",
       "      <td>0.297578</td>\n",
       "      <td>-0.048802</td>\n",
       "    </tr>\n",
       "    <tr>\n",
       "      <th>2</th>\n",
       "      <td>1.268563</td>\n",
       "      <td>0.054411</td>\n",
       "      <td>-0.236542</td>\n",
       "      <td>-0.072317</td>\n",
       "    </tr>\n",
       "    <tr>\n",
       "      <th>3</th>\n",
       "      <td>-1.224823</td>\n",
       "      <td>0.958742</td>\n",
       "      <td>0.511973</td>\n",
       "      <td>0.166181</td>\n",
       "    </tr>\n",
       "    <tr>\n",
       "      <th>4</th>\n",
       "      <td>-0.825177</td>\n",
       "      <td>-0.027313</td>\n",
       "      <td>0.067194</td>\n",
       "      <td>-0.153205</td>\n",
       "    </tr>\n",
       "    <tr>\n",
       "      <th>...</th>\n",
       "      <td>...</td>\n",
       "      <td>...</td>\n",
       "      <td>...</td>\n",
       "      <td>...</td>\n",
       "    </tr>\n",
       "    <tr>\n",
       "      <th>251812</th>\n",
       "      <td>-0.660149</td>\n",
       "      <td>-1.020660</td>\n",
       "      <td>0.002905</td>\n",
       "      <td>-0.128063</td>\n",
       "    </tr>\n",
       "    <tr>\n",
       "      <th>251813</th>\n",
       "      <td>0.321354</td>\n",
       "      <td>-0.982043</td>\n",
       "      <td>-0.231749</td>\n",
       "      <td>-0.156260</td>\n",
       "    </tr>\n",
       "    <tr>\n",
       "      <th>251814</th>\n",
       "      <td>1.102340</td>\n",
       "      <td>1.050815</td>\n",
       "      <td>-0.035953</td>\n",
       "      <td>0.124269</td>\n",
       "    </tr>\n",
       "    <tr>\n",
       "      <th>251815</th>\n",
       "      <td>0.085479</td>\n",
       "      <td>1.008191</td>\n",
       "      <td>0.083338</td>\n",
       "      <td>-0.041022</td>\n",
       "    </tr>\n",
       "    <tr>\n",
       "      <th>251816</th>\n",
       "      <td>0.416014</td>\n",
       "      <td>0.019107</td>\n",
       "      <td>-0.114820</td>\n",
       "      <td>-0.177722</td>\n",
       "    </tr>\n",
       "  </tbody>\n",
       "</table>\n",
       "<p>244103 rows × 4 columns</p>\n",
       "</div>"
      ],
      "text/plain": [
       "             PC1       PC2       PC3       PC4\n",
       "0       1.088618  1.047647 -0.164519 -0.076925\n",
       "1      -1.206239 -1.044236  0.297578 -0.048802\n",
       "2       1.268563  0.054411 -0.236542 -0.072317\n",
       "3      -1.224823  0.958742  0.511973  0.166181\n",
       "4      -0.825177 -0.027313  0.067194 -0.153205\n",
       "...          ...       ...       ...       ...\n",
       "251812 -0.660149 -1.020660  0.002905 -0.128063\n",
       "251813  0.321354 -0.982043 -0.231749 -0.156260\n",
       "251814  1.102340  1.050815 -0.035953  0.124269\n",
       "251815  0.085479  1.008191  0.083338 -0.041022\n",
       "251816  0.416014  0.019107 -0.114820 -0.177722\n",
       "\n",
       "[244103 rows x 4 columns]"
      ]
     },
     "execution_count": 48,
     "metadata": {},
     "output_type": "execute_result"
    }
   ],
   "source": [
    "datos_pca = pd.DataFrame(\n",
    "    pca_scores, \n",
    "    columns=[f'PC{i+1}' for i in range(pca.n_components_)],  # solo las PCs existentes\n",
    "    index=df.index\n",
    ")\n",
    "datos_pca"
   ]
  },
  {
   "cell_type": "code",
   "execution_count": 49,
   "id": "4f797762",
   "metadata": {},
   "outputs": [
    {
     "name": "stdout",
     "output_type": "stream",
     "text": [
      "Varianza explicada por PC:\n",
      "[2.44276106 0.64002229 0.46965981 0.02780252]\n",
      "[2.4 0.6 0.5 0. ]\n"
     ]
    }
   ],
   "source": [
    "explained_variance = pca.explained_variance_\n",
    "\n",
    "print('Varianza explicada por PC:')\n",
    "print(explained_variance)\n",
    "print(np.round(explained_variance, 1))"
   ]
  },
  {
   "cell_type": "code",
   "execution_count": 50,
   "id": "8e29ced0",
   "metadata": {},
   "outputs": [
    {
     "name": "stdout",
     "output_type": "stream",
     "text": [
      "Proporción de varianza explicada por PC:\n",
      "[0.68228867 0.17876491 0.13118089 0.00776553]\n",
      "Proporción acumulada de varianza explicada por PC:\n",
      "[0.68228867 0.86105358 0.99223447 1.        ]\n"
     ]
    }
   ],
   "source": [
    "PVE = pca.explained_variance_ratio_\n",
    "PVE_acum = np.cumsum(pca.explained_variance_ratio_)\n",
    "\n",
    "print('Proporción de varianza explicada por PC:')\n",
    "print(PVE)\n",
    "print('Proporción acumulada de varianza explicada por PC:')\n",
    "print(PVE_acum)"
   ]
  },
  {
   "cell_type": "code",
   "execution_count": 51,
   "id": "6cb25f43",
   "metadata": {},
   "outputs": [
    {
     "data": {
      "text/plain": [
       "Text(0.5, 1.0, 'Gráfico de sedimentación')"
      ]
     },
     "execution_count": 51,
     "metadata": {},
     "output_type": "execute_result"
    },
    {
     "data": {
      "text/plain": [
       "Text(0.5, 1.0, 'Gráfico de sedimentación')"
      ]
     },
     "execution_count": 51,
     "metadata": {},
     "output_type": "execute_result"
    },
    {
     "data": {
      "image/png": "[encoded data removed]",
      "text/plain": [
       "<Figure size 640x480 with 1 Axes>"
      ]
     },
     "metadata": {},
     "output_type": "display_data"
    }
   ],
   "source": [
    "plt.plot(['PC1', 'PC2', 'PC3', 'PC4'], PVE , marker='x' )\n",
    "plt.title('Gráfico de sedimentación')"
   ]
  },
  {
   "cell_type": "code",
   "execution_count": 52,
   "id": "90458903",
   "metadata": {},
   "outputs": [
    {
     "data": {
      "image/png": "[encoded data removed]",
      "text/plain": [
       "<Figure size 700x500 with 1 Axes>"
      ]
     },
     "metadata": {},
     "output_type": "display_data"
    }
   ],
   "source": [
    "plt.figure(figsize=(7,5))\n",
    "plt.plot([1,2,3,4], PVE_acum, '-s')\n",
    "plt.ylabel('Proporción Acumulada de Varianza Explicada')\n",
    "plt.xlabel('Componente Principal')\n",
    "plt.xticks([1,2,3])\n",
    "plt.show()"
   ]
  },
  {
   "cell_type": "code",
   "execution_count": 53,
   "id": "e5dedb02",
   "metadata": {},
   "outputs": [
    {
     "data": {
      "application/vnd.plotly.v1+json": {
       "config": {
        "plotlyServerURL": "https://plot.ly"
       },
       "data": [
        {
         "fillpattern": {
          "shape": ""
         },
         "hovertemplate": "# Components=%{x}<br>Explained Variance=%{y}<extra></extra>",
         "legendgroup": "",
         "line": {
          "color": "#636efa"
         },
         "marker": {
          "symbol": "circle"
         },
         "mode": "lines",
         "name": "",
         "orientation": "v",
         "showlegend": false,
         "stackgroup": "1",
         "type": "scatter",
         "x": {
          "bdata": "AQIDBA==",
          "dtype": "i1"
         },
         "xaxis": "x",
         "y": {
          "bdata": "IlsCDE/V5T/FYEY7wI3rP/ValX5iwO8/AAAAAAAA8D8=",
          "dtype": "f8"
         },
         "yaxis": "y"
        }
       ],
       "layout": {
        "legend": {
         "tracegroupgap": 0
        },
        "margin": {
         "t": 60
        },
        "template": {
         "data": {
          "bar": [
           {
            "error_x": {
             "color": "#2a3f5f"
            },
            "error_y": {
             "color": "#2a3f5f"
            },
            "marker": {
             "line": {
              "color": "#E5ECF6",
              "width": 0.5
             },
             "pattern": {
              "fillmode": "overlay",
              "size": 10,
              "solidity": 0.2
             }
            },
            "type": "bar"
           }
          ],
          "barpolar": [
           {
            "marker": {
             "line": {
              "color": "#E5ECF6",
              "width": 0.5
             },
             "pattern": {
              "fillmode": "overlay",
              "size": 10,
              "solidity": 0.2
             }
            },
            "type": "barpolar"
           }
          ],
          "carpet": [
           {
            "aaxis": {
             "endlinecolor": "#2a3f5f",
             "gridcolor": "white",
             "linecolor": "white",
             "minorgridcolor": "white",
             "startlinecolor": "#2a3f5f"
            },
            "baxis": {
             "endlinecolor": "#2a3f5f",
             "gridcolor": "white",
             "linecolor": "white",
             "minorgridcolor": "white",
             "startlinecolor": "#2a3f5f"
            },
            "type": "carpet"
           }
          ],
          "choropleth": [
           {
            "colorbar": {
             "outlinewidth": 0,
             "ticks": ""
            },
            "type": "choropleth"
           }
          ],
          "contour": [
           {
            "colorbar": {
             "outlinewidth": 0,
             "ticks": ""
            },
            "colorscale": [
             [
              0,
              "#0d0887"
             ],
             [
              0.1111111111111111,
              "#46039f"
             ],
             [
              0.2222222222222222,
              "#7201a8"
             ],
             [
              0.3333333333333333,
              "#9c179e"
             ],
             [
              0.4444444444444444,
              "#bd3786"
             ],
             [
              0.5555555555555556,
              "#d8576b"
             ],
             [
              0.6666666666666666,
              "#ed7953"
             ],
             [
              0.7777777777777778,
              "#fb9f3a"
             ],
             [
              0.8888888888888888,
              "#fdca26"
             ],
             [
              1,
              "#f0f921"
             ]
            ],
            "type": "contour"
           }
          ],
          "contourcarpet": [
           {
            "colorbar": {
             "outlinewidth": 0,
             "ticks": ""
            },
            "type": "contourcarpet"
           }
          ],
          "heatmap": [
           {
            "colorbar": {
             "outlinewidth": 0,
             "ticks": ""
            },
            "colorscale": [
             [
              0,
              "#0d0887"
             ],
             [
              0.1111111111111111,
              "#46039f"
             ],
             [
              0.2222222222222222,
              "#7201a8"
             ],
             [
              0.3333333333333333,
              "#9c179e"
             ],
             [
              0.4444444444444444,
              "#bd3786"
             ],
             [
              0.5555555555555556,
              "#d8576b"
             ],
             [
              0.6666666666666666,
              "#ed7953"
             ],
             [
              0.7777777777777778,
              "#fb9f3a"
             ],
             [
              0.8888888888888888,
              "#fdca26"
             ],
             [
              1,
              "#f0f921"
             ]
            ],
            "type": "heatmap"
           }
          ],
          "histogram": [
           {
            "marker": {
             "pattern": {
              "fillmode": "overlay",
              "size": 10,
              "solidity": 0.2
             }
            },
            "type": "histogram"
           }
          ],
          "histogram2d": [
           {
            "colorbar": {
             "outlinewidth": 0,
             "ticks": ""
            },
            "colorscale": [
             [
              0,
              "#0d0887"
             ],
             [
              0.1111111111111111,
              "#46039f"
             ],
             [
              0.2222222222222222,
              "#7201a8"
             ],
             [
              0.3333333333333333,
              "#9c179e"
             ],
             [
              0.4444444444444444,
              "#bd3786"
             ],
             [
              0.5555555555555556,
              "#d8576b"
             ],
             [
              0.6666666666666666,
              "#ed7953"
             ],
             [
              0.7777777777777778,
              "#fb9f3a"
             ],
             [
              0.8888888888888888,
              "#fdca26"
             ],
             [
              1,
              "#f0f921"
             ]
            ],
            "type": "histogram2d"
           }
          ],
          "histogram2dcontour": [
           {
            "colorbar": {
             "outlinewidth": 0,
             "ticks": ""
            },
            "colorscale": [
             [
              0,
              "#0d0887"
             ],
             [
              0.1111111111111111,
              "#46039f"
             ],
             [
              0.2222222222222222,
              "#7201a8"
             ],
             [
              0.3333333333333333,
              "#9c179e"
             ],
             [
              0.4444444444444444,
              "#bd3786"
             ],
             [
              0.5555555555555556,
              "#d8576b"
             ],
             [
              0.6666666666666666,
              "#ed7953"
             ],
             [
              0.7777777777777778,
              "#fb9f3a"
             ],
             [
              0.8888888888888888,
              "#fdca26"
             ],
             [
              1,
              "#f0f921"
             ]
            ],
            "type": "histogram2dcontour"
           }
          ],
          "mesh3d": [
           {
            "colorbar": {
             "outlinewidth": 0,
             "ticks": ""
            },
            "type": "mesh3d"
           }
          ],
          "parcoords": [
           {
            "line": {
             "colorbar": {
              "outlinewidth": 0,
              "ticks": ""
             }
            },
            "type": "parcoords"
           }
          ],
          "pie": [
           {
            "automargin": true,
            "type": "pie"
           }
          ],
          "scatter": [
           {
            "fillpattern": {
             "fillmode": "overlay",
             "size": 10,
             "solidity": 0.2
            },
            "type": "scatter"
           }
          ],
          "scatter3d": [
           {
            "line": {
             "colorbar": {
              "outlinewidth": 0,
              "ticks": ""
             }
            },
            "marker": {
             "colorbar": {
              "outlinewidth": 0,
              "ticks": ""
             }
            },
            "type": "scatter3d"
           }
          ],
          "scattercarpet": [
           {
            "marker": {
             "colorbar": {
              "outlinewidth": 0,
              "ticks": ""
             }
            },
            "type": "scattercarpet"
           }
          ],
          "scattergeo": [
           {
            "marker": {
             "colorbar": {
              "outlinewidth": 0,
              "ticks": ""
             }
            },
            "type": "scattergeo"
           }
          ],
          "scattergl": [
           {
            "marker": {
             "colorbar": {
              "outlinewidth": 0,
              "ticks": ""
             }
            },
            "type": "scattergl"
           }
          ],
          "scattermap": [
           {
            "marker": {
             "colorbar": {
              "outlinewidth": 0,
              "ticks": ""
             }
            },
            "type": "scattermap"
           }
          ],
          "scattermapbox": [
           {
            "marker": {
             "colorbar": {
              "outlinewidth": 0,
              "ticks": ""
             }
            },
            "type": "scattermapbox"
           }
          ],
          "scatterpolar": [
           {
            "marker": {
             "colorbar": {
              "outlinewidth": 0,
              "ticks": ""
             }
            },
            "type": "scatterpolar"
           }
          ],
          "scatterpolargl": [
           {
            "marker": {
             "colorbar": {
              "outlinewidth": 0,
              "ticks": ""
             }
            },
            "type": "scatterpolargl"
           }
          ],
          "scatterternary": [
           {
            "marker": {
             "colorbar": {
              "outlinewidth": 0,
              "ticks": ""
             }
            },
            "type": "scatterternary"
           }
          ],
          "surface": [
           {
            "colorbar": {
             "outlinewidth": 0,
             "ticks": ""
            },
            "colorscale": [
             [
              0,
              "#0d0887"
             ],
             [
              0.1111111111111111,
              "#46039f"
             ],
             [
              0.2222222222222222,
              "#7201a8"
             ],
             [
              0.3333333333333333,
              "#9c179e"
             ],
             [
              0.4444444444444444,
              "#bd3786"
             ],
             [
              0.5555555555555556,
              "#d8576b"
             ],
             [
              0.6666666666666666,
              "#ed7953"
             ],
             [
              0.7777777777777778,
              "#fb9f3a"
             ],
             [
              0.8888888888888888,
              "#fdca26"
             ],
             [
              1,
              "#f0f921"
             ]
            ],
            "type": "surface"
           }
          ],
          "table": [
           {
            "cells": {
             "fill": {
              "color": "#EBF0F8"
             },
             "line": {
              "color": "white"
             }
            },
            "header": {
             "fill": {
              "color": "#C8D4E3"
             },
             "line": {
              "color": "white"
             }
            },
            "type": "table"
           }
          ]
         },
         "layout": {
          "annotationdefaults": {
           "arrowcolor": "#2a3f5f",
           "arrowhead": 0,
           "arrowwidth": 1
          },
          "autotypenumbers": "strict",
          "coloraxis": {
           "colorbar": {
            "outlinewidth": 0,
            "ticks": ""
           }
          },
          "colorscale": {
           "diverging": [
            [
             0,
             "#8e0152"
            ],
            [
             0.1,
             "#c51b7d"
            ],
            [
             0.2,
             "#de77ae"
            ],
            [
             0.3,
             "#f1b6da"
            ],
            [
             0.4,
             "#fde0ef"
            ],
            [
             0.5,
             "#f7f7f7"
            ],
            [
             0.6,
             "#e6f5d0"
            ],
            [
             0.7,
             "#b8e186"
            ],
            [
             0.8,
             "#7fbc41"
            ],
            [
             0.9,
             "#4d9221"
            ],
            [
             1,
             "#276419"
            ]
           ],
           "sequential": [
            [
             0,
             "#0d0887"
            ],
            [
             0.1111111111111111,
             "#46039f"
            ],
            [
             0.2222222222222222,
             "#7201a8"
            ],
            [
             0.3333333333333333,
             "#9c179e"
            ],
            [
             0.4444444444444444,
             "#bd3786"
            ],
            [
             0.5555555555555556,
             "#d8576b"
            ],
            [
             0.6666666666666666,
             "#ed7953"
            ],
            [
             0.7777777777777778,
             "#fb9f3a"
            ],
            [
             0.8888888888888888,
             "#fdca26"
            ],
            [
             1,
             "#f0f921"
            ]
           ],
           "sequentialminus": [
            [
             0,
             "#0d0887"
            ],
            [
             0.1111111111111111,
             "#46039f"
            ],
            [
             0.2222222222222222,
             "#7201a8"
            ],
            [
             0.3333333333333333,
             "#9c179e"
            ],
            [
             0.4444444444444444,
             "#bd3786"
            ],
            [
             0.5555555555555556,
             "#d8576b"
            ],
            [
             0.6666666666666666,
             "#ed7953"
            ],
            [
             0.7777777777777778,
             "#fb9f3a"
            ],
            [
             0.8888888888888888,
             "#fdca26"
            ],
            [
             1,
             "#f0f921"
            ]
           ]
          },
          "colorway": [
           "#636efa",
           "#EF553B",
           "#00cc96",
           "#ab63fa",
           "#FFA15A",
           "#19d3f3",
           "#FF6692",
           "#B6E880",
           "#FF97FF",
           "#FECB52"
          ],
          "font": {
           "color": "#2a3f5f"
          },
          "geo": {
           "bgcolor": "white",
           "lakecolor": "white",
           "landcolor": "#E5ECF6",
           "showlakes": true,
           "showland": true,
           "subunitcolor": "white"
          },
          "hoverlabel": {
           "align": "left"
          },
          "hovermode": "closest",
          "mapbox": {
           "style": "light"
          },
          "paper_bgcolor": "white",
          "plot_bgcolor": "#E5ECF6",
          "polar": {
           "angularaxis": {
            "gridcolor": "white",
            "linecolor": "white",
            "ticks": ""
           },
           "bgcolor": "#E5ECF6",
           "radialaxis": {
            "gridcolor": "white",
            "linecolor": "white",
            "ticks": ""
           }
          },
          "scene": {
           "xaxis": {
            "backgroundcolor": "#E5ECF6",
            "gridcolor": "white",
            "gridwidth": 2,
            "linecolor": "white",
            "showbackground": true,
            "ticks": "",
            "zerolinecolor": "white"
           },
           "yaxis": {
            "backgroundcolor": "#E5ECF6",
            "gridcolor": "white",
            "gridwidth": 2,
            "linecolor": "white",
            "showbackground": true,
            "ticks": "",
            "zerolinecolor": "white"
           },
           "zaxis": {
            "backgroundcolor": "#E5ECF6",
            "gridcolor": "white",
            "gridwidth": 2,
            "linecolor": "white",
            "showbackground": true,
            "ticks": "",
            "zerolinecolor": "white"
           }
          },
          "shapedefaults": {
           "line": {
            "color": "#2a3f5f"
           }
          },
          "ternary": {
           "aaxis": {
            "gridcolor": "white",
            "linecolor": "white",
            "ticks": ""
           },
           "baxis": {
            "gridcolor": "white",
            "linecolor": "white",
            "ticks": ""
           },
           "bgcolor": "#E5ECF6",
           "caxis": {
            "gridcolor": "white",
            "linecolor": "white",
            "ticks": ""
           }
          },
          "title": {
           "x": 0.05
          },
          "xaxis": {
           "automargin": true,
           "gridcolor": "white",
           "linecolor": "white",
           "ticks": "",
           "title": {
            "standoff": 15
           },
           "zerolinecolor": "white",
           "zerolinewidth": 2
          },
          "yaxis": {
           "automargin": true,
           "gridcolor": "white",
           "linecolor": "white",
           "ticks": "",
           "title": {
            "standoff": 15
           },
           "zerolinecolor": "white",
           "zerolinewidth": 2
          }
         }
        },
        "xaxis": {
         "anchor": "y",
         "domain": [
          0,
          1
         ],
         "title": {
          "text": "# Components"
         }
        },
        "yaxis": {
         "anchor": "x",
         "domain": [
          0,
          1
         ],
         "title": {
          "text": "Explained Variance"
         }
        }
       }
      }
     },
     "metadata": {},
     "output_type": "display_data"
    }
   ],
   "source": [
    "import plotly.express as px\n",
    "\n",
    "px.area(\n",
    "    x=range(1, PVE_acum.shape[0] + 1),\n",
    "    y=PVE_acum,\n",
    "    labels={\"x\": \"# Components\", \"y\": \"Explained Variance\"}\n",
    ")"
   ]
  },
  {
   "cell_type": "code",
   "execution_count": 54,
   "id": "6fa33164",
   "metadata": {},
   "outputs": [
    {
     "name": "stdout",
     "output_type": "stream",
     "text": [
      "Proporción de Varianza Explicada por componente:\n",
      "PC1: 0.6823 (68.23%)\n",
      "PC2: 0.1788 (17.88%)\n",
      "PC3: 0.1312 (13.12%)\n",
      "PC4: 0.0078 (0.78%)\n"
     ]
    }
   ],
   "source": [
    "# Proporción de varianza explicada por cada componente\n",
    "PVE = pca.explained_variance_ratio_\n",
    "print(\"Proporción de Varianza Explicada por componente:\")\n",
    "for i, var in enumerate(PVE):\n",
    "    print(f\"PC{i+1}: {var:.4f} ({var*100:.2f}%)\")"
   ]
  },
  {
   "cell_type": "markdown",
   "id": "6877d007",
   "metadata": {},
   "source": [
    "## Guardamos los datos con reducción dimensional"
   ]
  },
  {
   "cell_type": "code",
   "execution_count": 55,
   "id": "bde4350f",
   "metadata": {},
   "outputs": [
    {
     "name": "stdout",
     "output_type": "stream",
     "text": [
      "(244103, 4)\n"
     ]
    },
    {
     "name": "stdout",
     "output_type": "stream",
     "text": [
      "(244103, 4)\n"
     ]
    },
    {
     "data": {
      "text/html": [
       "<div>\n",
       "<style scoped>\n",
       "    .dataframe tbody tr th:only-of-type {\n",
       "        vertical-align: middle;\n",
       "    }\n",
       "\n",
       "    .dataframe tbody tr th {\n",
       "        vertical-align: top;\n",
       "    }\n",
       "\n",
       "    .dataframe thead th {\n",
       "        text-align: right;\n",
       "    }\n",
       "</style>\n",
       "<table border=\"1\" class=\"dataframe\">\n",
       "  <thead>\n",
       "    <tr style=\"text-align: right;\">\n",
       "      <th></th>\n",
       "      <th>PC1</th>\n",
       "      <th>PC2</th>\n",
       "      <th>PC3</th>\n",
       "      <th>PC4</th>\n",
       "    </tr>\n",
       "  </thead>\n",
       "  <tbody>\n",
       "    <tr>\n",
       "      <th>0</th>\n",
       "      <td>1.088618</td>\n",
       "      <td>1.047647</td>\n",
       "      <td>-0.164519</td>\n",
       "      <td>-0.076925</td>\n",
       "    </tr>\n",
       "    <tr>\n",
       "      <th>1</th>\n",
       "      <td>-1.206239</td>\n",
       "      <td>-1.044236</td>\n",
       "      <td>0.297578</td>\n",
       "      <td>-0.048802</td>\n",
       "    </tr>\n",
       "    <tr>\n",
       "      <th>2</th>\n",
       "      <td>1.268563</td>\n",
       "      <td>0.054411</td>\n",
       "      <td>-0.236542</td>\n",
       "      <td>-0.072317</td>\n",
       "    </tr>\n",
       "    <tr>\n",
       "      <th>3</th>\n",
       "      <td>-1.224823</td>\n",
       "      <td>0.958742</td>\n",
       "      <td>0.511973</td>\n",
       "      <td>0.166181</td>\n",
       "    </tr>\n",
       "    <tr>\n",
       "      <th>4</th>\n",
       "      <td>-0.825177</td>\n",
       "      <td>-0.027313</td>\n",
       "      <td>0.067194</td>\n",
       "      <td>-0.153205</td>\n",
       "    </tr>\n",
       "    <tr>\n",
       "      <th>...</th>\n",
       "      <td>...</td>\n",
       "      <td>...</td>\n",
       "      <td>...</td>\n",
       "      <td>...</td>\n",
       "    </tr>\n",
       "    <tr>\n",
       "      <th>251812</th>\n",
       "      <td>-0.660149</td>\n",
       "      <td>-1.020660</td>\n",
       "      <td>0.002905</td>\n",
       "      <td>-0.128063</td>\n",
       "    </tr>\n",
       "    <tr>\n",
       "      <th>251813</th>\n",
       "      <td>0.321354</td>\n",
       "      <td>-0.982043</td>\n",
       "      <td>-0.231749</td>\n",
       "      <td>-0.156260</td>\n",
       "    </tr>\n",
       "    <tr>\n",
       "      <th>251814</th>\n",
       "      <td>1.102340</td>\n",
       "      <td>1.050815</td>\n",
       "      <td>-0.035953</td>\n",
       "      <td>0.124269</td>\n",
       "    </tr>\n",
       "    <tr>\n",
       "      <th>251815</th>\n",
       "      <td>0.085479</td>\n",
       "      <td>1.008191</td>\n",
       "      <td>0.083338</td>\n",
       "      <td>-0.041022</td>\n",
       "    </tr>\n",
       "    <tr>\n",
       "      <th>251816</th>\n",
       "      <td>0.416014</td>\n",
       "      <td>0.019107</td>\n",
       "      <td>-0.114820</td>\n",
       "      <td>-0.177722</td>\n",
       "    </tr>\n",
       "  </tbody>\n",
       "</table>\n",
       "<p>244103 rows × 4 columns</p>\n",
       "</div>"
      ],
      "text/plain": [
       "             PC1       PC2       PC3       PC4\n",
       "0       1.088618  1.047647 -0.164519 -0.076925\n",
       "1      -1.206239 -1.044236  0.297578 -0.048802\n",
       "2       1.268563  0.054411 -0.236542 -0.072317\n",
       "3      -1.224823  0.958742  0.511973  0.166181\n",
       "4      -0.825177 -0.027313  0.067194 -0.153205\n",
       "...          ...       ...       ...       ...\n",
       "251812 -0.660149 -1.020660  0.002905 -0.128063\n",
       "251813  0.321354 -0.982043 -0.231749 -0.156260\n",
       "251814  1.102340  1.050815 -0.035953  0.124269\n",
       "251815  0.085479  1.008191  0.083338 -0.041022\n",
       "251816  0.416014  0.019107 -0.114820 -0.177722\n",
       "\n",
       "[244103 rows x 4 columns]"
      ]
     },
     "execution_count": 55,
     "metadata": {},
     "output_type": "execute_result"
    }
   ],
   "source": [
    "print(datos_pca.shape)\n",
    "datos_pca"
   ]
  },
  {
   "cell_type": "code",
   "execution_count": 56,
   "id": "cca7a717",
   "metadata": {},
   "outputs": [
    {
     "name": "stdout",
     "output_type": "stream",
     "text": [
      "(244103, 100)\n"
     ]
    },
    {
     "data": {
      "text/html": [
       "<div>\n",
       "<style scoped>\n",
       "    .dataframe tbody tr th:only-of-type {\n",
       "        vertical-align: middle;\n",
       "    }\n",
       "\n",
       "    .dataframe tbody tr th {\n",
       "        vertical-align: top;\n",
       "    }\n",
       "\n",
       "    .dataframe thead th {\n",
       "        text-align: right;\n",
       "    }\n",
       "</style>\n",
       "<table border=\"1\" class=\"dataframe\">\n",
       "  <thead>\n",
       "    <tr style=\"text-align: right;\">\n",
       "      <th></th>\n",
       "      <th>anios_desde_inscripcion</th>\n",
       "      <th>valor_adquisicion_scaled</th>\n",
       "      <th>valor_referencial_scaled</th>\n",
       "      <th>base_imponible_scaled</th>\n",
       "      <th>propiedad_100%</th>\n",
       "      <th>propiedad_&lt;100%</th>\n",
       "      <th>tipo_persona_juridica</th>\n",
       "      <th>tipo_persona_menores_edad</th>\n",
       "      <th>tipo_persona_natural</th>\n",
       "      <th>tipo_persona_soc_conyugal</th>\n",
       "      <th>...</th>\n",
       "      <th>marca_agrupada_MERCEDES BENZ</th>\n",
       "      <th>marca_agrupada_MG</th>\n",
       "      <th>marca_agrupada_MITSUBISHI</th>\n",
       "      <th>marca_agrupada_NISSAN</th>\n",
       "      <th>marca_agrupada_OTROS</th>\n",
       "      <th>marca_agrupada_SUBARU</th>\n",
       "      <th>marca_agrupada_SUZUKI</th>\n",
       "      <th>marca_agrupada_TOYOTA</th>\n",
       "      <th>marca_agrupada_VOLKSWAGEN</th>\n",
       "      <th>marca_agrupada_VOLVO</th>\n",
       "    </tr>\n",
       "  </thead>\n",
       "  <tbody>\n",
       "    <tr>\n",
       "      <th>0</th>\n",
       "      <td>3</td>\n",
       "      <td>0.780557</td>\n",
       "      <td>0.808453</td>\n",
       "      <td>0.770073</td>\n",
       "      <td>True</td>\n",
       "      <td>False</td>\n",
       "      <td>False</td>\n",
       "      <td>False</td>\n",
       "      <td>True</td>\n",
       "      <td>False</td>\n",
       "      <td>...</td>\n",
       "      <td>False</td>\n",
       "      <td>False</td>\n",
       "      <td>False</td>\n",
       "      <td>False</td>\n",
       "      <td>False</td>\n",
       "      <td>False</td>\n",
       "      <td>False</td>\n",
       "      <td>False</td>\n",
       "      <td>False</td>\n",
       "      <td>False</td>\n",
       "    </tr>\n",
       "    <tr>\n",
       "      <th>1</th>\n",
       "      <td>1</td>\n",
       "      <td>-0.619207</td>\n",
       "      <td>-0.543770</td>\n",
       "      <td>-0.668268</td>\n",
       "      <td>True</td>\n",
       "      <td>False</td>\n",
       "      <td>False</td>\n",
       "      <td>False</td>\n",
       "      <td>True</td>\n",
       "      <td>False</td>\n",
       "      <td>...</td>\n",
       "      <td>False</td>\n",
       "      <td>False</td>\n",
       "      <td>False</td>\n",
       "      <td>False</td>\n",
       "      <td>False</td>\n",
       "      <td>False</td>\n",
       "      <td>False</td>\n",
       "      <td>False</td>\n",
       "      <td>False</td>\n",
       "      <td>False</td>\n",
       "    </tr>\n",
       "    <tr>\n",
       "      <th>2</th>\n",
       "      <td>2</td>\n",
       "      <td>0.856667</td>\n",
       "      <td>0.918894</td>\n",
       "      <td>0.848280</td>\n",
       "      <td>True</td>\n",
       "      <td>False</td>\n",
       "      <td>False</td>\n",
       "      <td>False</td>\n",
       "      <td>True</td>\n",
       "      <td>False</td>\n",
       "      <td>...</td>\n",
       "      <td>False</td>\n",
       "      <td>False</td>\n",
       "      <td>False</td>\n",
       "      <td>False</td>\n",
       "      <td>True</td>\n",
       "      <td>False</td>\n",
       "      <td>False</td>\n",
       "      <td>False</td>\n",
       "      <td>False</td>\n",
       "      <td>False</td>\n",
       "    </tr>\n",
       "    <tr>\n",
       "      <th>3</th>\n",
       "      <td>3</td>\n",
       "      <td>-0.483356</td>\n",
       "      <td>-0.801653</td>\n",
       "      <td>-0.528673</td>\n",
       "      <td>True</td>\n",
       "      <td>False</td>\n",
       "      <td>False</td>\n",
       "      <td>False</td>\n",
       "      <td>False</td>\n",
       "      <td>True</td>\n",
       "      <td>...</td>\n",
       "      <td>False</td>\n",
       "      <td>False</td>\n",
       "      <td>False</td>\n",
       "      <td>False</td>\n",
       "      <td>False</td>\n",
       "      <td>False</td>\n",
       "      <td>False</td>\n",
       "      <td>False</td>\n",
       "      <td>False</td>\n",
       "      <td>False</td>\n",
       "    </tr>\n",
       "    <tr>\n",
       "      <th>4</th>\n",
       "      <td>2</td>\n",
       "      <td>-0.479917</td>\n",
       "      <td>-0.158573</td>\n",
       "      <td>-0.393425</td>\n",
       "      <td>True</td>\n",
       "      <td>False</td>\n",
       "      <td>False</td>\n",
       "      <td>False</td>\n",
       "      <td>True</td>\n",
       "      <td>False</td>\n",
       "      <td>...</td>\n",
       "      <td>False</td>\n",
       "      <td>False</td>\n",
       "      <td>False</td>\n",
       "      <td>False</td>\n",
       "      <td>False</td>\n",
       "      <td>False</td>\n",
       "      <td>False</td>\n",
       "      <td>False</td>\n",
       "      <td>False</td>\n",
       "      <td>False</td>\n",
       "    </tr>\n",
       "    <tr>\n",
       "      <th>...</th>\n",
       "      <td>...</td>\n",
       "      <td>...</td>\n",
       "      <td>...</td>\n",
       "      <td>...</td>\n",
       "      <td>...</td>\n",
       "      <td>...</td>\n",
       "      <td>...</td>\n",
       "      <td>...</td>\n",
       "      <td>...</td>\n",
       "      <td>...</td>\n",
       "      <td>...</td>\n",
       "      <td>...</td>\n",
       "      <td>...</td>\n",
       "      <td>...</td>\n",
       "      <td>...</td>\n",
       "      <td>...</td>\n",
       "      <td>...</td>\n",
       "      <td>...</td>\n",
       "      <td>...</td>\n",
       "      <td>...</td>\n",
       "      <td>...</td>\n",
       "    </tr>\n",
       "    <tr>\n",
       "      <th>251812</th>\n",
       "      <td>1</td>\n",
       "      <td>-0.410630</td>\n",
       "      <td>-0.073511</td>\n",
       "      <td>-0.311566</td>\n",
       "      <td>True</td>\n",
       "      <td>False</td>\n",
       "      <td>False</td>\n",
       "      <td>False</td>\n",
       "      <td>True</td>\n",
       "      <td>False</td>\n",
       "      <td>...</td>\n",
       "      <td>False</td>\n",
       "      <td>False</td>\n",
       "      <td>False</td>\n",
       "      <td>False</td>\n",
       "      <td>True</td>\n",
       "      <td>False</td>\n",
       "      <td>False</td>\n",
       "      <td>False</td>\n",
       "      <td>False</td>\n",
       "      <td>False</td>\n",
       "    </tr>\n",
       "    <tr>\n",
       "      <th>251813</th>\n",
       "      <td>1</td>\n",
       "      <td>0.157114</td>\n",
       "      <td>0.528632</td>\n",
       "      <td>0.267907</td>\n",
       "      <td>False</td>\n",
       "      <td>True</td>\n",
       "      <td>False</td>\n",
       "      <td>False</td>\n",
       "      <td>True</td>\n",
       "      <td>False</td>\n",
       "      <td>...</td>\n",
       "      <td>False</td>\n",
       "      <td>False</td>\n",
       "      <td>False</td>\n",
       "      <td>False</td>\n",
       "      <td>False</td>\n",
       "      <td>False</td>\n",
       "      <td>False</td>\n",
       "      <td>False</td>\n",
       "      <td>False</td>\n",
       "      <td>False</td>\n",
       "    </tr>\n",
       "    <tr>\n",
       "      <th>251814</th>\n",
       "      <td>3</td>\n",
       "      <td>0.867221</td>\n",
       "      <td>0.604086</td>\n",
       "      <td>0.859125</td>\n",
       "      <td>True</td>\n",
       "      <td>False</td>\n",
       "      <td>False</td>\n",
       "      <td>False</td>\n",
       "      <td>True</td>\n",
       "      <td>False</td>\n",
       "      <td>...</td>\n",
       "      <td>False</td>\n",
       "      <td>False</td>\n",
       "      <td>False</td>\n",
       "      <td>False</td>\n",
       "      <td>False</td>\n",
       "      <td>False</td>\n",
       "      <td>False</td>\n",
       "      <td>True</td>\n",
       "      <td>False</td>\n",
       "      <td>False</td>\n",
       "    </tr>\n",
       "    <tr>\n",
       "      <th>251815</th>\n",
       "      <td>3</td>\n",
       "      <td>0.205350</td>\n",
       "      <td>0.183669</td>\n",
       "      <td>0.179013</td>\n",
       "      <td>True</td>\n",
       "      <td>False</td>\n",
       "      <td>False</td>\n",
       "      <td>False</td>\n",
       "      <td>True</td>\n",
       "      <td>False</td>\n",
       "      <td>...</td>\n",
       "      <td>False</td>\n",
       "      <td>False</td>\n",
       "      <td>False</td>\n",
       "      <td>True</td>\n",
       "      <td>False</td>\n",
       "      <td>False</td>\n",
       "      <td>False</td>\n",
       "      <td>False</td>\n",
       "      <td>False</td>\n",
       "      <td>False</td>\n",
       "    </tr>\n",
       "    <tr>\n",
       "      <th>251816</th>\n",
       "      <td>2</td>\n",
       "      <td>0.314708</td>\n",
       "      <td>0.531386</td>\n",
       "      <td>0.291385</td>\n",
       "      <td>True</td>\n",
       "      <td>False</td>\n",
       "      <td>False</td>\n",
       "      <td>False</td>\n",
       "      <td>False</td>\n",
       "      <td>True</td>\n",
       "      <td>...</td>\n",
       "      <td>False</td>\n",
       "      <td>False</td>\n",
       "      <td>False</td>\n",
       "      <td>False</td>\n",
       "      <td>False</td>\n",
       "      <td>False</td>\n",
       "      <td>False</td>\n",
       "      <td>False</td>\n",
       "      <td>True</td>\n",
       "      <td>False</td>\n",
       "    </tr>\n",
       "  </tbody>\n",
       "</table>\n",
       "<p>244103 rows × 100 columns</p>\n",
       "</div>"
      ],
      "text/plain": [
       "        anios_desde_inscripcion  valor_adquisicion_scaled  \\\n",
       "0                             3                  0.780557   \n",
       "1                             1                 -0.619207   \n",
       "2                             2                  0.856667   \n",
       "3                             3                 -0.483356   \n",
       "4                             2                 -0.479917   \n",
       "...                         ...                       ...   \n",
       "251812                        1                 -0.410630   \n",
       "251813                        1                  0.157114   \n",
       "251814                        3                  0.867221   \n",
       "251815                        3                  0.205350   \n",
       "251816                        2                  0.314708   \n",
       "\n",
       "        valor_referencial_scaled  base_imponible_scaled  propiedad_100%  \\\n",
       "0                       0.808453               0.770073            True   \n",
       "1                      -0.543770              -0.668268            True   \n",
       "2                       0.918894               0.848280            True   \n",
       "3                      -0.801653              -0.528673            True   \n",
       "4                      -0.158573              -0.393425            True   \n",
       "...                          ...                    ...             ...   \n",
       "251812                 -0.073511              -0.311566            True   \n",
       "251813                  0.528632               0.267907           False   \n",
       "251814                  0.604086               0.859125            True   \n",
       "251815                  0.183669               0.179013            True   \n",
       "251816                  0.531386               0.291385            True   \n",
       "\n",
       "        propiedad_<100%  tipo_persona_juridica  tipo_persona_menores_edad  \\\n",
       "0                 False                  False                      False   \n",
       "1                 False                  False                      False   \n",
       "2                 False                  False                      False   \n",
       "3                 False                  False                      False   \n",
       "4                 False                  False                      False   \n",
       "...                 ...                    ...                        ...   \n",
       "251812            False                  False                      False   \n",
       "251813             True                  False                      False   \n",
       "251814            False                  False                      False   \n",
       "251815            False                  False                      False   \n",
       "251816            False                  False                      False   \n",
       "\n",
       "        tipo_persona_natural  tipo_persona_soc_conyugal  ...  \\\n",
       "0                       True                      False  ...   \n",
       "1                       True                      False  ...   \n",
       "2                       True                      False  ...   \n",
       "3                      False                       True  ...   \n",
       "4                       True                      False  ...   \n",
       "...                      ...                        ...  ...   \n",
       "251812                  True                      False  ...   \n",
       "251813                  True                      False  ...   \n",
       "251814                  True                      False  ...   \n",
       "251815                  True                      False  ...   \n",
       "251816                 False                       True  ...   \n",
       "\n",
       "        marca_agrupada_MERCEDES BENZ  marca_agrupada_MG  \\\n",
       "0                              False              False   \n",
       "1                              False              False   \n",
       "2                              False              False   \n",
       "3                              False              False   \n",
       "4                              False              False   \n",
       "...                              ...                ...   \n",
       "251812                         False              False   \n",
       "251813                         False              False   \n",
       "251814                         False              False   \n",
       "251815                         False              False   \n",
       "251816                         False              False   \n",
       "\n",
       "        marca_agrupada_MITSUBISHI  marca_agrupada_NISSAN  \\\n",
       "0                           False                  False   \n",
       "1                           False                  False   \n",
       "2                           False                  False   \n",
       "3                           False                  False   \n",
       "4                           False                  False   \n",
       "...                           ...                    ...   \n",
       "251812                      False                  False   \n",
       "251813                      False                  False   \n",
       "251814                      False                  False   \n",
       "251815                      False                   True   \n",
       "251816                      False                  False   \n",
       "\n",
       "        marca_agrupada_OTROS  marca_agrupada_SUBARU  marca_agrupada_SUZUKI  \\\n",
       "0                      False                  False                  False   \n",
       "1                      False                  False                  False   \n",
       "2                       True                  False                  False   \n",
       "3                      False                  False                  False   \n",
       "4                      False                  False                  False   \n",
       "...                      ...                    ...                    ...   \n",
       "251812                  True                  False                  False   \n",
       "251813                 False                  False                  False   \n",
       "251814                 False                  False                  False   \n",
       "251815                 False                  False                  False   \n",
       "251816                 False                  False                  False   \n",
       "\n",
       "        marca_agrupada_TOYOTA  marca_agrupada_VOLKSWAGEN  marca_agrupada_VOLVO  \n",
       "0                       False                      False                 False  \n",
       "1                       False                      False                 False  \n",
       "2                       False                      False                 False  \n",
       "3                       False                      False                 False  \n",
       "4                       False                      False                 False  \n",
       "...                       ...                        ...                   ...  \n",
       "251812                  False                      False                 False  \n",
       "251813                  False                      False                 False  \n",
       "251814                   True                      False                 False  \n",
       "251815                  False                      False                 False  \n",
       "251816                  False                       True                 False  \n",
       "\n",
       "[244103 rows x 100 columns]"
      ]
     },
     "execution_count": 56,
     "metadata": {},
     "output_type": "execute_result"
    }
   ],
   "source": [
    "print(df.shape)\n",
    "df"
   ]
  },
  {
   "cell_type": "code",
   "execution_count": 57,
   "id": "2bd1e10a",
   "metadata": {},
   "outputs": [
    {
     "data": {
      "text/plain": [
       "array(['anios_desde_inscripcion', 'valor_adquisicion_scaled',\n",
       "       'valor_referencial_scaled', 'base_imponible_scaled'], dtype=object)"
      ]
     },
     "execution_count": 57,
     "metadata": {},
     "output_type": "execute_result"
    }
   ],
   "source": [
    "numerical"
   ]
  },
  {
   "cell_type": "code",
   "execution_count": null,
   "id": "37a87fa4",
   "metadata": {},
   "outputs": [
    {
     "name": "stdout",
     "output_type": "stream",
     "text": [
      "(244103, 99)\n"
     ]
    },
    {
     "data": {
      "text/html": [
       "<div>\n",
       "<style scoped>\n",
       "    .dataframe tbody tr th:only-of-type {\n",
       "        vertical-align: middle;\n",
       "    }\n",
       "\n",
       "    .dataframe tbody tr th {\n",
       "        vertical-align: top;\n",
       "    }\n",
       "\n",
       "    .dataframe thead th {\n",
       "        text-align: right;\n",
       "    }\n",
       "</style>\n",
       "<table border=\"1\" class=\"dataframe\">\n",
       "  <thead>\n",
       "    <tr style=\"text-align: right;\">\n",
       "      <th></th>\n",
       "      <th>propiedad_100%</th>\n",
       "      <th>propiedad_&lt;100%</th>\n",
       "      <th>tipo_persona_juridica</th>\n",
       "      <th>tipo_persona_menores_edad</th>\n",
       "      <th>tipo_persona_natural</th>\n",
       "      <th>tipo_persona_soc_conyugal</th>\n",
       "      <th>tipo_persona_soc_irregular</th>\n",
       "      <th>tipo_persona_suc_indivisa</th>\n",
       "      <th>tipo_contribuyente_grande</th>\n",
       "      <th>tipo_contribuyente_mediano</th>\n",
       "      <th>...</th>\n",
       "      <th>marca_agrupada_NISSAN</th>\n",
       "      <th>marca_agrupada_OTROS</th>\n",
       "      <th>marca_agrupada_SUBARU</th>\n",
       "      <th>marca_agrupada_SUZUKI</th>\n",
       "      <th>marca_agrupada_TOYOTA</th>\n",
       "      <th>marca_agrupada_VOLKSWAGEN</th>\n",
       "      <th>marca_agrupada_VOLVO</th>\n",
       "      <th>PC1</th>\n",
       "      <th>PC2</th>\n",
       "      <th>PC3</th>\n",
       "    </tr>\n",
       "  </thead>\n",
       "  <tbody>\n",
       "    <tr>\n",
       "      <th>0</th>\n",
       "      <td>True</td>\n",
       "      <td>False</td>\n",
       "      <td>False</td>\n",
       "      <td>False</td>\n",
       "      <td>True</td>\n",
       "      <td>False</td>\n",
       "      <td>False</td>\n",
       "      <td>False</td>\n",
       "      <td>False</td>\n",
       "      <td>False</td>\n",
       "      <td>...</td>\n",
       "      <td>False</td>\n",
       "      <td>False</td>\n",
       "      <td>False</td>\n",
       "      <td>False</td>\n",
       "      <td>False</td>\n",
       "      <td>False</td>\n",
       "      <td>False</td>\n",
       "      <td>1.088618</td>\n",
       "      <td>1.047647</td>\n",
       "      <td>-0.164519</td>\n",
       "    </tr>\n",
       "    <tr>\n",
       "      <th>1</th>\n",
       "      <td>True</td>\n",
       "      <td>False</td>\n",
       "      <td>False</td>\n",
       "      <td>False</td>\n",
       "      <td>True</td>\n",
       "      <td>False</td>\n",
       "      <td>False</td>\n",
       "      <td>False</td>\n",
       "      <td>False</td>\n",
       "      <td>False</td>\n",
       "      <td>...</td>\n",
       "      <td>False</td>\n",
       "      <td>False</td>\n",
       "      <td>False</td>\n",
       "      <td>False</td>\n",
       "      <td>False</td>\n",
       "      <td>False</td>\n",
       "      <td>False</td>\n",
       "      <td>-1.206239</td>\n",
       "      <td>-1.044236</td>\n",
       "      <td>0.297578</td>\n",
       "    </tr>\n",
       "    <tr>\n",
       "      <th>2</th>\n",
       "      <td>True</td>\n",
       "      <td>False</td>\n",
       "      <td>False</td>\n",
       "      <td>False</td>\n",
       "      <td>True</td>\n",
       "      <td>False</td>\n",
       "      <td>False</td>\n",
       "      <td>False</td>\n",
       "      <td>False</td>\n",
       "      <td>False</td>\n",
       "      <td>...</td>\n",
       "      <td>False</td>\n",
       "      <td>True</td>\n",
       "      <td>False</td>\n",
       "      <td>False</td>\n",
       "      <td>False</td>\n",
       "      <td>False</td>\n",
       "      <td>False</td>\n",
       "      <td>1.268563</td>\n",
       "      <td>0.054411</td>\n",
       "      <td>-0.236542</td>\n",
       "    </tr>\n",
       "  </tbody>\n",
       "</table>\n",
       "<p>3 rows × 99 columns</p>\n",
       "</div>"
      ],
      "text/plain": [
       "   propiedad_100%  propiedad_<100%  tipo_persona_juridica  \\\n",
       "0            True            False                  False   \n",
       "1            True            False                  False   \n",
       "2            True            False                  False   \n",
       "\n",
       "   tipo_persona_menores_edad  tipo_persona_natural  tipo_persona_soc_conyugal  \\\n",
       "0                      False                  True                      False   \n",
       "1                      False                  True                      False   \n",
       "2                      False                  True                      False   \n",
       "\n",
       "   tipo_persona_soc_irregular  tipo_persona_suc_indivisa  \\\n",
       "0                       False                      False   \n",
       "1                       False                      False   \n",
       "2                       False                      False   \n",
       "\n",
       "   tipo_contribuyente_grande  tipo_contribuyente_mediano  ...  \\\n",
       "0                      False                       False  ...   \n",
       "1                      False                       False  ...   \n",
       "2                      False                       False  ...   \n",
       "\n",
       "   marca_agrupada_NISSAN  marca_agrupada_OTROS  marca_agrupada_SUBARU  \\\n",
       "0                  False                 False                  False   \n",
       "1                  False                 False                  False   \n",
       "2                  False                  True                  False   \n",
       "\n",
       "   marca_agrupada_SUZUKI  marca_agrupada_TOYOTA  marca_agrupada_VOLKSWAGEN  \\\n",
       "0                  False                  False                      False   \n",
       "1                  False                  False                      False   \n",
       "2                  False                  False                      False   \n",
       "\n",
       "   marca_agrupada_VOLVO       PC1       PC2       PC3  \n",
       "0                 False  1.088618  1.047647 -0.164519  \n",
       "1                 False -1.206239 -1.044236  0.297578  \n",
       "2                 False  1.268563  0.054411 -0.236542  \n",
       "\n",
       "[3 rows x 99 columns]"
      ]
     },
     "execution_count": 58,
     "metadata": {},
     "output_type": "execute_result"
    }
   ],
   "source": [
    "datos_reducPCA = pd.concat([df.drop(numerical, axis=1), datos_pca.drop(['PC4'], axis=1)], axis=1)\n",
    "print(datos_reducPCA.shape)\n",
    "datos_reducPCA.head(3)"
   ]
  },
  {
   "cell_type": "code",
   "execution_count": 59,
   "id": "c04240fe",
   "metadata": {},
   "outputs": [],
   "source": [
    "datos_reducPCA.to_csv('datos_post_Step4b.csv', index=False, sep=',', encoding='utf-8')"
   ]
  },
  {
   "cell_type": "code",
   "execution_count": null,
   "id": "f7ed7b03",
   "metadata": {},
   "outputs": [],
   "source": []
  },
  {
   "cell_type": "code",
   "execution_count": null,
   "id": "d7931d46",
   "metadata": {},
   "outputs": [],
   "source": []
  },
  {
   "cell_type": "code",
   "execution_count": null,
   "id": "6883b335",
   "metadata": {},
   "outputs": [],
   "source": []
  },
  {
   "cell_type": "code",
   "execution_count": null,
   "id": "feb6b6d8",
   "metadata": {},
   "outputs": [],
   "source": []
  }
 ],
 "metadata": {
  "kernelspec": {
   "display_name": "datospucp",
   "language": "python",
   "name": "python3"
  },
  "language_info": {
   "codemirror_mode": {
    "name": "ipython",
    "version": 3
   },
   "file_extension": ".py",
   "mimetype": "text/x-python",
   "name": "python",
   "nbconvert_exporter": "python",
   "pygments_lexer": "ipython3",
   "version": "3.13.7"
  }
 },
 "nbformat": 4,
 "nbformat_minor": 5
}
